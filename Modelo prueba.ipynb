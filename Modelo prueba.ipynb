{
 "cells": [
  {
   "cell_type": "code",
   "execution_count": 152,
   "metadata": {
    "collapsed": true
   },
   "outputs": [],
   "source": [
    "import os\n",
    "import pandas as pd\n",
    "import numpy as np\n",
    "import matplotlib.pyplot as plt\n",
    "import seaborn as sns\n",
    "\n",
    "# \n",
    "from sklearn.model_selection import train_test_split\n",
    "from sklearn.model_selection import cross_val_score\n",
    "from sklearn import preprocessing\n",
    "\n",
    "# Librerías para métricas\n",
    "from sklearn import metrics\n",
    "from sklearn.metrics import confusion_matrix\n",
    "from sklearn.metrics import roc_auc_score\n",
    "from sklearn.metrics import roc_curve\n",
    "from sklearn.model_selection import learning_curve\n",
    "\n",
    "# Algoritmos\n",
    "from sklearn.linear_model import LogisticRegression\n",
    "import xgboost as xgb\n",
    "from xgboost import XGBClassifier\n",
    "from imblearn.over_sampling import SMOTE\n"
   ]
  },
  {
   "cell_type": "code",
   "execution_count": 153,
   "metadata": {
    "collapsed": true
   },
   "outputs": [],
   "source": [
    "os.chdir('D:/DS/Kaggle')"
   ]
  },
  {
   "cell_type": "markdown",
   "metadata": {},
   "source": [
    "### Carga de archivos de train y test"
   ]
  },
  {
   "cell_type": "code",
   "execution_count": 144,
   "metadata": {
    "collapsed": true
   },
   "outputs": [],
   "source": [
    "train = pd.read_csv('./train.csv')\n",
    "test = pd.read_csv('./test.csv')"
   ]
  },
  {
   "cell_type": "markdown",
   "metadata": {},
   "source": [
    "### Set de entrenamiento/testeo"
   ]
  },
  {
   "cell_type": "code",
   "execution_count": 156,
   "metadata": {},
   "outputs": [
    {
     "data": {
      "text/html": [
       "<div>\n",
       "<style>\n",
       "    .dataframe thead tr:only-child th {\n",
       "        text-align: right;\n",
       "    }\n",
       "\n",
       "    .dataframe thead th {\n",
       "        text-align: left;\n",
       "    }\n",
       "\n",
       "    .dataframe tbody tr th {\n",
       "        vertical-align: top;\n",
       "    }\n",
       "</style>\n",
       "<table border=\"1\" class=\"dataframe\">\n",
       "  <thead>\n",
       "    <tr style=\"text-align: right;\">\n",
       "      <th></th>\n",
       "      <th>USER_ID</th>\n",
       "      <th>session_count</th>\n",
       "      <th>prev_conversions</th>\n",
       "      <th>time_since_last_event</th>\n",
       "      <th>conversion</th>\n",
       "    </tr>\n",
       "  </thead>\n",
       "  <tbody>\n",
       "    <tr>\n",
       "      <th>0</th>\n",
       "      <td>0</td>\n",
       "      <td>545.777778</td>\n",
       "      <td>0</td>\n",
       "      <td>26186676.0</td>\n",
       "      <td>0</td>\n",
       "    </tr>\n",
       "    <tr>\n",
       "      <th>1</th>\n",
       "      <td>1</td>\n",
       "      <td>181.555556</td>\n",
       "      <td>0</td>\n",
       "      <td>26184088.0</td>\n",
       "      <td>0</td>\n",
       "    </tr>\n",
       "    <tr>\n",
       "      <th>2</th>\n",
       "      <td>2</td>\n",
       "      <td>190.777778</td>\n",
       "      <td>0</td>\n",
       "      <td>26432000.0</td>\n",
       "      <td>0</td>\n",
       "    </tr>\n",
       "    <tr>\n",
       "      <th>3</th>\n",
       "      <td>3</td>\n",
       "      <td>172.666667</td>\n",
       "      <td>0</td>\n",
       "      <td>26374481.0</td>\n",
       "      <td>0</td>\n",
       "    </tr>\n",
       "    <tr>\n",
       "      <th>4</th>\n",
       "      <td>4</td>\n",
       "      <td>275.333333</td>\n",
       "      <td>0</td>\n",
       "      <td>26438565.0</td>\n",
       "      <td>0</td>\n",
       "    </tr>\n",
       "  </tbody>\n",
       "</table>\n",
       "</div>"
      ],
      "text/plain": [
       "   USER_ID  session_count  prev_conversions  time_since_last_event  conversion\n",
       "0        0     545.777778                 0             26186676.0           0\n",
       "1        1     181.555556                 0             26184088.0           0\n",
       "2        2     190.777778                 0             26432000.0           0\n",
       "3        3     172.666667                 0             26374481.0           0\n",
       "4        4     275.333333                 0             26438565.0           0"
      ]
     },
     "execution_count": 156,
     "metadata": {},
     "output_type": "execute_result"
    }
   ],
   "source": [
    "train.head()"
   ]
  },
  {
   "cell_type": "code",
   "execution_count": 151,
   "metadata": {},
   "outputs": [
    {
     "name": "stdout",
     "output_type": "stream",
     "text": [
      "(8860, 4)\n",
      "(2216, 4)\n",
      "250\n",
      "57\n"
     ]
    }
   ],
   "source": [
    "X = train.drop('conversion',axis=1)\n",
    "y = train.loc[:,'conversion']\n",
    "\n",
    "X_train, X_test, y_train, y_test = train_test_split(X, y, test_size=0.20, random_state=0)\n",
    "\n",
    "print(X_train.shape)\n",
    "print(X_test.shape)\n",
    "print(y_train.sum())\n",
    "print(y_test.sum())"
   ]
  },
  {
   "cell_type": "markdown",
   "metadata": {},
   "source": [
    "## Funciones para evaluación y entrenamiento del modelo"
   ]
  },
  {
   "cell_type": "code",
   "execution_count": 146,
   "metadata": {},
   "outputs": [],
   "source": [
    "### Funciones para entrenamiento y evaluación de modelos\n",
    "def evaluate_model(y, pred, pred_prob):\n",
    "    # Making the Confusion Matrix\n",
    "    cm = confusion_matrix(y, pred)\n",
    "    fig= plt.figure(figsize=(4,2))\n",
    "    sns.heatmap(cm,cmap=\"coolwarm_r\",annot=True,linewidths=0.5, fmt='g')\n",
    "    plt.title(\"Confusion_matrix\")\n",
    "    plt.xlabel(\"Predicted_class\")\n",
    "    plt.ylabel(\"Real class\")\n",
    "    plt.show()\n",
    "\n",
    "    # Evaluamos el modelo\n",
    "    logit_roc_auc = roc_auc_score(y, pred)\n",
    "    fpr, tpr, thresholds = metrics.roc_curve(y, pred, pos_label=1)\n",
    "    plt.figure(figsize=(10,3))\n",
    "    plt.subplot(1, 2, 1)\n",
    "    plt.plot(fpr, tpr, label='AUC (area = %0.5f)' % logit_roc_auc)\n",
    "    plt.plot([0, 1], [0, 1],'r--')\n",
    "    plt.xlim([0.0, 1.0])\n",
    "    plt.ylim([0.0, 1.05])\n",
    "    plt.xlabel('False Positive Rate')\n",
    "    plt.ylabel('True Positive Rate')\n",
    "    plt.title('Receiver operating characteristic')\n",
    "    plt.legend(loc=\"lower right\")\n",
    "    plt.savefig('Log_ROC')\n",
    "    # plt.show()\n",
    "\n",
    "    # Evaluamos el modelo\n",
    "    logit_roc_auc = roc_auc_score(y, pred_prob)\n",
    "    fpr, tpr, thresholds = metrics.roc_curve(y, pred_prob, pos_label=1)\n",
    "    plt.subplot(1, 2, 2)\n",
    "    # plt.figure()\n",
    "    plt.plot(fpr, tpr, label='AUC (area = %0.5f)' % logit_roc_auc)\n",
    "    plt.plot([0, 1], [0, 1],'r--')\n",
    "    plt.xlim([0.0, 1.0])\n",
    "    plt.ylim([0.0, 1.05])\n",
    "    plt.xlabel('False Positive Rate')\n",
    "    plt.ylabel('True Positive Rate')\n",
    "    plt.title('Receiver operating characteristic')\n",
    "    plt.legend(loc=\"lower right\")\n",
    "    plt.savefig('Log_ROC')\n",
    "    plt.tight_layout()\n",
    "    plt.show()\n",
    "    \n",
    "    return logit_roc_auc\n",
    "\n",
    "\n",
    "    \n",
    "def train_model(model, X_train, y_train, feat=False):\n",
    "    #Fit the algorithm on the data\n",
    "    model.fit(X_train, y_train)\n",
    "        \n",
    "    #Predict training set\n",
    "    train_pred = model.predict(X_train)\n",
    "    train_predp = model.predict_proba(X_train)[:,1]\n",
    "    \n",
    "    # CV\n",
    "    cv_score = cross_val_score(model, X_train, y_train, cv=5, scoring='roc_auc')\n",
    "    print (\"CV Score : Mean - %.7g | Std - %.7g | Min - %.7g | Max - %.7g\" % (np.mean(cv_score),np.std(cv_score)\n",
    "                                                                          ,np.min(cv_score),np.max(cv_score)))\n",
    "    \n",
    "    \n",
    "    if feat:\n",
    "        # Feature importance\n",
    "        feat_imp = pd.Series(model.feature_importances_, X_train.columns).sort_values(ascending=False)\n",
    "        plt.figure(figsize=(10,2))\n",
    "        feat_imp.plot(kind='bar', title='Feature Importances')\n",
    "        plt.ylabel('Feature Importance Score')  "
   ]
  },
  {
   "cell_type": "markdown",
   "metadata": {},
   "source": [
    "## XGBoost\n"
   ]
  },
  {
   "cell_type": "code",
   "execution_count": 147,
   "metadata": {},
   "outputs": [
    {
     "name": "stdout",
     "output_type": "stream",
     "text": [
      "CV Score : Mean - 0.6548839 | Std - 0.02754969 | Min - 0.6000058 | Max - 0.6731882\n"
     ]
    },
    {
     "data": {
      "image/png": "[encoded data removed]",
      "text/plain": [
       "<Figure size 720x144 with 1 Axes>"
      ]
     },
     "metadata": {},
     "output_type": "display_data"
    },
    {
     "data": {
      "image/png": "[encoded data removed]",
      "text/plain": [
       "<Figure size 288x144 with 2 Axes>"
      ]
     },
     "metadata": {},
     "output_type": "display_data"
    },
    {
     "data": {
      "image/png": "[encoded data removed]",
      "text/plain": [
       "<Figure size 720x216 with 2 Axes>"
      ]
     },
     "metadata": {},
     "output_type": "display_data"
    },
    {
     "data": {
      "text/plain": [
       "0.6430608712610615"
      ]
     },
     "execution_count": 147,
     "metadata": {},
     "output_type": "execute_result"
    }
   ],
   "source": [
    "ratio = sum(y_train==0)/sum(y_train==1)\n",
    "\n",
    "XGB_classifier = XGBClassifier(scale_pos_weight=ratio)\n",
    "\n",
    "train_model(XGB_classifier, X_train, y_train, feat=True)\n",
    "\n",
    "y_pred = XGB_classifier.predict(X_test)\n",
    "y_predp = XGB_classifier.predict_proba(X_test)[:,1]\n",
    "\n",
    "\n",
    "evaluate_model(y_test, y_pred, y_predp)"
   ]
  },
  {
   "cell_type": "markdown",
   "metadata": {},
   "source": [
    "# Predicción sobre set de testeo de Kaggle\n",
    "Usamos todos los datos de 2018 para predecir el primer trimestre de 2019"
   ]
  },
  {
   "cell_type": "code",
   "execution_count": 154,
   "metadata": {},
   "outputs": [
    {
     "data": {
      "text/html": [
       "<div>\n",
       "<style>\n",
       "    .dataframe thead tr:only-child th {\n",
       "        text-align: right;\n",
       "    }\n",
       "\n",
       "    .dataframe thead th {\n",
       "        text-align: left;\n",
       "    }\n",
       "\n",
       "    .dataframe tbody tr th {\n",
       "        vertical-align: top;\n",
       "    }\n",
       "</style>\n",
       "<table border=\"1\" class=\"dataframe\">\n",
       "  <thead>\n",
       "    <tr style=\"text-align: right;\">\n",
       "      <th></th>\n",
       "      <th>USER_ID</th>\n",
       "      <th>session_count</th>\n",
       "      <th>prev_conversions</th>\n",
       "      <th>time_since_last_event</th>\n",
       "    </tr>\n",
       "  </thead>\n",
       "  <tbody>\n",
       "    <tr>\n",
       "      <th>0</th>\n",
       "      <td>0</td>\n",
       "      <td>6431</td>\n",
       "      <td>0</td>\n",
       "      <td>18274921.0</td>\n",
       "    </tr>\n",
       "    <tr>\n",
       "      <th>1</th>\n",
       "      <td>1</td>\n",
       "      <td>2111</td>\n",
       "      <td>0</td>\n",
       "      <td>18312520.0</td>\n",
       "    </tr>\n",
       "    <tr>\n",
       "      <th>2</th>\n",
       "      <td>2</td>\n",
       "      <td>2368</td>\n",
       "      <td>0</td>\n",
       "      <td>18588117.0</td>\n",
       "    </tr>\n",
       "    <tr>\n",
       "      <th>3</th>\n",
       "      <td>3</td>\n",
       "      <td>1935</td>\n",
       "      <td>0</td>\n",
       "      <td>18347290.0</td>\n",
       "    </tr>\n",
       "    <tr>\n",
       "      <th>4</th>\n",
       "      <td>4</td>\n",
       "      <td>3105</td>\n",
       "      <td>0</td>\n",
       "      <td>18479748.0</td>\n",
       "    </tr>\n",
       "  </tbody>\n",
       "</table>\n",
       "</div>"
      ],
      "text/plain": [
       "   USER_ID  session_count  prev_conversions  time_since_last_event\n",
       "0        0           6431                 0             18274921.0\n",
       "1        1           2111                 0             18312520.0\n",
       "2        2           2368                 0             18588117.0\n",
       "3        3           1935                 0             18347290.0\n",
       "4        4           3105                 0             18479748.0"
      ]
     },
     "execution_count": 154,
     "metadata": {},
     "output_type": "execute_result"
    }
   ],
   "source": [
    "test.head()"
   ]
  },
  {
   "cell_type": "code",
   "execution_count": 148,
   "metadata": {},
   "outputs": [
    {
     "name": "stdout",
     "output_type": "stream",
     "text": [
      "(11676, 1)\n"
     ]
    },
    {
     "data": {
      "image/png": "[encoded data removed]",
      "text/plain": [
       "<Figure size 432x288 with 1 Axes>"
      ]
     },
     "metadata": {},
     "output_type": "display_data"
    },
    {
     "name": "stdout",
     "output_type": "stream",
     "text": [
      "0    9973\n",
      "1    1703\n",
      "Name: label, dtype: int64\n"
     ]
    },
    {
     "data": {
      "text/plain": [
       "array([0.20603974, 0.20603974, 0.20603974, ..., 0.10003304, 0.062721  ,\n",
       "       0.10003304], dtype=float32)"
      ]
     },
     "execution_count": 148,
     "metadata": {},
     "output_type": "execute_result"
    }
   ],
   "source": [
    "# Predicción de los labels 0 o 1\n",
    "predictions = XGB_classifier.predict(test)\n",
    "dfsub = pd.DataFrame(predictions, columns=['label'], index=test.index)\n",
    "print(dfsub.shape)\n",
    "\n",
    "colors = ['tomato','lightgreen']\n",
    "sns.countplot('label',data=dfsub, palette=colors)\n",
    "plt.show()\n",
    "\n",
    "print(dfsub['label'].value_counts())\n",
    "\n",
    "# Predicción de la probabilidad de conversión\n",
    "predictions = XGB_classifier.predict_proba(test)\n",
    "dfsub = pd.DataFrame(predictions[:,1], columns=['label'], index=test.index)\n",
    "\n",
    "predictions[:,1]"
   ]
  },
  {
   "cell_type": "markdown",
   "metadata": {},
   "source": [
    "## Creamos el archivo para el submit"
   ]
  },
  {
   "cell_type": "code",
   "execution_count": 149,
   "metadata": {
    "collapsed": true
   },
   "outputs": [],
   "source": [
    "dfsub.to_csv('20190730.csv', sep=',', header=True)"
   ]
  },
  {
   "cell_type": "code",
   "execution_count": null,
   "metadata": {
    "collapsed": true
   },
   "outputs": [],
   "source": []
  }
 ],
 "metadata": {
  "kernelspec": {
   "display_name": "Python 3",
   "language": "python",
   "name": "python3"
  },
  "language_info": {
   "codemirror_mode": {
    "name": "ipython",
    "version": 3
   },
   "file_extension": ".py",
   "mimetype": "text/x-python",
   "name": "python",
   "nbconvert_exporter": "python",
   "pygments_lexer": "ipython3",
   "version": "3.6.2"
  }
 },
 "nbformat": 4,
 "nbformat_minor": 2
}
