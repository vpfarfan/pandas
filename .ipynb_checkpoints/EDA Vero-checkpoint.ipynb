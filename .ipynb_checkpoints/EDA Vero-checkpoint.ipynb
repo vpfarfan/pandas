{
 "cells": [
  {
   "cell_type": "code",
   "execution_count": 1,
   "metadata": {},
   "outputs": [],
   "source": [
    "import os\n",
    "import pandas as pd\n",
    "import numpy as np\n",
    "import matplotlib.pyplot as plt\n",
    "import seaborn as sns\n",
    "import datetime as dt\n",
    "from datetime import timedelta"
   ]
  },
  {
   "cell_type": "code",
   "execution_count": 2,
   "metadata": {},
   "outputs": [],
   "source": [
    "os.chdir('D:/DS/Kaggle')"
   ]
  },
  {
   "cell_type": "code",
   "execution_count": 3,
   "metadata": {},
   "outputs": [],
   "source": [
    "# Load data\n",
    "pageviews = pd.read_csv('./pageviews.csv')\n",
    "# content_category = pd.read_csv('./CONTENT_CATEGORY.csv')\n",
    "# content_category_bottom = pd.read_csv('./CONTENT_CATEGORY_BOTTOM.csv')\n",
    "# content_category_top = pd.read_csv('./CONTENT_CATEGORY_TOP.csv')\n",
    "# device_data = pd.read_csv('./device_data.csv')\n",
    "page = pd.read_csv('./PAGE.csv')\n",
    "# site_id = pd.read_csv('./SITE_ID.csv')\n",
    "conversiones = pd.read_csv('./conversiones.csv', dtype={'mes' : 'object', 'anio' : 'object', 'USER_ID' : 'object'})"
   ]
  },
  {
   "cell_type": "markdown",
   "metadata": {},
   "source": [
    "###  Procesamiento archivo conversiones"
   ]
  },
  {
   "cell_type": "markdown",
   "metadata": {},
   "source": [
    "Elimino el '.0' de los datos de conversiones"
   ]
  },
  {
   "cell_type": "code",
   "execution_count": 4,
   "metadata": {},
   "outputs": [
    {
     "data": {
      "text/html": [
       "<div>\n",
       "<style scoped>\n",
       "    .dataframe tbody tr th:only-of-type {\n",
       "        vertical-align: middle;\n",
       "    }\n",
       "\n",
       "    .dataframe tbody tr th {\n",
       "        vertical-align: top;\n",
       "    }\n",
       "\n",
       "    .dataframe thead th {\n",
       "        text-align: right;\n",
       "    }\n",
       "</style>\n",
       "<table border=\"1\" class=\"dataframe\">\n",
       "  <thead>\n",
       "    <tr style=\"text-align: right;\">\n",
       "      <th></th>\n",
       "      <th>mes</th>\n",
       "      <th>anio</th>\n",
       "      <th>USER_ID</th>\n",
       "      <th>conversion</th>\n",
       "    </tr>\n",
       "  </thead>\n",
       "  <tbody>\n",
       "    <tr>\n",
       "      <th>0</th>\n",
       "      <td>7</td>\n",
       "      <td>2018</td>\n",
       "      <td>1410</td>\n",
       "      <td>1</td>\n",
       "    </tr>\n",
       "    <tr>\n",
       "      <th>1</th>\n",
       "      <td>8</td>\n",
       "      <td>2018</td>\n",
       "      <td>10755</td>\n",
       "      <td>1</td>\n",
       "    </tr>\n",
       "    <tr>\n",
       "      <th>2</th>\n",
       "      <td>8</td>\n",
       "      <td>2018</td>\n",
       "      <td>8270</td>\n",
       "      <td>1</td>\n",
       "    </tr>\n",
       "    <tr>\n",
       "      <th>3</th>\n",
       "      <td>10</td>\n",
       "      <td>2018</td>\n",
       "      <td>7558</td>\n",
       "      <td>1</td>\n",
       "    </tr>\n",
       "    <tr>\n",
       "      <th>4</th>\n",
       "      <td>9</td>\n",
       "      <td>2018</td>\n",
       "      <td>10731</td>\n",
       "      <td>1</td>\n",
       "    </tr>\n",
       "  </tbody>\n",
       "</table>\n",
       "</div>"
      ],
      "text/plain": [
       "   mes  anio  USER_ID  conversion\n",
       "0    7  2018     1410           1\n",
       "1    8  2018    10755           1\n",
       "2    8  2018     8270           1\n",
       "3   10  2018     7558           1\n",
       "4    9  2018    10731           1"
      ]
     },
     "execution_count": 4,
     "metadata": {},
     "output_type": "execute_result"
    }
   ],
   "source": [
    "conversiones['mes'] = pd.to_numeric(conversiones['mes'].str.replace('\\.0', ''))\n",
    "conversiones['anio'] = pd.to_numeric(conversiones['anio'].str.replace('\\.0', ''))\n",
    "conversiones['USER_ID'] = pd.to_numeric(conversiones['USER_ID'].str.replace('\\.0', ''))\n",
    "conversiones['conversion'] = 1\n",
    "conversiones.head()"
   ]
  },
  {
   "cell_type": "code",
   "execution_count": 5,
   "metadata": {},
   "outputs": [],
   "source": [
    "conversiones['mes-1'] = conversiones['mes'] - 1\n",
    "conversiones['mes-2'] = conversiones['mes'] - 2\n",
    "conversiones['mes-3'] = conversiones['mes'] - 3"
   ]
  },
  {
   "cell_type": "code",
   "execution_count": 6,
   "metadata": {},
   "outputs": [
    {
     "name": "stdout",
     "output_type": "stream",
     "text": [
      "845\n",
      "391\n"
     ]
    },
    {
     "data": {
      "text/html": [
       "<div>\n",
       "<style scoped>\n",
       "    .dataframe tbody tr th:only-of-type {\n",
       "        vertical-align: middle;\n",
       "    }\n",
       "\n",
       "    .dataframe tbody tr th {\n",
       "        vertical-align: top;\n",
       "    }\n",
       "\n",
       "    .dataframe thead th {\n",
       "        text-align: right;\n",
       "    }\n",
       "</style>\n",
       "<table border=\"1\" class=\"dataframe\">\n",
       "  <thead>\n",
       "    <tr style=\"text-align: right;\">\n",
       "      <th></th>\n",
       "      <th>mes</th>\n",
       "      <th>anio</th>\n",
       "      <th>USER_ID</th>\n",
       "      <th>conversion</th>\n",
       "      <th>mes-1</th>\n",
       "      <th>mes-2</th>\n",
       "      <th>mes-3</th>\n",
       "    </tr>\n",
       "  </thead>\n",
       "  <tbody>\n",
       "    <tr>\n",
       "      <th>0</th>\n",
       "      <td>7</td>\n",
       "      <td>2018</td>\n",
       "      <td>1410</td>\n",
       "      <td>1</td>\n",
       "      <td>6</td>\n",
       "      <td>5</td>\n",
       "      <td>4</td>\n",
       "    </tr>\n",
       "    <tr>\n",
       "      <th>1</th>\n",
       "      <td>8</td>\n",
       "      <td>2018</td>\n",
       "      <td>10755</td>\n",
       "      <td>1</td>\n",
       "      <td>7</td>\n",
       "      <td>6</td>\n",
       "      <td>5</td>\n",
       "    </tr>\n",
       "    <tr>\n",
       "      <th>2</th>\n",
       "      <td>8</td>\n",
       "      <td>2018</td>\n",
       "      <td>8270</td>\n",
       "      <td>1</td>\n",
       "      <td>7</td>\n",
       "      <td>6</td>\n",
       "      <td>5</td>\n",
       "    </tr>\n",
       "    <tr>\n",
       "      <th>3</th>\n",
       "      <td>10</td>\n",
       "      <td>2018</td>\n",
       "      <td>7558</td>\n",
       "      <td>1</td>\n",
       "      <td>9</td>\n",
       "      <td>8</td>\n",
       "      <td>7</td>\n",
       "    </tr>\n",
       "    <tr>\n",
       "      <th>4</th>\n",
       "      <td>9</td>\n",
       "      <td>2018</td>\n",
       "      <td>10731</td>\n",
       "      <td>1</td>\n",
       "      <td>8</td>\n",
       "      <td>7</td>\n",
       "      <td>6</td>\n",
       "    </tr>\n",
       "  </tbody>\n",
       "</table>\n",
       "</div>"
      ],
      "text/plain": [
       "   mes  anio  USER_ID  conversion  mes-1  mes-2  mes-3\n",
       "0    7  2018     1410           1      6      5      4\n",
       "1    8  2018    10755           1      7      6      5\n",
       "2    8  2018     8270           1      7      6      5\n",
       "3   10  2018     7558           1      9      8      7\n",
       "4    9  2018    10731           1      8      7      6"
      ]
     },
     "execution_count": 6,
     "metadata": {},
     "output_type": "execute_result"
    }
   ],
   "source": [
    "print(conversiones.loc[conversiones['mes'] < 10,]['USER_ID'].nunique())\n",
    "print(conversiones.loc[conversiones['mes'] >= 10,]['USER_ID'].nunique())\n",
    "conversiones.head()"
   ]
  },
  {
   "cell_type": "markdown",
   "metadata": {},
   "source": [
    "### Procesamiento archivo pageviews\n",
    "\n",
    "Crear columnas anio y mes"
   ]
  },
  {
   "cell_type": "code",
   "execution_count": 7,
   "metadata": {},
   "outputs": [
    {
     "data": {
      "text/html": [
       "<div>\n",
       "<style scoped>\n",
       "    .dataframe tbody tr th:only-of-type {\n",
       "        vertical-align: middle;\n",
       "    }\n",
       "\n",
       "    .dataframe tbody tr th {\n",
       "        vertical-align: top;\n",
       "    }\n",
       "\n",
       "    .dataframe thead th {\n",
       "        text-align: right;\n",
       "    }\n",
       "</style>\n",
       "<table border=\"1\" class=\"dataframe\">\n",
       "  <thead>\n",
       "    <tr style=\"text-align: right;\">\n",
       "      <th></th>\n",
       "      <th>FEC_EVENT</th>\n",
       "      <th>PAGE</th>\n",
       "      <th>CONTENT_CATEGORY</th>\n",
       "      <th>CONTENT_CATEGORY_TOP</th>\n",
       "      <th>CONTENT_CATEGORY_BOTTOM</th>\n",
       "      <th>SITE_ID</th>\n",
       "      <th>ON_SITE_SEARCH_TERM</th>\n",
       "      <th>USER_ID</th>\n",
       "      <th>anio</th>\n",
       "      <th>mes</th>\n",
       "    </tr>\n",
       "  </thead>\n",
       "  <tbody>\n",
       "    <tr>\n",
       "      <th>0</th>\n",
       "      <td>2018-03-30 07:35:48</td>\n",
       "      <td>1</td>\n",
       "      <td>1</td>\n",
       "      <td>1</td>\n",
       "      <td>1</td>\n",
       "      <td>1</td>\n",
       "      <td>1</td>\n",
       "      <td>0</td>\n",
       "      <td>2018</td>\n",
       "      <td>3</td>\n",
       "    </tr>\n",
       "    <tr>\n",
       "      <th>1</th>\n",
       "      <td>2018-03-30 07:35:52</td>\n",
       "      <td>2</td>\n",
       "      <td>2</td>\n",
       "      <td>2</td>\n",
       "      <td>2</td>\n",
       "      <td>2</td>\n",
       "      <td>1</td>\n",
       "      <td>0</td>\n",
       "      <td>2018</td>\n",
       "      <td>3</td>\n",
       "    </tr>\n",
       "    <tr>\n",
       "      <th>2</th>\n",
       "      <td>2018-03-30 07:36:11</td>\n",
       "      <td>3</td>\n",
       "      <td>2</td>\n",
       "      <td>2</td>\n",
       "      <td>2</td>\n",
       "      <td>3</td>\n",
       "      <td>1</td>\n",
       "      <td>0</td>\n",
       "      <td>2018</td>\n",
       "      <td>3</td>\n",
       "    </tr>\n",
       "    <tr>\n",
       "      <th>3</th>\n",
       "      <td>2018-03-30 07:36:16</td>\n",
       "      <td>4</td>\n",
       "      <td>2</td>\n",
       "      <td>2</td>\n",
       "      <td>2</td>\n",
       "      <td>3</td>\n",
       "      <td>1</td>\n",
       "      <td>0</td>\n",
       "      <td>2018</td>\n",
       "      <td>3</td>\n",
       "    </tr>\n",
       "    <tr>\n",
       "      <th>4</th>\n",
       "      <td>2018-03-30 07:41:38</td>\n",
       "      <td>5</td>\n",
       "      <td>2</td>\n",
       "      <td>2</td>\n",
       "      <td>2</td>\n",
       "      <td>2</td>\n",
       "      <td>1</td>\n",
       "      <td>0</td>\n",
       "      <td>2018</td>\n",
       "      <td>3</td>\n",
       "    </tr>\n",
       "  </tbody>\n",
       "</table>\n",
       "</div>"
      ],
      "text/plain": [
       "            FEC_EVENT  PAGE  CONTENT_CATEGORY  CONTENT_CATEGORY_TOP  \\\n",
       "0 2018-03-30 07:35:48     1                 1                     1   \n",
       "1 2018-03-30 07:35:52     2                 2                     2   \n",
       "2 2018-03-30 07:36:11     3                 2                     2   \n",
       "3 2018-03-30 07:36:16     4                 2                     2   \n",
       "4 2018-03-30 07:41:38     5                 2                     2   \n",
       "\n",
       "   CONTENT_CATEGORY_BOTTOM  SITE_ID  ON_SITE_SEARCH_TERM  USER_ID  anio  mes  \n",
       "0                        1        1                    1        0  2018    3  \n",
       "1                        2        2                    1        0  2018    3  \n",
       "2                        2        3                    1        0  2018    3  \n",
       "3                        2        3                    1        0  2018    3  \n",
       "4                        2        2                    1        0  2018    3  "
      ]
     },
     "execution_count": 7,
     "metadata": {},
     "output_type": "execute_result"
    }
   ],
   "source": [
    "pageviews['USER_ID'] = pd.to_numeric(pageviews['USER_ID'])\n",
    "\n",
    "# Creo campos para hacer el join con el archivo conversiones\n",
    "pageviews['FEC_EVENT'] = pd.to_datetime(pageviews['FEC_EVENT'])\n",
    "pageviews['anio'] = pageviews['FEC_EVENT'].dt.year\n",
    "pageviews['mes'] = pageviews['FEC_EVENT'].dt.month\n",
    "pageviews.head()"
   ]
  },
  {
   "cell_type": "markdown",
   "metadata": {},
   "source": [
    "### Merge datasets pageviews y conversiones\n",
    "Hago un left join para obtener las conversiones para el mismo mes, anio y usuario y lleno con 0 en los casos que no hubo conversion"
   ]
  },
  {
   "cell_type": "code",
   "execution_count": 8,
   "metadata": {},
   "outputs": [
    {
     "name": "stdout",
     "output_type": "stream",
     "text": [
      "(17936934, 11)\n"
     ]
    },
    {
     "data": {
      "text/html": [
       "<div>\n",
       "<style scoped>\n",
       "    .dataframe tbody tr th:only-of-type {\n",
       "        vertical-align: middle;\n",
       "    }\n",
       "\n",
       "    .dataframe tbody tr th {\n",
       "        vertical-align: top;\n",
       "    }\n",
       "\n",
       "    .dataframe thead th {\n",
       "        text-align: right;\n",
       "    }\n",
       "</style>\n",
       "<table border=\"1\" class=\"dataframe\">\n",
       "  <thead>\n",
       "    <tr style=\"text-align: right;\">\n",
       "      <th></th>\n",
       "      <th>FEC_EVENT</th>\n",
       "      <th>PAGE</th>\n",
       "      <th>CONTENT_CATEGORY</th>\n",
       "      <th>CONTENT_CATEGORY_TOP</th>\n",
       "      <th>CONTENT_CATEGORY_BOTTOM</th>\n",
       "      <th>SITE_ID</th>\n",
       "      <th>ON_SITE_SEARCH_TERM</th>\n",
       "      <th>USER_ID</th>\n",
       "      <th>anio</th>\n",
       "      <th>mes</th>\n",
       "      <th>conversion+0</th>\n",
       "    </tr>\n",
       "  </thead>\n",
       "  <tbody>\n",
       "    <tr>\n",
       "      <th>0</th>\n",
       "      <td>2018-03-30 07:35:48</td>\n",
       "      <td>1</td>\n",
       "      <td>1</td>\n",
       "      <td>1</td>\n",
       "      <td>1</td>\n",
       "      <td>1</td>\n",
       "      <td>1</td>\n",
       "      <td>0</td>\n",
       "      <td>2018</td>\n",
       "      <td>3</td>\n",
       "      <td>0.0</td>\n",
       "    </tr>\n",
       "    <tr>\n",
       "      <th>1</th>\n",
       "      <td>2018-03-30 07:35:52</td>\n",
       "      <td>2</td>\n",
       "      <td>2</td>\n",
       "      <td>2</td>\n",
       "      <td>2</td>\n",
       "      <td>2</td>\n",
       "      <td>1</td>\n",
       "      <td>0</td>\n",
       "      <td>2018</td>\n",
       "      <td>3</td>\n",
       "      <td>0.0</td>\n",
       "    </tr>\n",
       "    <tr>\n",
       "      <th>2</th>\n",
       "      <td>2018-03-30 07:36:11</td>\n",
       "      <td>3</td>\n",
       "      <td>2</td>\n",
       "      <td>2</td>\n",
       "      <td>2</td>\n",
       "      <td>3</td>\n",
       "      <td>1</td>\n",
       "      <td>0</td>\n",
       "      <td>2018</td>\n",
       "      <td>3</td>\n",
       "      <td>0.0</td>\n",
       "    </tr>\n",
       "    <tr>\n",
       "      <th>3</th>\n",
       "      <td>2018-03-30 07:36:16</td>\n",
       "      <td>4</td>\n",
       "      <td>2</td>\n",
       "      <td>2</td>\n",
       "      <td>2</td>\n",
       "      <td>3</td>\n",
       "      <td>1</td>\n",
       "      <td>0</td>\n",
       "      <td>2018</td>\n",
       "      <td>3</td>\n",
       "      <td>0.0</td>\n",
       "    </tr>\n",
       "    <tr>\n",
       "      <th>4</th>\n",
       "      <td>2018-03-30 07:41:38</td>\n",
       "      <td>5</td>\n",
       "      <td>2</td>\n",
       "      <td>2</td>\n",
       "      <td>2</td>\n",
       "      <td>2</td>\n",
       "      <td>1</td>\n",
       "      <td>0</td>\n",
       "      <td>2018</td>\n",
       "      <td>3</td>\n",
       "      <td>0.0</td>\n",
       "    </tr>\n",
       "  </tbody>\n",
       "</table>\n",
       "</div>"
      ],
      "text/plain": [
       "            FEC_EVENT  PAGE  CONTENT_CATEGORY  CONTENT_CATEGORY_TOP  \\\n",
       "0 2018-03-30 07:35:48     1                 1                     1   \n",
       "1 2018-03-30 07:35:52     2                 2                     2   \n",
       "2 2018-03-30 07:36:11     3                 2                     2   \n",
       "3 2018-03-30 07:36:16     4                 2                     2   \n",
       "4 2018-03-30 07:41:38     5                 2                     2   \n",
       "\n",
       "   CONTENT_CATEGORY_BOTTOM  SITE_ID  ON_SITE_SEARCH_TERM  USER_ID  anio  mes  \\\n",
       "0                        1        1                    1        0  2018    3   \n",
       "1                        2        2                    1        0  2018    3   \n",
       "2                        2        3                    1        0  2018    3   \n",
       "3                        2        3                    1        0  2018    3   \n",
       "4                        2        2                    1        0  2018    3   \n",
       "\n",
       "   conversion+0  \n",
       "0           0.0  \n",
       "1           0.0  \n",
       "2           0.0  \n",
       "3           0.0  \n",
       "4           0.0  "
      ]
     },
     "execution_count": 8,
     "metadata": {},
     "output_type": "execute_result"
    }
   ],
   "source": [
    "data = pd.merge(pageviews, conversiones.loc[:,('mes','anio','USER_ID','conversion')].drop_duplicates(), how='left')\n",
    "data['conversion'] = data['conversion'].replace(np.nan, 0)\n",
    "data = data.rename(columns = {'conversion':'conversion+0'})\n",
    "print(data.shape)\n",
    "data.head()"
   ]
  },
  {
   "cell_type": "code",
   "execution_count": 9,
   "metadata": {},
   "outputs": [
    {
     "name": "stdout",
     "output_type": "stream",
     "text": [
      "(17936934, 14)\n"
     ]
    },
    {
     "data": {
      "text/html": [
       "<div>\n",
       "<style scoped>\n",
       "    .dataframe tbody tr th:only-of-type {\n",
       "        vertical-align: middle;\n",
       "    }\n",
       "\n",
       "    .dataframe tbody tr th {\n",
       "        vertical-align: top;\n",
       "    }\n",
       "\n",
       "    .dataframe thead th {\n",
       "        text-align: right;\n",
       "    }\n",
       "</style>\n",
       "<table border=\"1\" class=\"dataframe\">\n",
       "  <thead>\n",
       "    <tr style=\"text-align: right;\">\n",
       "      <th></th>\n",
       "      <th>FEC_EVENT</th>\n",
       "      <th>PAGE</th>\n",
       "      <th>CONTENT_CATEGORY</th>\n",
       "      <th>CONTENT_CATEGORY_TOP</th>\n",
       "      <th>CONTENT_CATEGORY_BOTTOM</th>\n",
       "      <th>SITE_ID</th>\n",
       "      <th>ON_SITE_SEARCH_TERM</th>\n",
       "      <th>USER_ID</th>\n",
       "      <th>anio</th>\n",
       "      <th>mes</th>\n",
       "      <th>conversion+0</th>\n",
       "      <th>conversion+1</th>\n",
       "      <th>conversion+2</th>\n",
       "      <th>conversion+3</th>\n",
       "    </tr>\n",
       "  </thead>\n",
       "  <tbody>\n",
       "    <tr>\n",
       "      <th>0</th>\n",
       "      <td>2018-03-30 07:35:48</td>\n",
       "      <td>1</td>\n",
       "      <td>1</td>\n",
       "      <td>1</td>\n",
       "      <td>1</td>\n",
       "      <td>1</td>\n",
       "      <td>1</td>\n",
       "      <td>0</td>\n",
       "      <td>2018</td>\n",
       "      <td>3</td>\n",
       "      <td>0.0</td>\n",
       "      <td>0.0</td>\n",
       "      <td>0.0</td>\n",
       "      <td>0.0</td>\n",
       "    </tr>\n",
       "    <tr>\n",
       "      <th>1</th>\n",
       "      <td>2018-03-30 07:35:52</td>\n",
       "      <td>2</td>\n",
       "      <td>2</td>\n",
       "      <td>2</td>\n",
       "      <td>2</td>\n",
       "      <td>2</td>\n",
       "      <td>1</td>\n",
       "      <td>0</td>\n",
       "      <td>2018</td>\n",
       "      <td>3</td>\n",
       "      <td>0.0</td>\n",
       "      <td>0.0</td>\n",
       "      <td>0.0</td>\n",
       "      <td>0.0</td>\n",
       "    </tr>\n",
       "    <tr>\n",
       "      <th>2</th>\n",
       "      <td>2018-03-30 07:36:11</td>\n",
       "      <td>3</td>\n",
       "      <td>2</td>\n",
       "      <td>2</td>\n",
       "      <td>2</td>\n",
       "      <td>3</td>\n",
       "      <td>1</td>\n",
       "      <td>0</td>\n",
       "      <td>2018</td>\n",
       "      <td>3</td>\n",
       "      <td>0.0</td>\n",
       "      <td>0.0</td>\n",
       "      <td>0.0</td>\n",
       "      <td>0.0</td>\n",
       "    </tr>\n",
       "    <tr>\n",
       "      <th>3</th>\n",
       "      <td>2018-03-30 07:36:16</td>\n",
       "      <td>4</td>\n",
       "      <td>2</td>\n",
       "      <td>2</td>\n",
       "      <td>2</td>\n",
       "      <td>3</td>\n",
       "      <td>1</td>\n",
       "      <td>0</td>\n",
       "      <td>2018</td>\n",
       "      <td>3</td>\n",
       "      <td>0.0</td>\n",
       "      <td>0.0</td>\n",
       "      <td>0.0</td>\n",
       "      <td>0.0</td>\n",
       "    </tr>\n",
       "    <tr>\n",
       "      <th>4</th>\n",
       "      <td>2018-03-30 07:41:38</td>\n",
       "      <td>5</td>\n",
       "      <td>2</td>\n",
       "      <td>2</td>\n",
       "      <td>2</td>\n",
       "      <td>2</td>\n",
       "      <td>1</td>\n",
       "      <td>0</td>\n",
       "      <td>2018</td>\n",
       "      <td>3</td>\n",
       "      <td>0.0</td>\n",
       "      <td>0.0</td>\n",
       "      <td>0.0</td>\n",
       "      <td>0.0</td>\n",
       "    </tr>\n",
       "  </tbody>\n",
       "</table>\n",
       "</div>"
      ],
      "text/plain": [
       "            FEC_EVENT  PAGE  CONTENT_CATEGORY  CONTENT_CATEGORY_TOP  \\\n",
       "0 2018-03-30 07:35:48     1                 1                     1   \n",
       "1 2018-03-30 07:35:52     2                 2                     2   \n",
       "2 2018-03-30 07:36:11     3                 2                     2   \n",
       "3 2018-03-30 07:36:16     4                 2                     2   \n",
       "4 2018-03-30 07:41:38     5                 2                     2   \n",
       "\n",
       "   CONTENT_CATEGORY_BOTTOM  SITE_ID  ON_SITE_SEARCH_TERM  USER_ID  anio  mes  \\\n",
       "0                        1        1                    1        0  2018    3   \n",
       "1                        2        2                    1        0  2018    3   \n",
       "2                        2        3                    1        0  2018    3   \n",
       "3                        2        3                    1        0  2018    3   \n",
       "4                        2        2                    1        0  2018    3   \n",
       "\n",
       "   conversion+0  conversion+1  conversion+2  conversion+3  \n",
       "0           0.0           0.0           0.0           0.0  \n",
       "1           0.0           0.0           0.0           0.0  \n",
       "2           0.0           0.0           0.0           0.0  \n",
       "3           0.0           0.0           0.0           0.0  \n",
       "4           0.0           0.0           0.0           0.0  "
      ]
     },
     "execution_count": 9,
     "metadata": {},
     "output_type": "execute_result"
    }
   ],
   "source": [
    "data = pd.merge(data, conversiones.loc[:,('mes-1','anio','USER_ID','conversion')].drop_duplicates(), how='left', left_on=['USER_ID','anio','mes'], right_on=['USER_ID','anio','mes-1'])\n",
    "data['conversion'] = data['conversion'].replace(np.nan, 0)\n",
    "data = data.rename(columns = {'conversion':'conversion+1'})\n",
    "\n",
    "data = pd.merge(data, conversiones.loc[:,('mes-2','anio','USER_ID','conversion')].drop_duplicates(), how='left', left_on=['USER_ID','anio','mes'], right_on=['USER_ID','anio','mes-2'])\n",
    "data['conversion'] = data['conversion'].replace(np.nan, 0)\n",
    "data = data.rename(columns = {'conversion':'conversion+2'})\n",
    "\n",
    "data = pd.merge(data, conversiones.loc[:,('mes-3','anio','USER_ID','conversion')].drop_duplicates(), how='left', left_on=['USER_ID','anio','mes'], right_on=['USER_ID','anio','mes-3'])\n",
    "data['conversion'] = data['conversion'].replace(np.nan, 0)\n",
    "data = data.rename(columns = {'conversion':'conversion+3'})\n",
    "data = data.drop(columns=['mes-1', 'mes-2', 'mes-3'])\n",
    "print(data.shape)\n",
    "data.head()"
   ]
  },
  {
   "cell_type": "code",
   "execution_count": 10,
   "metadata": {},
   "outputs": [
    {
     "data": {
      "text/plain": [
       "309"
      ]
     },
     "execution_count": 10,
     "metadata": {},
     "output_type": "execute_result"
    }
   ],
   "source": [
    "data.loc[(data['mes'] >= 10) & (data['conversion+0'] == 1.0),:]['USER_ID'].nunique()"
   ]
  },
  {
   "cell_type": "code",
   "execution_count": 11,
   "metadata": {},
   "outputs": [
    {
     "data": {
      "text/plain": [
       "11676"
      ]
     },
     "execution_count": 11,
     "metadata": {},
     "output_type": "execute_result"
    }
   ],
   "source": [
    "pageviews['USER_ID'].nunique()"
   ]
  },
  {
   "cell_type": "code",
   "execution_count": 12,
   "metadata": {},
   "outputs": [
    {
     "data": {
      "text/plain": [
       "1086"
      ]
     },
     "execution_count": 12,
     "metadata": {},
     "output_type": "execute_result"
    }
   ],
   "source": [
    "conversiones['USER_ID'].nunique()"
   ]
  },
  {
   "cell_type": "markdown",
   "metadata": {},
   "source": [
    "### Merge con el resto de los datasets para agregar las descripciones"
   ]
  },
  {
   "cell_type": "code",
   "execution_count": 13,
   "metadata": {},
   "outputs": [
    {
     "data": {
      "text/html": [
       "<div>\n",
       "<style scoped>\n",
       "    .dataframe tbody tr th:only-of-type {\n",
       "        vertical-align: middle;\n",
       "    }\n",
       "\n",
       "    .dataframe tbody tr th {\n",
       "        vertical-align: top;\n",
       "    }\n",
       "\n",
       "    .dataframe thead th {\n",
       "        text-align: right;\n",
       "    }\n",
       "</style>\n",
       "<table border=\"1\" class=\"dataframe\">\n",
       "  <thead>\n",
       "    <tr style=\"text-align: right;\">\n",
       "      <th></th>\n",
       "      <th>FEC_EVENT</th>\n",
       "      <th>PAGE</th>\n",
       "      <th>CONTENT_CATEGORY</th>\n",
       "      <th>CONTENT_CATEGORY_TOP</th>\n",
       "      <th>CONTENT_CATEGORY_BOTTOM</th>\n",
       "      <th>SITE_ID</th>\n",
       "      <th>ON_SITE_SEARCH_TERM</th>\n",
       "      <th>USER_ID</th>\n",
       "      <th>anio</th>\n",
       "      <th>mes</th>\n",
       "      <th>conversion+0</th>\n",
       "      <th>conversion+1</th>\n",
       "      <th>conversion+2</th>\n",
       "      <th>conversion+3</th>\n",
       "      <th>PAGE_descripcion</th>\n",
       "    </tr>\n",
       "  </thead>\n",
       "  <tbody>\n",
       "    <tr>\n",
       "      <th>0</th>\n",
       "      <td>2018-03-30 07:35:48</td>\n",
       "      <td>1</td>\n",
       "      <td>1</td>\n",
       "      <td>1</td>\n",
       "      <td>1</td>\n",
       "      <td>1</td>\n",
       "      <td>1</td>\n",
       "      <td>0</td>\n",
       "      <td>2018</td>\n",
       "      <td>3</td>\n",
       "      <td>0.0</td>\n",
       "      <td>0.0</td>\n",
       "      <td>0.0</td>\n",
       "      <td>0.0</td>\n",
       "      <td>WEB : EMINENT</td>\n",
       "    </tr>\n",
       "    <tr>\n",
       "      <th>1</th>\n",
       "      <td>2018-02-18 13:26:45</td>\n",
       "      <td>1</td>\n",
       "      <td>1</td>\n",
       "      <td>1</td>\n",
       "      <td>1</td>\n",
       "      <td>1</td>\n",
       "      <td>1</td>\n",
       "      <td>0</td>\n",
       "      <td>2018</td>\n",
       "      <td>2</td>\n",
       "      <td>0.0</td>\n",
       "      <td>0.0</td>\n",
       "      <td>0.0</td>\n",
       "      <td>0.0</td>\n",
       "      <td>WEB : EMINENT</td>\n",
       "    </tr>\n",
       "    <tr>\n",
       "      <th>2</th>\n",
       "      <td>2018-03-04 18:04:12</td>\n",
       "      <td>1</td>\n",
       "      <td>1</td>\n",
       "      <td>1</td>\n",
       "      <td>1</td>\n",
       "      <td>1</td>\n",
       "      <td>1</td>\n",
       "      <td>0</td>\n",
       "      <td>2018</td>\n",
       "      <td>3</td>\n",
       "      <td>0.0</td>\n",
       "      <td>0.0</td>\n",
       "      <td>0.0</td>\n",
       "      <td>0.0</td>\n",
       "      <td>WEB : EMINENT</td>\n",
       "    </tr>\n",
       "    <tr>\n",
       "      <th>3</th>\n",
       "      <td>2018-01-04 08:29:59</td>\n",
       "      <td>1</td>\n",
       "      <td>1</td>\n",
       "      <td>1</td>\n",
       "      <td>1</td>\n",
       "      <td>1</td>\n",
       "      <td>1</td>\n",
       "      <td>0</td>\n",
       "      <td>2018</td>\n",
       "      <td>1</td>\n",
       "      <td>0.0</td>\n",
       "      <td>0.0</td>\n",
       "      <td>0.0</td>\n",
       "      <td>0.0</td>\n",
       "      <td>WEB : EMINENT</td>\n",
       "    </tr>\n",
       "    <tr>\n",
       "      <th>4</th>\n",
       "      <td>2018-01-04 08:52:16</td>\n",
       "      <td>1</td>\n",
       "      <td>1</td>\n",
       "      <td>1</td>\n",
       "      <td>1</td>\n",
       "      <td>1</td>\n",
       "      <td>1</td>\n",
       "      <td>0</td>\n",
       "      <td>2018</td>\n",
       "      <td>1</td>\n",
       "      <td>0.0</td>\n",
       "      <td>0.0</td>\n",
       "      <td>0.0</td>\n",
       "      <td>0.0</td>\n",
       "      <td>WEB : EMINENT</td>\n",
       "    </tr>\n",
       "  </tbody>\n",
       "</table>\n",
       "</div>"
      ],
      "text/plain": [
       "            FEC_EVENT  PAGE  CONTENT_CATEGORY  CONTENT_CATEGORY_TOP  \\\n",
       "0 2018-03-30 07:35:48     1                 1                     1   \n",
       "1 2018-02-18 13:26:45     1                 1                     1   \n",
       "2 2018-03-04 18:04:12     1                 1                     1   \n",
       "3 2018-01-04 08:29:59     1                 1                     1   \n",
       "4 2018-01-04 08:52:16     1                 1                     1   \n",
       "\n",
       "   CONTENT_CATEGORY_BOTTOM  SITE_ID  ON_SITE_SEARCH_TERM  USER_ID  anio  mes  \\\n",
       "0                        1        1                    1        0  2018    3   \n",
       "1                        1        1                    1        0  2018    2   \n",
       "2                        1        1                    1        0  2018    3   \n",
       "3                        1        1                    1        0  2018    1   \n",
       "4                        1        1                    1        0  2018    1   \n",
       "\n",
       "   conversion+0  conversion+1  conversion+2  conversion+3 PAGE_descripcion  \n",
       "0           0.0           0.0           0.0           0.0    WEB : EMINENT  \n",
       "1           0.0           0.0           0.0           0.0    WEB : EMINENT  \n",
       "2           0.0           0.0           0.0           0.0    WEB : EMINENT  \n",
       "3           0.0           0.0           0.0           0.0    WEB : EMINENT  \n",
       "4           0.0           0.0           0.0           0.0    WEB : EMINENT  "
      ]
     },
     "execution_count": 13,
     "metadata": {},
     "output_type": "execute_result"
    }
   ],
   "source": [
    "data = pd.merge(data, page, how='inner')\n",
    "data.head()\n",
    "\n",
    "# data = pd.merge(data, content_category, how='inner')\n",
    "# data = pd.merge(data, content_category_top, how='inner')\n",
    "# data = pd.merge(data, content_category_bottom, how='inner')\n",
    "# data = pd.merge(data, site_id, how='inner')\n",
    "# print(data.head())"
   ]
  },
  {
   "cell_type": "code",
   "execution_count": 14,
   "metadata": {},
   "outputs": [],
   "source": [
    "# Me quedo con los campos que voy a analizar\n",
    "data = data.loc[:,['FEC_EVENT','USER_ID','anio','mes','conversion+0','conversion+1','conversion+2','conversion+3'\n",
    "                   ,'PAGE_descripcion','PAGE']]"
   ]
  },
  {
   "cell_type": "markdown",
   "metadata": {},
   "source": [
    "#### Probabilidad de conversion para cada PAGE\n",
    "- Probabilidad de conversion para los meses i, i+1, i+2, i+3\n",
    "- Frecuencia y la proporcion\n",
    "- Cantidad de usuarios que visitaron la pagina"
   ]
  },
  {
   "cell_type": "code",
   "execution_count": 15,
   "metadata": {},
   "outputs": [
    {
     "data": {
      "text/html": [
       "<div>\n",
       "<style scoped>\n",
       "    .dataframe tbody tr th:only-of-type {\n",
       "        vertical-align: middle;\n",
       "    }\n",
       "\n",
       "    .dataframe tbody tr th {\n",
       "        vertical-align: top;\n",
       "    }\n",
       "\n",
       "    .dataframe thead th {\n",
       "        text-align: right;\n",
       "    }\n",
       "</style>\n",
       "<table border=\"1\" class=\"dataframe\">\n",
       "  <thead>\n",
       "    <tr style=\"text-align: right;\">\n",
       "      <th></th>\n",
       "      <th></th>\n",
       "      <th>conversion+0</th>\n",
       "      <th>conversion+1</th>\n",
       "      <th>conversion+2</th>\n",
       "      <th>conversion+3</th>\n",
       "      <th>USER_ID</th>\n",
       "      <th>freq</th>\n",
       "      <th>prob0</th>\n",
       "      <th>prob1</th>\n",
       "      <th>prob2</th>\n",
       "      <th>prob3</th>\n",
       "      <th>proportion</th>\n",
       "    </tr>\n",
       "    <tr>\n",
       "      <th>PAGE</th>\n",
       "      <th>PAGE_descripcion</th>\n",
       "      <th></th>\n",
       "      <th></th>\n",
       "      <th></th>\n",
       "      <th></th>\n",
       "      <th></th>\n",
       "      <th></th>\n",
       "      <th></th>\n",
       "      <th></th>\n",
       "      <th></th>\n",
       "      <th></th>\n",
       "      <th></th>\n",
       "    </tr>\n",
       "  </thead>\n",
       "  <tbody>\n",
       "    <tr>\n",
       "      <th>1</th>\n",
       "      <th>WEB : EMINENT</th>\n",
       "      <td>3521.0</td>\n",
       "      <td>2619.0</td>\n",
       "      <td>2161.0</td>\n",
       "      <td>2150.0</td>\n",
       "      <td>8013</td>\n",
       "      <td>257914</td>\n",
       "      <td>0.013652</td>\n",
       "      <td>0.010155</td>\n",
       "      <td>0.008379</td>\n",
       "      <td>0.008336</td>\n",
       "      <td>0.014379</td>\n",
       "    </tr>\n",
       "    <tr>\n",
       "      <th>2</th>\n",
       "      <th>/LOGIN</th>\n",
       "      <td>57148.0</td>\n",
       "      <td>42753.0</td>\n",
       "      <td>35780.0</td>\n",
       "      <td>35702.0</td>\n",
       "      <td>11642</td>\n",
       "      <td>2935681</td>\n",
       "      <td>0.019467</td>\n",
       "      <td>0.014563</td>\n",
       "      <td>0.012188</td>\n",
       "      <td>0.012161</td>\n",
       "      <td>0.163667</td>\n",
       "    </tr>\n",
       "    <tr>\n",
       "      <th>3</th>\n",
       "      <th>/INICIO</th>\n",
       "      <td>59407.0</td>\n",
       "      <td>43812.0</td>\n",
       "      <td>36594.0</td>\n",
       "      <td>36507.0</td>\n",
       "      <td>11578</td>\n",
       "      <td>2838128</td>\n",
       "      <td>0.020932</td>\n",
       "      <td>0.015437</td>\n",
       "      <td>0.012894</td>\n",
       "      <td>0.012863</td>\n",
       "      <td>0.158228</td>\n",
       "    </tr>\n",
       "    <tr>\n",
       "      <th>4</th>\n",
       "      <th>/CUENTAS/MIS-CUENTAS</th>\n",
       "      <td>8823.0</td>\n",
       "      <td>6812.0</td>\n",
       "      <td>6106.0</td>\n",
       "      <td>5885.0</td>\n",
       "      <td>11234</td>\n",
       "      <td>526725</td>\n",
       "      <td>0.016751</td>\n",
       "      <td>0.012933</td>\n",
       "      <td>0.011592</td>\n",
       "      <td>0.011173</td>\n",
       "      <td>0.029365</td>\n",
       "    </tr>\n",
       "    <tr>\n",
       "      <th>5</th>\n",
       "      <th>/ERROR/SESIONEXPIRADA</th>\n",
       "      <td>13780.0</td>\n",
       "      <td>9828.0</td>\n",
       "      <td>7981.0</td>\n",
       "      <td>8006.0</td>\n",
       "      <td>11405</td>\n",
       "      <td>660189</td>\n",
       "      <td>0.020873</td>\n",
       "      <td>0.014887</td>\n",
       "      <td>0.012089</td>\n",
       "      <td>0.012127</td>\n",
       "      <td>0.036806</td>\n",
       "    </tr>\n",
       "  </tbody>\n",
       "</table>\n",
       "</div>"
      ],
      "text/plain": [
       "                            conversion+0  conversion+1  conversion+2  \\\n",
       "PAGE PAGE_descripcion                                                  \n",
       "1    WEB : EMINENT                3521.0        2619.0        2161.0   \n",
       "2    /LOGIN                      57148.0       42753.0       35780.0   \n",
       "3    /INICIO                     59407.0       43812.0       36594.0   \n",
       "4    /CUENTAS/MIS-CUENTAS         8823.0        6812.0        6106.0   \n",
       "5    /ERROR/SESIONEXPIRADA       13780.0        9828.0        7981.0   \n",
       "\n",
       "                            conversion+3  USER_ID     freq     prob0  \\\n",
       "PAGE PAGE_descripcion                                                  \n",
       "1    WEB : EMINENT                2150.0     8013   257914  0.013652   \n",
       "2    /LOGIN                      35702.0    11642  2935681  0.019467   \n",
       "3    /INICIO                     36507.0    11578  2838128  0.020932   \n",
       "4    /CUENTAS/MIS-CUENTAS         5885.0    11234   526725  0.016751   \n",
       "5    /ERROR/SESIONEXPIRADA        8006.0    11405   660189  0.020873   \n",
       "\n",
       "                               prob1     prob2     prob3  proportion  \n",
       "PAGE PAGE_descripcion                                                 \n",
       "1    WEB : EMINENT          0.010155  0.008379  0.008336    0.014379  \n",
       "2    /LOGIN                 0.014563  0.012188  0.012161    0.163667  \n",
       "3    /INICIO                0.015437  0.012894  0.012863    0.158228  \n",
       "4    /CUENTAS/MIS-CUENTAS   0.012933  0.011592  0.011173    0.029365  \n",
       "5    /ERROR/SESIONEXPIRADA  0.014887  0.012089  0.012127    0.036806  "
      ]
     },
     "execution_count": 15,
     "metadata": {},
     "output_type": "execute_result"
    }
   ],
   "source": [
    "probs = data.groupby(['PAGE','PAGE_descripcion']).agg({'conversion+0':('sum'), 'conversion+1':('sum')\n",
    "                            , 'conversion+2':('sum'), 'conversion+3':('sum'), 'USER_ID':'nunique'\n",
    "                            , 'PAGE':'count'})\n",
    "probs = probs.rename(columns = {'PAGE':'freq'})\n",
    "\n",
    "probs['prob0'] = probs['conversion+0']/probs['freq']\n",
    "probs['prob1'] = probs['conversion+1']/probs['freq']\n",
    "probs['prob2'] = probs['conversion+2']/probs['freq']\n",
    "probs['prob3'] = probs['conversion+3']/probs['freq']\n",
    "probs['proportion'] = probs['freq']/pageviews.shape[0]\n",
    "probs.head()"
   ]
  },
  {
   "cell_type": "code",
   "execution_count": 16,
   "metadata": {},
   "outputs": [
    {
     "data": {
      "image/png": "[encoded data removed]",
      "text/plain": [
       "<Figure size 1152x432 with 1 Axes>"
      ]
     },
     "metadata": {
      "needs_background": "light"
     },
     "output_type": "display_data"
    }
   ],
   "source": [
    "plt.figure(figsize=(16, 6))\n",
    "sns.boxplot(data=pageviews['PAGE'])\n",
    "plt.show()"
   ]
  },
  {
   "cell_type": "code",
   "execution_count": 17,
   "metadata": {},
   "outputs": [
    {
     "data": {
      "image/png": "[encoded data removed]",
      "text/plain": [
       "<Figure size 1152x432 with 1 Axes>"
      ]
     },
     "metadata": {
      "needs_background": "light"
     },
     "output_type": "display_data"
    }
   ],
   "source": [
    "plt.figure(figsize=(16, 6))\n",
    "sns.boxplot(data=probs.loc[probs['freq'] > 300,:]['freq'])\n",
    "plt.show()"
   ]
  },
  {
   "cell_type": "code",
   "execution_count": 18,
   "metadata": {},
   "outputs": [
    {
     "data": {
      "image/png": "[encoded data removed]",
      "text/plain": [
       "<Figure size 1152x432 with 1 Axes>"
      ]
     },
     "metadata": {
      "needs_background": "light"
     },
     "output_type": "display_data"
    }
   ],
   "source": [
    "plt.figure(figsize=(16, 6))\n",
    "ax = sns.scatterplot(x=\"PAGE\", y=\"prob1\", data=probs.reset_index())"
   ]
  },
  {
   "cell_type": "code",
   "execution_count": 19,
   "metadata": {},
   "outputs": [
    {
     "data": {
      "image/png": "[encoded data removed]",
      "text/plain": [
       "<Figure size 1152x432 with 1 Axes>"
      ]
     },
     "metadata": {
      "needs_background": "light"
     },
     "output_type": "display_data"
    }
   ],
   "source": [
    "plt.figure(figsize=(16, 6))\n",
    "ax = sns.scatterplot(x=\"PAGE\", y=\"prob2\", data=probs.loc[probs['freq'] > 30,:].reset_index())"
   ]
  },
  {
   "cell_type": "code",
   "execution_count": 20,
   "metadata": {},
   "outputs": [
    {
     "data": {
      "image/png": "[encoded data removed]",
      "text/plain": [
       "<Figure size 1152x432 with 1 Axes>"
      ]
     },
     "metadata": {
      "needs_background": "light"
     },
     "output_type": "display_data"
    }
   ],
   "source": [
    "plt.figure(figsize=(16, 6))\n",
    "ax = sns.scatterplot(x=\"PAGE\", y=\"prob3\", data=probs.loc[probs['freq'] > 30,:].reset_index())"
   ]
  },
  {
   "cell_type": "markdown",
   "metadata": {
    "collapsed": true
   },
   "source": [
    "####  Probabilidad de conversion para cada día"
   ]
  },
  {
   "cell_type": "code",
   "execution_count": 35,
   "metadata": {},
   "outputs": [],
   "source": [
    "data.head()\n",
    "data['diasemana'] = data['FEC_EVENT'].dt.dayofweek\n",
    "data['diames'] = data['FEC_EVENT'].dt.day\n",
    "data['hora'] = data['FEC_EVENT'].dt.hour"
   ]
  },
  {
   "cell_type": "code",
   "execution_count": 28,
   "metadata": {},
   "outputs": [
    {
     "data": {
      "text/html": [
       "<div>\n",
       "<style scoped>\n",
       "    .dataframe tbody tr th:only-of-type {\n",
       "        vertical-align: middle;\n",
       "    }\n",
       "\n",
       "    .dataframe tbody tr th {\n",
       "        vertical-align: top;\n",
       "    }\n",
       "\n",
       "    .dataframe thead th {\n",
       "        text-align: right;\n",
       "    }\n",
       "</style>\n",
       "<table border=\"1\" class=\"dataframe\">\n",
       "  <thead>\n",
       "    <tr style=\"text-align: right;\">\n",
       "      <th></th>\n",
       "      <th>conversion+0</th>\n",
       "      <th>conversion+1</th>\n",
       "      <th>conversion+2</th>\n",
       "      <th>conversion+3</th>\n",
       "      <th>USER_ID</th>\n",
       "      <th>freq</th>\n",
       "      <th>prob0</th>\n",
       "      <th>prob1</th>\n",
       "      <th>prob2</th>\n",
       "      <th>prob3</th>\n",
       "      <th>proportion</th>\n",
       "    </tr>\n",
       "    <tr>\n",
       "      <th>diasemana</th>\n",
       "      <th></th>\n",
       "      <th></th>\n",
       "      <th></th>\n",
       "      <th></th>\n",
       "      <th></th>\n",
       "      <th></th>\n",
       "      <th></th>\n",
       "      <th></th>\n",
       "      <th></th>\n",
       "      <th></th>\n",
       "      <th></th>\n",
       "    </tr>\n",
       "  </thead>\n",
       "  <tbody>\n",
       "    <tr>\n",
       "      <th>0</th>\n",
       "      <td>72862.0</td>\n",
       "      <td>51842.0</td>\n",
       "      <td>43399.0</td>\n",
       "      <td>47303.0</td>\n",
       "      <td>11424</td>\n",
       "      <td>3556010</td>\n",
       "      <td>0.020490</td>\n",
       "      <td>0.014579</td>\n",
       "      <td>0.012204</td>\n",
       "      <td>0.013302</td>\n",
       "      <td>0.198251</td>\n",
       "    </tr>\n",
       "    <tr>\n",
       "      <th>1</th>\n",
       "      <td>64759.0</td>\n",
       "      <td>47727.0</td>\n",
       "      <td>40080.0</td>\n",
       "      <td>40104.0</td>\n",
       "      <td>11380</td>\n",
       "      <td>3151448</td>\n",
       "      <td>0.020549</td>\n",
       "      <td>0.015144</td>\n",
       "      <td>0.012718</td>\n",
       "      <td>0.012726</td>\n",
       "      <td>0.175696</td>\n",
       "    </tr>\n",
       "    <tr>\n",
       "      <th>2</th>\n",
       "      <td>72606.0</td>\n",
       "      <td>49781.0</td>\n",
       "      <td>40172.0</td>\n",
       "      <td>42824.0</td>\n",
       "      <td>11432</td>\n",
       "      <td>3351480</td>\n",
       "      <td>0.021664</td>\n",
       "      <td>0.014853</td>\n",
       "      <td>0.011986</td>\n",
       "      <td>0.012778</td>\n",
       "      <td>0.186848</td>\n",
       "    </tr>\n",
       "    <tr>\n",
       "      <th>3</th>\n",
       "      <td>69340.0</td>\n",
       "      <td>51662.0</td>\n",
       "      <td>38758.0</td>\n",
       "      <td>40989.0</td>\n",
       "      <td>11432</td>\n",
       "      <td>3257922</td>\n",
       "      <td>0.021284</td>\n",
       "      <td>0.015857</td>\n",
       "      <td>0.011897</td>\n",
       "      <td>0.012581</td>\n",
       "      <td>0.181632</td>\n",
       "    </tr>\n",
       "    <tr>\n",
       "      <th>4</th>\n",
       "      <td>62377.0</td>\n",
       "      <td>40464.0</td>\n",
       "      <td>36655.0</td>\n",
       "      <td>35973.0</td>\n",
       "      <td>11374</td>\n",
       "      <td>2877953</td>\n",
       "      <td>0.021674</td>\n",
       "      <td>0.014060</td>\n",
       "      <td>0.012736</td>\n",
       "      <td>0.012500</td>\n",
       "      <td>0.160448</td>\n",
       "    </tr>\n",
       "  </tbody>\n",
       "</table>\n",
       "</div>"
      ],
      "text/plain": [
       "           conversion+0  conversion+1  conversion+2  conversion+3  USER_ID  \\\n",
       "diasemana                                                                    \n",
       "0               72862.0       51842.0       43399.0       47303.0    11424   \n",
       "1               64759.0       47727.0       40080.0       40104.0    11380   \n",
       "2               72606.0       49781.0       40172.0       42824.0    11432   \n",
       "3               69340.0       51662.0       38758.0       40989.0    11432   \n",
       "4               62377.0       40464.0       36655.0       35973.0    11374   \n",
       "\n",
       "              freq     prob0     prob1     prob2     prob3  proportion  \n",
       "diasemana                                                               \n",
       "0          3556010  0.020490  0.014579  0.012204  0.013302    0.198251  \n",
       "1          3151448  0.020549  0.015144  0.012718  0.012726    0.175696  \n",
       "2          3351480  0.021664  0.014853  0.011986  0.012778    0.186848  \n",
       "3          3257922  0.021284  0.015857  0.011897  0.012581    0.181632  \n",
       "4          2877953  0.021674  0.014060  0.012736  0.012500    0.160448  "
      ]
     },
     "execution_count": 28,
     "metadata": {},
     "output_type": "execute_result"
    }
   ],
   "source": [
    "probs = data.groupby(['diasemana']).agg({'conversion+0':('sum'), 'conversion+1':('sum')\n",
    "                            , 'conversion+2':('sum'), 'conversion+3':('sum'), 'USER_ID':'nunique'\n",
    "                            , 'diasemana':'count'})\n",
    "probs = probs.rename(columns = {'diasemana':'freq'})\n",
    "\n",
    "probs['prob0'] = probs['conversion+0']/probs['freq']\n",
    "probs['prob1'] = probs['conversion+1']/probs['freq']\n",
    "probs['prob2'] = probs['conversion+2']/probs['freq']\n",
    "probs['prob3'] = probs['conversion+3']/probs['freq']\n",
    "probs['proportion'] = probs['freq']/pageviews.shape[0]\n",
    "probs.head()"
   ]
  },
  {
   "cell_type": "code",
   "execution_count": 29,
   "metadata": {},
   "outputs": [
    {
     "data": {
      "image/png": "[encoded data removed]",
      "text/plain": [
       "<Figure size 1152x432 with 1 Axes>"
      ]
     },
     "metadata": {
      "needs_background": "light"
     },
     "output_type": "display_data"
    }
   ],
   "source": [
    "plt.figure(figsize=(16, 6))\n",
    "ax = sns.scatterplot(x=\"diasemana\", y=\"prob1\", data=probs.reset_index())"
   ]
  },
  {
   "cell_type": "code",
   "execution_count": 39,
   "metadata": {},
   "outputs": [
    {
     "data": {
      "text/html": [
       "<div>\n",
       "<style scoped>\n",
       "    .dataframe tbody tr th:only-of-type {\n",
       "        vertical-align: middle;\n",
       "    }\n",
       "\n",
       "    .dataframe tbody tr th {\n",
       "        vertical-align: top;\n",
       "    }\n",
       "\n",
       "    .dataframe thead th {\n",
       "        text-align: right;\n",
       "    }\n",
       "</style>\n",
       "<table border=\"1\" class=\"dataframe\">\n",
       "  <thead>\n",
       "    <tr style=\"text-align: right;\">\n",
       "      <th></th>\n",
       "      <th>conversion+0</th>\n",
       "      <th>conversion+1</th>\n",
       "      <th>conversion+2</th>\n",
       "      <th>conversion+3</th>\n",
       "      <th>USER_ID</th>\n",
       "      <th>freq</th>\n",
       "      <th>prob0</th>\n",
       "      <th>prob1</th>\n",
       "      <th>prob2</th>\n",
       "      <th>prob3</th>\n",
       "      <th>proportion</th>\n",
       "    </tr>\n",
       "    <tr>\n",
       "      <th>diames</th>\n",
       "      <th></th>\n",
       "      <th></th>\n",
       "      <th></th>\n",
       "      <th></th>\n",
       "      <th></th>\n",
       "      <th></th>\n",
       "      <th></th>\n",
       "      <th></th>\n",
       "      <th></th>\n",
       "      <th></th>\n",
       "      <th></th>\n",
       "    </tr>\n",
       "  </thead>\n",
       "  <tbody>\n",
       "    <tr>\n",
       "      <th>1</th>\n",
       "      <td>12892.0</td>\n",
       "      <td>11339.0</td>\n",
       "      <td>7363.0</td>\n",
       "      <td>8487.0</td>\n",
       "      <td>9891</td>\n",
       "      <td>613773</td>\n",
       "      <td>0.021005</td>\n",
       "      <td>0.018474</td>\n",
       "      <td>0.011996</td>\n",
       "      <td>0.013828</td>\n",
       "      <td>0.034218</td>\n",
       "    </tr>\n",
       "    <tr>\n",
       "      <th>2</th>\n",
       "      <td>13963.0</td>\n",
       "      <td>10792.0</td>\n",
       "      <td>7607.0</td>\n",
       "      <td>9287.0</td>\n",
       "      <td>10056</td>\n",
       "      <td>689884</td>\n",
       "      <td>0.020240</td>\n",
       "      <td>0.015643</td>\n",
       "      <td>0.011026</td>\n",
       "      <td>0.013462</td>\n",
       "      <td>0.038462</td>\n",
       "    </tr>\n",
       "    <tr>\n",
       "      <th>3</th>\n",
       "      <td>17771.0</td>\n",
       "      <td>12936.0</td>\n",
       "      <td>10484.0</td>\n",
       "      <td>9630.0</td>\n",
       "      <td>10324</td>\n",
       "      <td>815495</td>\n",
       "      <td>0.021792</td>\n",
       "      <td>0.015863</td>\n",
       "      <td>0.012856</td>\n",
       "      <td>0.011809</td>\n",
       "      <td>0.045465</td>\n",
       "    </tr>\n",
       "    <tr>\n",
       "      <th>4</th>\n",
       "      <td>17547.0</td>\n",
       "      <td>11272.0</td>\n",
       "      <td>13392.0</td>\n",
       "      <td>9924.0</td>\n",
       "      <td>10376</td>\n",
       "      <td>796030</td>\n",
       "      <td>0.022043</td>\n",
       "      <td>0.014160</td>\n",
       "      <td>0.016823</td>\n",
       "      <td>0.012467</td>\n",
       "      <td>0.044379</td>\n",
       "    </tr>\n",
       "    <tr>\n",
       "      <th>5</th>\n",
       "      <td>21503.0</td>\n",
       "      <td>13453.0</td>\n",
       "      <td>11040.0</td>\n",
       "      <td>12536.0</td>\n",
       "      <td>10709</td>\n",
       "      <td>1017940</td>\n",
       "      <td>0.021124</td>\n",
       "      <td>0.013216</td>\n",
       "      <td>0.010845</td>\n",
       "      <td>0.012315</td>\n",
       "      <td>0.056751</td>\n",
       "    </tr>\n",
       "  </tbody>\n",
       "</table>\n",
       "</div>"
      ],
      "text/plain": [
       "        conversion+0  conversion+1  conversion+2  conversion+3  USER_ID  \\\n",
       "diames                                                                    \n",
       "1            12892.0       11339.0        7363.0        8487.0     9891   \n",
       "2            13963.0       10792.0        7607.0        9287.0    10056   \n",
       "3            17771.0       12936.0       10484.0        9630.0    10324   \n",
       "4            17547.0       11272.0       13392.0        9924.0    10376   \n",
       "5            21503.0       13453.0       11040.0       12536.0    10709   \n",
       "\n",
       "           freq     prob0     prob1     prob2     prob3  proportion  \n",
       "diames                                                               \n",
       "1        613773  0.021005  0.018474  0.011996  0.013828    0.034218  \n",
       "2        689884  0.020240  0.015643  0.011026  0.013462    0.038462  \n",
       "3        815495  0.021792  0.015863  0.012856  0.011809    0.045465  \n",
       "4        796030  0.022043  0.014160  0.016823  0.012467    0.044379  \n",
       "5       1017940  0.021124  0.013216  0.010845  0.012315    0.056751  "
      ]
     },
     "execution_count": 39,
     "metadata": {},
     "output_type": "execute_result"
    }
   ],
   "source": [
    "probs = data.groupby(['diames']).agg({'conversion+0':('sum'), 'conversion+1':('sum')\n",
    "                            , 'conversion+2':('sum'), 'conversion+3':('sum'), 'USER_ID':'nunique'\n",
    "                            , 'diames':'count'})\n",
    "probs = probs.rename(columns = {'diames':'freq'})\n",
    "\n",
    "probs['prob0'] = probs['conversion+0']/probs['freq']\n",
    "probs['prob1'] = probs['conversion+1']/probs['freq']\n",
    "probs['prob2'] = probs['conversion+2']/probs['freq']\n",
    "probs['prob3'] = probs['conversion+3']/probs['freq']\n",
    "probs['proportion'] = probs['freq']/pageviews.shape[0]\n",
    "probs.head()"
   ]
  },
  {
   "cell_type": "code",
   "execution_count": 49,
   "metadata": {},
   "outputs": [
    {
     "data": {
      "image/png": "[encoded data removed]",
      "text/plain": [
       "<Figure size 1152x432 with 1 Axes>"
      ]
     },
     "metadata": {
      "needs_background": "light"
     },
     "output_type": "display_data"
    }
   ],
   "source": [
    "plt.figure(figsize=(16, 6))\n",
    "ax = sns.scatterplot(x=\"diames\", y=\"prob1\", data=probs.reset_index())"
   ]
  },
  {
   "cell_type": "code",
   "execution_count": 37,
   "metadata": {},
   "outputs": [
    {
     "data": {
      "text/html": [
       "<div>\n",
       "<style scoped>\n",
       "    .dataframe tbody tr th:only-of-type {\n",
       "        vertical-align: middle;\n",
       "    }\n",
       "\n",
       "    .dataframe tbody tr th {\n",
       "        vertical-align: top;\n",
       "    }\n",
       "\n",
       "    .dataframe thead th {\n",
       "        text-align: right;\n",
       "    }\n",
       "</style>\n",
       "<table border=\"1\" class=\"dataframe\">\n",
       "  <thead>\n",
       "    <tr style=\"text-align: right;\">\n",
       "      <th></th>\n",
       "      <th>conversion+0</th>\n",
       "      <th>conversion+1</th>\n",
       "      <th>conversion+2</th>\n",
       "      <th>conversion+3</th>\n",
       "      <th>USER_ID</th>\n",
       "      <th>freq</th>\n",
       "      <th>prob0</th>\n",
       "      <th>prob1</th>\n",
       "      <th>prob2</th>\n",
       "      <th>prob3</th>\n",
       "      <th>proportion</th>\n",
       "    </tr>\n",
       "    <tr>\n",
       "      <th>hora</th>\n",
       "      <th></th>\n",
       "      <th></th>\n",
       "      <th></th>\n",
       "      <th></th>\n",
       "      <th></th>\n",
       "      <th></th>\n",
       "      <th></th>\n",
       "      <th></th>\n",
       "      <th></th>\n",
       "      <th></th>\n",
       "      <th></th>\n",
       "    </tr>\n",
       "  </thead>\n",
       "  <tbody>\n",
       "    <tr>\n",
       "      <th>0</th>\n",
       "      <td>5827.0</td>\n",
       "      <td>3236.0</td>\n",
       "      <td>2883.0</td>\n",
       "      <td>3396.0</td>\n",
       "      <td>5974</td>\n",
       "      <td>213492</td>\n",
       "      <td>0.027294</td>\n",
       "      <td>0.015157</td>\n",
       "      <td>0.013504</td>\n",
       "      <td>0.015907</td>\n",
       "      <td>0.011902</td>\n",
       "    </tr>\n",
       "    <tr>\n",
       "      <th>1</th>\n",
       "      <td>2272.0</td>\n",
       "      <td>1714.0</td>\n",
       "      <td>1363.0</td>\n",
       "      <td>1581.0</td>\n",
       "      <td>3885</td>\n",
       "      <td>103024</td>\n",
       "      <td>0.022053</td>\n",
       "      <td>0.016637</td>\n",
       "      <td>0.013230</td>\n",
       "      <td>0.015346</td>\n",
       "      <td>0.005744</td>\n",
       "    </tr>\n",
       "    <tr>\n",
       "      <th>2</th>\n",
       "      <td>1615.0</td>\n",
       "      <td>950.0</td>\n",
       "      <td>997.0</td>\n",
       "      <td>920.0</td>\n",
       "      <td>2509</td>\n",
       "      <td>56725</td>\n",
       "      <td>0.028471</td>\n",
       "      <td>0.016747</td>\n",
       "      <td>0.017576</td>\n",
       "      <td>0.016219</td>\n",
       "      <td>0.003162</td>\n",
       "    </tr>\n",
       "    <tr>\n",
       "      <th>3</th>\n",
       "      <td>963.0</td>\n",
       "      <td>624.0</td>\n",
       "      <td>670.0</td>\n",
       "      <td>776.0</td>\n",
       "      <td>1848</td>\n",
       "      <td>47351</td>\n",
       "      <td>0.020337</td>\n",
       "      <td>0.013178</td>\n",
       "      <td>0.014150</td>\n",
       "      <td>0.016388</td>\n",
       "      <td>0.002640</td>\n",
       "    </tr>\n",
       "    <tr>\n",
       "      <th>4</th>\n",
       "      <td>1087.0</td>\n",
       "      <td>915.0</td>\n",
       "      <td>671.0</td>\n",
       "      <td>1166.0</td>\n",
       "      <td>1690</td>\n",
       "      <td>50597</td>\n",
       "      <td>0.021483</td>\n",
       "      <td>0.018084</td>\n",
       "      <td>0.013262</td>\n",
       "      <td>0.023045</td>\n",
       "      <td>0.002821</td>\n",
       "    </tr>\n",
       "  </tbody>\n",
       "</table>\n",
       "</div>"
      ],
      "text/plain": [
       "      conversion+0  conversion+1  conversion+2  conversion+3  USER_ID    freq  \\\n",
       "hora                                                                            \n",
       "0           5827.0        3236.0        2883.0        3396.0     5974  213492   \n",
       "1           2272.0        1714.0        1363.0        1581.0     3885  103024   \n",
       "2           1615.0         950.0         997.0         920.0     2509   56725   \n",
       "3            963.0         624.0         670.0         776.0     1848   47351   \n",
       "4           1087.0         915.0         671.0        1166.0     1690   50597   \n",
       "\n",
       "         prob0     prob1     prob2     prob3  proportion  \n",
       "hora                                                      \n",
       "0     0.027294  0.015157  0.013504  0.015907    0.011902  \n",
       "1     0.022053  0.016637  0.013230  0.015346    0.005744  \n",
       "2     0.028471  0.016747  0.017576  0.016219    0.003162  \n",
       "3     0.020337  0.013178  0.014150  0.016388    0.002640  \n",
       "4     0.021483  0.018084  0.013262  0.023045    0.002821  "
      ]
     },
     "execution_count": 37,
     "metadata": {},
     "output_type": "execute_result"
    }
   ],
   "source": [
    "probs = data.groupby(['hora']).agg({'conversion+0':('sum'), 'conversion+1':('sum')\n",
    "                            , 'conversion+2':('sum'), 'conversion+3':('sum'), 'USER_ID':'nunique'\n",
    "                            , 'hora':'count'})\n",
    "probs = probs.rename(columns = {'hora':'freq'})\n",
    "\n",
    "probs['prob0'] = probs['conversion+0']/probs['freq']\n",
    "probs['prob1'] = probs['conversion+1']/probs['freq']\n",
    "probs['prob2'] = probs['conversion+2']/probs['freq']\n",
    "probs['prob3'] = probs['conversion+3']/probs['freq']\n",
    "probs['proportion'] = probs['freq']/pageviews.shape[0]\n",
    "probs.head()"
   ]
  },
  {
   "cell_type": "code",
   "execution_count": 38,
   "metadata": {},
   "outputs": [
    {
     "data": {
      "image/png": "[encoded data removed]",
      "text/plain": [
       "<Figure size 1152x432 with 1 Axes>"
      ]
     },
     "metadata": {
      "needs_background": "light"
     },
     "output_type": "display_data"
    }
   ],
   "source": [
    "plt.figure(figsize=(16, 6))\n",
    "ax = sns.scatterplot(x=\"hora\", y=\"prob1\", data=probs.reset_index())"
   ]
  },
  {
   "cell_type": "code",
   "execution_count": null,
   "metadata": {},
   "outputs": [],
   "source": []
  },
  {
   "cell_type": "code",
   "execution_count": null,
   "metadata": {},
   "outputs": [],
   "source": []
  },
  {
   "cell_type": "code",
   "execution_count": null,
   "metadata": {},
   "outputs": [],
   "source": []
  },
  {
   "cell_type": "code",
   "execution_count": null,
   "metadata": {
    "collapsed": true
   },
   "outputs": [],
   "source": []
  },
  {
   "cell_type": "markdown",
   "metadata": {
    "collapsed": true
   },
   "source": [
    "### Sesiones por usuario"
   ]
  },
  {
   "cell_type": "code",
   "execution_count": 14,
   "metadata": {},
   "outputs": [
    {
     "name": "stdout",
     "output_type": "stream",
     "text": [
      "                  FEC_EVENT  USER_ID  anio  mes  conversion  \\\n",
      "7802747 2018-01-01 09:56:47        0  2018    1         0.0   \n",
      "7802748 2018-01-01 09:57:19        0  2018    1         0.0   \n",
      "7438836 2018-01-01 09:57:48        0  2018    1         0.0   \n",
      "7759788 2018-01-01 09:57:48        0  2018    1         0.0   \n",
      "7755745 2018-01-01 09:57:49        0  2018    1         0.0   \n",
      "\n",
      "                                          PAGE_descripcion  \\\n",
      "7802747                                HB : MASIVO : LOGIN   \n",
      "7802748                                HB : MASIVO : LOGIN   \n",
      "7438836  HB : EMINENT : CONSULTAS : RESUMEN DE PRODUCTO...   \n",
      "7759788  HB : EMINENT : CONSULTAS : ERRORES : INFORMACI...   \n",
      "7755745  HB : EMINENT : CONSULTAS : ERRORES : INFORMACI...   \n",
      "\n",
      "                  last_date  new_session session_id  \n",
      "7802747                 NaT            1        0_1  \n",
      "7802748 2018-01-01 09:56:47            0        0_1  \n",
      "7438836 2018-01-01 09:57:19            0        0_1  \n",
      "7759788 2018-01-01 09:57:48            0        0_1  \n",
      "7755745 2018-01-01 09:57:48            0        0_1  \n"
     ]
    }
   ],
   "source": [
    "# Definimos un límite de tiempo entre eventos (Cuánto tiempo pasa hasta que expira la sesión?)\n",
    "T = timedelta(seconds=30*60)\n",
    "\n",
    "# data = data.loc[:,['USER_ID', 'FEC_EVENT', 'anio', 'mes']]\n",
    "# Ordenamos el dataset por usuario y fecha de evento\n",
    "data = data.sort_values(by=['USER_ID','FEC_EVENT'])\n",
    "\n",
    "# Agregamos una columna con la fecha de evento anterior\n",
    "data['last_date'] = data.groupby(['USER_ID'])['FEC_EVENT'].shift()\n",
    "\n",
    "# Crear flag de nueva sesión cada vez que hay un nuevo ingreso\n",
    "data['new_session'] = (((data['FEC_EVENT']\n",
    "                            - data['last_date'])>=T) | (data['last_date'].isnull())).astype(int)\n",
    "data['inc'] = data.groupby('USER_ID')['new_session'].cumsum()\n",
    "\n",
    "# Creamos el id de sesión\n",
    "data['session_id'] = data['USER_ID'].astype(str) + '_' + data['inc'].astype(str)\n",
    "data = data.drop('inc', axis=1)\n",
    "\n",
    "print(data.head())"
   ]
  },
  {
   "cell_type": "code",
   "execution_count": 16,
   "metadata": {},
   "outputs": [
    {
     "name": "stdout",
     "output_type": "stream",
     "text": [
      "1863834\n"
     ]
    },
    {
     "data": {
      "text/html": [
       "<div>\n",
       "<style>\n",
       "    .dataframe thead tr:only-child th {\n",
       "        text-align: right;\n",
       "    }\n",
       "\n",
       "    .dataframe thead th {\n",
       "        text-align: left;\n",
       "    }\n",
       "\n",
       "    .dataframe tbody tr th {\n",
       "        vertical-align: top;\n",
       "    }\n",
       "</style>\n",
       "<table border=\"1\" class=\"dataframe\">\n",
       "  <thead>\n",
       "    <tr style=\"text-align: right;\">\n",
       "      <th></th>\n",
       "      <th>session_id</th>\n",
       "      <th>USER_ID</th>\n",
       "      <th>min</th>\n",
       "      <th>max</th>\n",
       "      <th>count</th>\n",
       "      <th>sum</th>\n",
       "    </tr>\n",
       "  </thead>\n",
       "  <tbody>\n",
       "    <tr>\n",
       "      <th>2667</th>\n",
       "      <td>10016_100</td>\n",
       "      <td>10016</td>\n",
       "      <td>2018-05-02 12:49:44</td>\n",
       "      <td>2018-05-02 12:49:59</td>\n",
       "      <td>3</td>\n",
       "      <td>3.0</td>\n",
       "    </tr>\n",
       "    <tr>\n",
       "      <th>2668</th>\n",
       "      <td>10016_101</td>\n",
       "      <td>10016</td>\n",
       "      <td>2018-05-02 14:19:34</td>\n",
       "      <td>2018-05-02 14:23:13</td>\n",
       "      <td>14</td>\n",
       "      <td>14.0</td>\n",
       "    </tr>\n",
       "    <tr>\n",
       "      <th>2669</th>\n",
       "      <td>10016_102</td>\n",
       "      <td>10016</td>\n",
       "      <td>2018-05-03 09:40:35</td>\n",
       "      <td>2018-05-03 10:43:25</td>\n",
       "      <td>44</td>\n",
       "      <td>44.0</td>\n",
       "    </tr>\n",
       "    <tr>\n",
       "      <th>2670</th>\n",
       "      <td>10016_103</td>\n",
       "      <td>10016</td>\n",
       "      <td>2018-05-04 07:39:09</td>\n",
       "      <td>2018-05-04 07:45:24</td>\n",
       "      <td>5</td>\n",
       "      <td>5.0</td>\n",
       "    </tr>\n",
       "    <tr>\n",
       "      <th>2671</th>\n",
       "      <td>10016_104</td>\n",
       "      <td>10016</td>\n",
       "      <td>2018-05-04 10:13:55</td>\n",
       "      <td>2018-05-04 10:19:18</td>\n",
       "      <td>4</td>\n",
       "      <td>4.0</td>\n",
       "    </tr>\n",
       "  </tbody>\n",
       "</table>\n",
       "</div>"
      ],
      "text/plain": [
       "     session_id  USER_ID                 min                 max  count   sum\n",
       "2667  10016_100    10016 2018-05-02 12:49:44 2018-05-02 12:49:59      3   3.0\n",
       "2668  10016_101    10016 2018-05-02 14:19:34 2018-05-02 14:23:13     14  14.0\n",
       "2669  10016_102    10016 2018-05-03 09:40:35 2018-05-03 10:43:25     44  44.0\n",
       "2670  10016_103    10016 2018-05-04 07:39:09 2018-05-04 07:45:24      5   5.0\n",
       "2671  10016_104    10016 2018-05-04 10:13:55 2018-05-04 10:19:18      4   4.0"
      ]
     },
     "execution_count": 16,
     "metadata": {},
     "output_type": "execute_result"
    }
   ],
   "source": [
    "sessions = data.groupby(['session_id', 'USER_ID']).agg({'FEC_EVENT':['min','max','count'], 'conversion':'sum'})\n",
    "sessions.columns = sessions.columns.droplevel()\n",
    "# sessions.columns = ['event count','min timestamp','max timestamp','unique skus']\n",
    "# sessions.columns = sessions.columns.astype('object')\n",
    "sessions = sessions.reset_index()\n",
    "print(sessions['session_id'].nunique())\n",
    "sessions.loc[sessions['sum'] > 0].head()"
   ]
  },
  {
   "cell_type": "markdown",
   "metadata": {},
   "source": [
    "Con qué PAGE inician las sesiones??"
   ]
  },
  {
   "cell_type": "code",
   "execution_count": 15,
   "metadata": {},
   "outputs": [
    {
     "data": {
      "text/plain": [
       "/LOGIN                                                   786139\n",
       "WEB : PERSONAS                                           429831\n",
       "WEB : EMINENT                                            140243\n",
       "/ERROR/SESIONEXPIRADA                                    118415\n",
       "PRODUCTOSYSERVICIOS : NUEVO ONLINE BANKING GALICIA        60500\n",
       "HB : MASIVO : LOGIN                                       57658\n",
       "PRODUCTOSYSERVICIOS : ONLINEBANKING                       54745\n",
       "WEB : EMPRESAS                                            41847\n",
       "HB : MASIVO : CONSULTAS : RESUMEN DE PRODUCTOS : HOME     36063\n",
       "/INICIO                                                   34280\n",
       "WEB : NEGOCIOSYPYMES                                      19663\n",
       "HB : EMINENT : CONSULTAS : RESUMEN DE PRODUCTOS : HOM     10610\n",
       "HB : EMINENT : LOGIN                                       8058\n",
       "PRODUCTOSYSERVICIOS : COTIZADOR                            5559\n",
       "/ERROR/ERROROUT                                            3867\n",
       "WEB : RURAL                                                3435\n",
       "PRODUCTOSYSERVICIOS : NUEVO ONLINE BANKING GALICIA EM      2968\n",
       "/USERS/LOGIN                                               2786\n",
       "FICHAS : MARCA                                             2552\n",
       "/LANDING                                                   2062\n",
       "PRODUCTOSYSERVICIOS : OFFICEBANKING                        1984\n",
       "HB : MOVE : CONSULTAS : RESUMEN DE PRODUCTOS : HOME        1730\n",
       "BUSCADOR BENEFICIOS : TODAS LAS PROMOS                     1403\n",
       "PRODUCTOSYSERVICIOS : SACA TU TARJETA GALICIA              1400\n",
       "PRODUCTOSYSERVICIOS : PRESTAMOS PERSONALES BANCO GALI      1400\n",
       "/ERROR/ERRORIN                                             1055\n",
       "PRODUCTOSYSERVICIOS : PORTELEFONO                          1024\n",
       "WEB : CORPORATIVAS                                          993\n",
       "BUSCADORDECAJEROSYSUCURSALES : SUCURSALES                   946\n",
       "VAMOSLOSJUEVES1 : MARCAS                                    914\n",
       "                                                          ...  \n",
       "PRODUCTOSYSERVICIOS : SEGUROINTEGRALDECOMERCIO                1\n",
       "HB : MASIVO : LOGIN : OBTENE TU USUARIO                       1\n",
       "HB : MASIVO : QUIERO : ERRORES : ERROR NO MANEJADO            1\n",
       "/LANDING/                                                     1\n",
       "/INVERSIONES/EXITO-ALTA-PLAZO-FIJO                            1\n",
       "HC : TC : PASO 2.1 : OFERTA                                   1\n",
       "/CONFIRMACION/BIENVENIDO                                      1\n",
       "EMPRESAS : RESULTADO DE BUSQUEDA                              1\n",
       "QUENECESITASABER : PHISHING                                   1\n",
       "/TARJETAS/DEBITO-AUTOMATICO-EDITAR                            1\n",
       "BENEFICIOSYPROMOCIONES : PREVENTA BUQUEBUS MA                 1\n",
       "PRODUCTOSYSERVICIOS : CHEQUESONLINE                           1\n",
       "/INICIO+                                                      1\n",
       "HB : MASIVO : QUIERO : PASO 1 : SUSCRIPCION                   1\n",
       "/PERFIL/CONFIGURAR-ALERTAS                                    1\n",
       "PRODUCTOSYSERVICIOS : SEGURO ZURICH GALICIA EMINENT           1\n",
       "HC:STEP01:APPLICATION FORM                                    1\n",
       "/CUENTAS/EDITAR-ALIAS-CBU-PRECONFIRMACION                     1\n",
       "PRODUCTOSYSERVICIOS : TARJETA GALICIA MASTERCARD GOLD         1\n",
       "HB : MOVE : CONSULTAS : RESUMEN DE PRODUCTOS : MOVIMI         1\n",
       "/PERFIL/EDITAR-DOMICILIO-CONFIRMACION                         1\n",
       "/SEGURIDAD/ACTIVAR-TOKEN-VIRTUAL                              1\n",
       "/PAGOS/CONFIRMACIONALTADAS                                    1\n",
       "HB : EMINENT : LOGIN : ERRORES : NO ES UN CLIENTE BAN         1\n",
       "BENEFICIOSYPROMOCIONES : HACETEMOVE                           1\n",
       "PAGINA : RESUMEN ATENCION AL CLIENTE                          1\n",
       "/HIPOTECARIO/MENSAJE                                          1\n",
       "/TARJETAS/PRECONFIRMACIONPAGO                                 1\n",
       "PRODUCTOSYSERVICIOS : MENSAJE VTO PUNTOS QUIERO               1\n",
       "HB : MASIVO : OPERACIONES : PLAZO FIJO : PASO 3 : CON         1\n",
       "Name: PAGE_descripcion, Length: 732, dtype: int64"
      ]
     },
     "execution_count": 15,
     "metadata": {},
     "output_type": "execute_result"
    }
   ],
   "source": [
    "data.loc[data['new_session']==1,['USER_ID', 'FEC_EVENT', 'PAGE_descripcion']]['PAGE_descripcion'].value_counts()"
   ]
  },
  {
   "cell_type": "code",
   "execution_count": 17,
   "metadata": {},
   "outputs": [
    {
     "name": "stdout",
     "output_type": "stream",
     "text": [
      "(17996751, 9)\n",
      "(17936934, 10)\n"
     ]
    }
   ],
   "source": [
    "# data.loc[data['conversion']==0]\n",
    "print(data.shape)\n",
    "print(pageviews.shape)"
   ]
  },
  {
   "cell_type": "markdown",
   "metadata": {},
   "source": [
    "### Análisis de conversiones\n",
    "Analizamos si las conversiones en el último trimestre del 2018 dependen de la actividad en meses anteriores"
   ]
  },
  {
   "cell_type": "code",
   "execution_count": 18,
   "metadata": {},
   "outputs": [
    {
     "data": {
      "text/html": [
       "<div>\n",
       "<style>\n",
       "    .dataframe thead tr:only-child th {\n",
       "        text-align: right;\n",
       "    }\n",
       "\n",
       "    .dataframe thead th {\n",
       "        text-align: left;\n",
       "    }\n",
       "\n",
       "    .dataframe tbody tr th {\n",
       "        vertical-align: top;\n",
       "    }\n",
       "</style>\n",
       "<table border=\"1\" class=\"dataframe\">\n",
       "  <thead>\n",
       "    <tr style=\"text-align: right;\">\n",
       "      <th></th>\n",
       "      <th>FEC_EVENT</th>\n",
       "      <th>anio</th>\n",
       "      <th>mes</th>\n",
       "      <th>prev_conversions</th>\n",
       "      <th>PAGE_descripcion</th>\n",
       "      <th>last_date</th>\n",
       "      <th>new_session</th>\n",
       "      <th>session_id</th>\n",
       "      <th>label</th>\n",
       "    </tr>\n",
       "    <tr>\n",
       "      <th>USER_ID</th>\n",
       "      <th></th>\n",
       "      <th></th>\n",
       "      <th></th>\n",
       "      <th></th>\n",
       "      <th></th>\n",
       "      <th></th>\n",
       "      <th></th>\n",
       "      <th></th>\n",
       "      <th></th>\n",
       "    </tr>\n",
       "  </thead>\n",
       "  <tbody>\n",
       "    <tr>\n",
       "      <th>0</th>\n",
       "      <td>2018-01-01 09:56:47</td>\n",
       "      <td>2018</td>\n",
       "      <td>1</td>\n",
       "      <td>0.0</td>\n",
       "      <td>HB : MASIVO : LOGIN</td>\n",
       "      <td>NaT</td>\n",
       "      <td>1</td>\n",
       "      <td>0_1</td>\n",
       "      <td>0.0</td>\n",
       "    </tr>\n",
       "    <tr>\n",
       "      <th>0</th>\n",
       "      <td>2018-01-01 09:57:19</td>\n",
       "      <td>2018</td>\n",
       "      <td>1</td>\n",
       "      <td>0.0</td>\n",
       "      <td>HB : MASIVO : LOGIN</td>\n",
       "      <td>2018-01-01 09:56:47</td>\n",
       "      <td>0</td>\n",
       "      <td>0_1</td>\n",
       "      <td>0.0</td>\n",
       "    </tr>\n",
       "    <tr>\n",
       "      <th>0</th>\n",
       "      <td>2018-01-01 09:57:48</td>\n",
       "      <td>2018</td>\n",
       "      <td>1</td>\n",
       "      <td>0.0</td>\n",
       "      <td>HB : EMINENT : CONSULTAS : RESUMEN DE PRODUCTO...</td>\n",
       "      <td>2018-01-01 09:57:19</td>\n",
       "      <td>0</td>\n",
       "      <td>0_1</td>\n",
       "      <td>0.0</td>\n",
       "    </tr>\n",
       "    <tr>\n",
       "      <th>0</th>\n",
       "      <td>2018-01-01 09:57:48</td>\n",
       "      <td>2018</td>\n",
       "      <td>1</td>\n",
       "      <td>0.0</td>\n",
       "      <td>HB : EMINENT : CONSULTAS : ERRORES : INFORMACI...</td>\n",
       "      <td>2018-01-01 09:57:48</td>\n",
       "      <td>0</td>\n",
       "      <td>0_1</td>\n",
       "      <td>0.0</td>\n",
       "    </tr>\n",
       "    <tr>\n",
       "      <th>0</th>\n",
       "      <td>2018-01-01 09:57:49</td>\n",
       "      <td>2018</td>\n",
       "      <td>1</td>\n",
       "      <td>0.0</td>\n",
       "      <td>HB : EMINENT : CONSULTAS : ERRORES : INFORMACI...</td>\n",
       "      <td>2018-01-01 09:57:48</td>\n",
       "      <td>0</td>\n",
       "      <td>0_1</td>\n",
       "      <td>0.0</td>\n",
       "    </tr>\n",
       "  </tbody>\n",
       "</table>\n",
       "</div>"
      ],
      "text/plain": [
       "                  FEC_EVENT  anio  mes  prev_conversions  \\\n",
       "USER_ID                                                    \n",
       "0       2018-01-01 09:56:47  2018    1               0.0   \n",
       "0       2018-01-01 09:57:19  2018    1               0.0   \n",
       "0       2018-01-01 09:57:48  2018    1               0.0   \n",
       "0       2018-01-01 09:57:48  2018    1               0.0   \n",
       "0       2018-01-01 09:57:49  2018    1               0.0   \n",
       "\n",
       "                                          PAGE_descripcion  \\\n",
       "USER_ID                                                      \n",
       "0                                      HB : MASIVO : LOGIN   \n",
       "0                                      HB : MASIVO : LOGIN   \n",
       "0        HB : EMINENT : CONSULTAS : RESUMEN DE PRODUCTO...   \n",
       "0        HB : EMINENT : CONSULTAS : ERRORES : INFORMACI...   \n",
       "0        HB : EMINENT : CONSULTAS : ERRORES : INFORMACI...   \n",
       "\n",
       "                  last_date  new_session session_id  label  \n",
       "USER_ID                                                     \n",
       "0                       NaT            1        0_1    0.0  \n",
       "0       2018-01-01 09:56:47            0        0_1    0.0  \n",
       "0       2018-01-01 09:57:19            0        0_1    0.0  \n",
       "0       2018-01-01 09:57:48            0        0_1    0.0  \n",
       "0       2018-01-01 09:57:48            0        0_1    0.0  "
      ]
     },
     "execution_count": 18,
     "metadata": {},
     "output_type": "execute_result"
    }
   ],
   "source": [
    "hist = data.loc[data['mes'] < 10,]\n",
    "hist = hist.rename(columns = {'conversion':'prev_conversions'})\n",
    "\n",
    "# Convirtieron en el último cuarto?\n",
    "labels = data.loc[data['mes'] >= 10,]\n",
    "labels = labels.groupby('USER_ID', as_index=False).agg({'conversion':'sum'})\n",
    "labels['conversion'] = np.where(labels['conversion']> 0, 1, 0)\n",
    "\n",
    "hist = pd.merge(hist, labels, how='left')\n",
    "hist = hist.set_index('USER_ID', drop=True)\n",
    "hist = hist.rename(columns = {'conversion':'label'})\n",
    "hist.head()"
   ]
  },
  {
   "cell_type": "markdown",
   "metadata": {},
   "source": [
    "#### Páginas más visitadas por quienes convirtieron"
   ]
  },
  {
   "cell_type": "code",
   "execution_count": 42,
   "metadata": {},
   "outputs": [
    {
     "data": {
      "text/plain": [
       "/LOGIN                                                   1998159\n",
       "/INICIO                                                  1887400\n",
       "WEB : PERSONAS                                            525701\n",
       "/PAGOS/INICIO                                             465912\n",
       "/TARJETAS/INICIO                                          448812\n",
       "/ERROR/SESIONEXPIRADA                                     443534\n",
       "HB : MASIVO : CONSULTAS : RESUMEN DE PRODUCTOS : HOME     366334\n",
       "/CUENTAS/MIS-CUENTAS                                      352155\n",
       "/CUENTAS/INICIO                                           335351\n",
       "HB : EMINENT : CONSULTAS : RESUMEN DE PRODUCTOS : HOM     306264\n",
       "/TRANSFERENCIAS/INICIO                                    291298\n",
       "/TARJETAS/CONSUMOS/0                                      271765\n",
       "/INVERSIONES/INICIO                                       266024\n",
       "HB : MASIVO : LOGIN                                       249837\n",
       "WEB : EMINENT                                             177941\n",
       "/TARJETAS/RESUMEN/0                                       146834\n",
       "/ERROR/ERRORIN                                            121636\n",
       "/TARJETAS/CONSUMOS/1                                      119214\n",
       "/TRANSFERENCIAS/TERCEROS-MONTO                            115616\n",
       "/PRESTAMOS/INICIO                                         105152\n",
       "/TRANSFERENCIAS/TERCEROS-PRECONFIRMACION                  104644\n",
       "/TRANSFERENCIAS/TERCEROS-MOTIVO                           103164\n",
       "/PAGOS/PAGO-MIS-CUENTAS                                   102956\n",
       "HB : EMINENT : LOGIN                                       95236\n",
       "/QUIERO/INICIOTOKEN                                        94951\n",
       "WEB : EMPRESAS                                             91186\n",
       "HB : MASIVO : CONSULTAS : RESUMEN DE PRODUCTOS : MOVI      90864\n",
       "/PAGOS/PAGAR-NUEVO-SERVICIO                                90788\n",
       "/TRANSFERENCIAS/TERCEROS-EXITO                             90294\n",
       "/TRANSFERENCIAS/NUEVA                                      82037\n",
       "                                                          ...   \n",
       "/TARJETAS/RESUMEN/A%20PAGAR:%20$16.533 49%20/%20%3CBR          1\n",
       "/CUENTAS/INICIOCBU                                             1\n",
       "/LOGINMERVAL                                                   1\n",
       "/PRODUCTOS%20Y%20SERVICIOS                                     1\n",
       "/INICIOCBU%20%20CBU                                            1\n",
       "/TARJETAS/RESUMEN/A%20PAGAR:%20$45.053 11                      1\n",
       "PRODUCTOSYSERVICIOS : TARJETA GALICIA MASTERCARD PLAT          1\n",
       "/TRANSFERENCIAS/INICIO/20                                      1\n",
       "/FILE/DOWNLOAT;                                                1\n",
       "/SEGURIDAD/GENERAR-USUARIO).                                   1\n",
       "/TRANSFERENCIAS/INFORMACION-CONTACTO/179                       1\n",
       "/INVERSIONES/RESCATAR_FONDO_FIMA_PRECONFIRMACION               1\n",
       "QUENECESITASABER : PHISHING                                    1\n",
       "PRODUCTOSYSERVICIOS : ACTUALIZA APP GALICIA                    1\n",
       "PRODUCTOSYSERVICIOS : BANCOENPLANTA                            1\n",
       "/TRANSFERENCIAS/INICIO/12                                      1\n",
       "/TRANSFERENCIAS/INFORMACION-CONTACTO/168                       1\n",
       "/TARJETASAS/PAGAR                                              1\n",
       "HB : MOVE : UPGRADE DE PAQUETES : ERROR 500 : ERROR E          1\n",
       "PRODUCTOSYSERVICIOS : AGROACTIVA                               1\n",
       "/NAVIGATION/MENULINK/11                                        1\n",
       "/TARJETAS/RESUMEN/A%20PAGAR:%20$3.704 93                       1\n",
       "/CONSULTAS/                                                    1\n",
       "/LOGIN%7D                                                      1\n",
       "/TRANSFERENCIAS/INFORMACION-CONTACTO/165                       1\n",
       "/LOGIN%C3%A7                                                   1\n",
       "/ICAMBIO%20DE%20CBUNICIO                                       1\n",
       "PRODUCTOSYSERVICIOS : DEBITOAUTOMATICOMASTERCARD               1\n",
       "HC:STEP02:IDENTITY VALIDATION                                  1\n",
       "/EGOORROR/SESIONEXPIRADA                                       1\n",
       "Name: PAGE_descripcion, Length: 1548, dtype: int64"
      ]
     },
     "execution_count": 42,
     "metadata": {},
     "output_type": "execute_result"
    }
   ],
   "source": [
    "hist.loc[hist['label']==1,['USER_ID', 'FEC_EVENT', 'PAGE_descripcion']]['PAGE_descripcion'].value_counts()"
   ]
  },
  {
   "cell_type": "code",
   "execution_count": 51,
   "metadata": {},
   "outputs": [
    {
     "data": {
      "text/plain": [
       "0.0    813001\n",
       "1.0     24589\n",
       "Name: label, dtype: int64"
      ]
     },
     "execution_count": 51,
     "metadata": {},
     "output_type": "execute_result"
    }
   ],
   "source": [
    "# page.loc[page['PAGE_descripcion'].astype(str).str.contains('QUIERO'),:]\n",
    "hist.loc[hist['PAGE_descripcion'].astype(str).str.contains('EMINENT'),('label')].value_counts()"
   ]
  },
  {
   "cell_type": "code",
   "execution_count": 52,
   "metadata": {},
   "outputs": [
    {
     "data": {
      "text/html": [
       "<div>\n",
       "<style>\n",
       "    .dataframe thead tr:only-child th {\n",
       "        text-align: right;\n",
       "    }\n",
       "\n",
       "    .dataframe thead th {\n",
       "        text-align: left;\n",
       "    }\n",
       "\n",
       "    .dataframe tbody tr th {\n",
       "        vertical-align: top;\n",
       "    }\n",
       "</style>\n",
       "<table border=\"1\" class=\"dataframe\">\n",
       "  <thead>\n",
       "    <tr style=\"text-align: right;\">\n",
       "      <th></th>\n",
       "      <th>FEC_EVENT</th>\n",
       "      <th>anio</th>\n",
       "      <th>mes</th>\n",
       "      <th>prev_conversions</th>\n",
       "      <th>PAGE_descripcion</th>\n",
       "      <th>last_date</th>\n",
       "      <th>new_session</th>\n",
       "      <th>session_id</th>\n",
       "      <th>label</th>\n",
       "      <th>prestamo</th>\n",
       "      <th>transferencia</th>\n",
       "      <th>inversiones</th>\n",
       "      <th>solicitud</th>\n",
       "      <th>quiero</th>\n",
       "      <th>pagos</th>\n",
       "      <th>eminent</th>\n",
       "    </tr>\n",
       "    <tr>\n",
       "      <th>USER_ID</th>\n",
       "      <th></th>\n",
       "      <th></th>\n",
       "      <th></th>\n",
       "      <th></th>\n",
       "      <th></th>\n",
       "      <th></th>\n",
       "      <th></th>\n",
       "      <th></th>\n",
       "      <th></th>\n",
       "      <th></th>\n",
       "      <th></th>\n",
       "      <th></th>\n",
       "      <th></th>\n",
       "      <th></th>\n",
       "      <th></th>\n",
       "      <th></th>\n",
       "    </tr>\n",
       "  </thead>\n",
       "  <tbody>\n",
       "    <tr>\n",
       "      <th>0</th>\n",
       "      <td>2018-01-01 09:56:47</td>\n",
       "      <td>2018</td>\n",
       "      <td>1</td>\n",
       "      <td>0.0</td>\n",
       "      <td>HB : MASIVO : LOGIN</td>\n",
       "      <td>NaT</td>\n",
       "      <td>1</td>\n",
       "      <td>0_1</td>\n",
       "      <td>0.0</td>\n",
       "      <td>0</td>\n",
       "      <td>0</td>\n",
       "      <td>0</td>\n",
       "      <td>0</td>\n",
       "      <td>0</td>\n",
       "      <td>0</td>\n",
       "      <td>0</td>\n",
       "    </tr>\n",
       "    <tr>\n",
       "      <th>0</th>\n",
       "      <td>2018-01-01 09:57:19</td>\n",
       "      <td>2018</td>\n",
       "      <td>1</td>\n",
       "      <td>0.0</td>\n",
       "      <td>HB : MASIVO : LOGIN</td>\n",
       "      <td>2018-01-01 09:56:47</td>\n",
       "      <td>0</td>\n",
       "      <td>0_1</td>\n",
       "      <td>0.0</td>\n",
       "      <td>0</td>\n",
       "      <td>0</td>\n",
       "      <td>0</td>\n",
       "      <td>0</td>\n",
       "      <td>0</td>\n",
       "      <td>0</td>\n",
       "      <td>0</td>\n",
       "    </tr>\n",
       "    <tr>\n",
       "      <th>0</th>\n",
       "      <td>2018-01-01 09:57:48</td>\n",
       "      <td>2018</td>\n",
       "      <td>1</td>\n",
       "      <td>0.0</td>\n",
       "      <td>HB : EMINENT : CONSULTAS : RESUMEN DE PRODUCTO...</td>\n",
       "      <td>2018-01-01 09:57:19</td>\n",
       "      <td>0</td>\n",
       "      <td>0_1</td>\n",
       "      <td>0.0</td>\n",
       "      <td>0</td>\n",
       "      <td>0</td>\n",
       "      <td>0</td>\n",
       "      <td>0</td>\n",
       "      <td>0</td>\n",
       "      <td>0</td>\n",
       "      <td>1</td>\n",
       "    </tr>\n",
       "    <tr>\n",
       "      <th>0</th>\n",
       "      <td>2018-01-01 09:57:48</td>\n",
       "      <td>2018</td>\n",
       "      <td>1</td>\n",
       "      <td>0.0</td>\n",
       "      <td>HB : EMINENT : CONSULTAS : ERRORES : INFORMACI...</td>\n",
       "      <td>2018-01-01 09:57:48</td>\n",
       "      <td>0</td>\n",
       "      <td>0_1</td>\n",
       "      <td>0.0</td>\n",
       "      <td>0</td>\n",
       "      <td>0</td>\n",
       "      <td>0</td>\n",
       "      <td>0</td>\n",
       "      <td>0</td>\n",
       "      <td>0</td>\n",
       "      <td>1</td>\n",
       "    </tr>\n",
       "    <tr>\n",
       "      <th>0</th>\n",
       "      <td>2018-01-01 09:57:49</td>\n",
       "      <td>2018</td>\n",
       "      <td>1</td>\n",
       "      <td>0.0</td>\n",
       "      <td>HB : EMINENT : CONSULTAS : ERRORES : INFORMACI...</td>\n",
       "      <td>2018-01-01 09:57:48</td>\n",
       "      <td>0</td>\n",
       "      <td>0_1</td>\n",
       "      <td>0.0</td>\n",
       "      <td>0</td>\n",
       "      <td>0</td>\n",
       "      <td>0</td>\n",
       "      <td>0</td>\n",
       "      <td>0</td>\n",
       "      <td>0</td>\n",
       "      <td>1</td>\n",
       "    </tr>\n",
       "  </tbody>\n",
       "</table>\n",
       "</div>"
      ],
      "text/plain": [
       "                  FEC_EVENT  anio  mes  prev_conversions  \\\n",
       "USER_ID                                                    \n",
       "0       2018-01-01 09:56:47  2018    1               0.0   \n",
       "0       2018-01-01 09:57:19  2018    1               0.0   \n",
       "0       2018-01-01 09:57:48  2018    1               0.0   \n",
       "0       2018-01-01 09:57:48  2018    1               0.0   \n",
       "0       2018-01-01 09:57:49  2018    1               0.0   \n",
       "\n",
       "                                          PAGE_descripcion  \\\n",
       "USER_ID                                                      \n",
       "0                                      HB : MASIVO : LOGIN   \n",
       "0                                      HB : MASIVO : LOGIN   \n",
       "0        HB : EMINENT : CONSULTAS : RESUMEN DE PRODUCTO...   \n",
       "0        HB : EMINENT : CONSULTAS : ERRORES : INFORMACI...   \n",
       "0        HB : EMINENT : CONSULTAS : ERRORES : INFORMACI...   \n",
       "\n",
       "                  last_date  new_session session_id  label  prestamo  \\\n",
       "USER_ID                                                                \n",
       "0                       NaT            1        0_1    0.0         0   \n",
       "0       2018-01-01 09:56:47            0        0_1    0.0         0   \n",
       "0       2018-01-01 09:57:19            0        0_1    0.0         0   \n",
       "0       2018-01-01 09:57:48            0        0_1    0.0         0   \n",
       "0       2018-01-01 09:57:48            0        0_1    0.0         0   \n",
       "\n",
       "         transferencia  inversiones  solicitud  quiero  pagos  eminent  \n",
       "USER_ID                                                                 \n",
       "0                    0            0          0       0      0        0  \n",
       "0                    0            0          0       0      0        0  \n",
       "0                    0            0          0       0      0        1  \n",
       "0                    0            0          0       0      0        1  \n",
       "0                    0            0          0       0      0        1  "
      ]
     },
     "execution_count": 52,
     "metadata": {},
     "output_type": "execute_result"
    }
   ],
   "source": [
    "hist['prestamo'] = np.where(hist['PAGE_descripcion'].astype(str).str.contains('PRESTAMO'), 1, 0)\n",
    "hist['transferencia'] = np.where(hist['PAGE_descripcion'].astype(str).str.contains('TRANSFERENCIA'), 1, 0)\n",
    "hist['inversiones'] = np.where(hist['PAGE_descripcion'].astype(str).str.contains('INVERSIONES'), 1, 0)\n",
    "hist['solicitud'] = np.where(hist['PAGE_descripcion'].astype(str).str.contains('SOLICITAR'), 1, 0)\n",
    "hist['quiero'] = np.where(hist['PAGE_descripcion'].astype(str).str.contains('QUIERO'), 1, 0)\n",
    "hist['pagos'] = np.where(hist['PAGE_descripcion'].astype(str).str.contains('PAGOS'), 1, 0)\n",
    "hist['eminent'] = np.where(hist['PAGE_descripcion'].astype(str).str.contains('EMINENT'), 1, 0)\n",
    "hist.head()"
   ]
  },
  {
   "cell_type": "code",
   "execution_count": 21,
   "metadata": {},
   "outputs": [
    {
     "data": {
      "text/plain": [
       "188978"
      ]
     },
     "execution_count": 21,
     "metadata": {},
     "output_type": "execute_result"
    }
   ],
   "source": [
    "hist['solicitud'].sum()"
   ]
  },
  {
   "cell_type": "markdown",
   "metadata": {},
   "source": [
    "### Agrupo por user_id, mes, año"
   ]
  },
  {
   "cell_type": "code",
   "execution_count": 53,
   "metadata": {
    "collapsed": true
   },
   "outputs": [],
   "source": [
    "grouped_data = hist.groupby(['USER_ID','anio','mes'], as_index=False).agg({'new_session':'count', 'label':'sum'\n",
    "                                                                           , 'prestamo':'sum', 'transferencia':'sum'\n",
    "                                                                           , 'inversiones':'sum', 'solicitud':'sum'\n",
    "                                                                           , 'quiero':'sum', 'pagos':'sum'\n",
    "                                                                           , 'eminent':'sum'})\n",
    "grouped_data['label'] = np.where(grouped_data['label']> 0, 1, 0)"
   ]
  },
  {
   "cell_type": "code",
   "execution_count": 24,
   "metadata": {},
   "outputs": [
    {
     "data": {
      "image/png": "[encoded data removed]",
      "text/plain": [
       "<Figure size 432x288 with 1 Axes>"
      ]
     },
     "metadata": {},
     "output_type": "display_data"
    }
   ],
   "source": [
    "# Visitaron páginas de préstamos quienes convirtieron?\n",
    "plotdata = grouped_data.loc[:,('label','prestamo')].groupby('label').sum()\n",
    "plotdata.T.plot.bar(rot=0)\n",
    "plt.xlabel('')\n",
    "plt.ylabel('Cantidad de ingresos')\n",
    "plt.title('Usuarios que visitaron páginas relacionadas con préstamos')\n",
    "plt.show()"
   ]
  },
  {
   "cell_type": "code",
   "execution_count": 25,
   "metadata": {},
   "outputs": [
    {
     "data": {
      "image/png": "[encoded data removed]",
      "text/plain": [
       "<Figure size 432x288 with 1 Axes>"
      ]
     },
     "metadata": {},
     "output_type": "display_data"
    }
   ],
   "source": [
    "# Visitaron páginas de transferencias quienes convirtieron?\n",
    "plotdata = grouped_data.loc[:,('label','transferencia')].groupby('label').sum()\n",
    "plotdata.T.plot.bar(rot=0)\n",
    "plt.xlabel('')\n",
    "plt.ylabel('Cantidad de ingresos')\n",
    "plt.title('Usuarios que visitaron páginas relacionadas con transferencias')\n",
    "plt.show()"
   ]
  },
  {
   "cell_type": "code",
   "execution_count": 26,
   "metadata": {},
   "outputs": [
    {
     "data": {
      "image/png": "[encoded data removed]",
      "text/plain": [
       "<Figure size 432x288 with 1 Axes>"
      ]
     },
     "metadata": {},
     "output_type": "display_data"
    }
   ],
   "source": [
    "# Visitaron páginas de inversiones quienes convirtieron?\n",
    "plotdata = grouped_data.loc[:,('label','inversiones')].groupby('label').sum()\n",
    "plotdata.T.plot.bar(rot=0)\n",
    "plt.xlabel('')\n",
    "plt.ylabel('Cantidad de ingresos')\n",
    "plt.title('Usuarios que visitaron páginas relacionadas con inversiones')\n",
    "plt.show()"
   ]
  },
  {
   "cell_type": "code",
   "execution_count": 27,
   "metadata": {},
   "outputs": [
    {
     "data": {
      "image/png": "[encoded data removed]",
      "text/plain": [
       "<Figure size 432x288 with 1 Axes>"
      ]
     },
     "metadata": {},
     "output_type": "display_data"
    }
   ],
   "source": [
    "# Visitaron páginas de solicitudes quienes convirtieron?\n",
    "plotdata = grouped_data.loc[:,('label','solicitud')].groupby('label').sum()\n",
    "plotdata.T.plot.bar(rot=0)\n",
    "plt.xlabel('')\n",
    "plt.ylabel('Cantidad de ingresos')\n",
    "plt.title('Usuarios que visitaron páginas relacionadas con solicitudes')\n",
    "plt.show()"
   ]
  },
  {
   "cell_type": "code",
   "execution_count": 47,
   "metadata": {},
   "outputs": [
    {
     "data": {
      "image/png": "[encoded data removed]",
      "text/plain": [
       "<Figure size 432x288 with 1 Axes>"
      ]
     },
     "metadata": {},
     "output_type": "display_data"
    }
   ],
   "source": [
    "# Visitaron páginas de quiero quienes convirtieron?\n",
    "plotdata = grouped_data.loc[:,('label','quiero')].groupby('label').sum()\n",
    "plotdata.T.plot.bar(rot=0)\n",
    "plt.xlabel('')\n",
    "plt.ylabel('Cantidad de ingresos')\n",
    "plt.title('Usuarios que visitaron páginas relacionadas con quiero')\n",
    "plt.show()"
   ]
  },
  {
   "cell_type": "code",
   "execution_count": 50,
   "metadata": {},
   "outputs": [
    {
     "data": {
      "image/png": "[encoded data removed]",
      "text/plain": [
       "<Figure size 432x288 with 1 Axes>"
      ]
     },
     "metadata": {},
     "output_type": "display_data"
    }
   ],
   "source": [
    "# Visitaron páginas de pagos quienes convirtieron?\n",
    "plotdata = grouped_data.loc[:,('label','pagos')].groupby('label').sum()\n",
    "plotdata.T.plot.bar(rot=0)\n",
    "plt.xlabel('')\n",
    "plt.ylabel('Cantidad de ingresos')\n",
    "plt.title('Usuarios que visitaron páginas relacionadas con pagos')\n",
    "plt.show()"
   ]
  },
  {
   "cell_type": "code",
   "execution_count": 54,
   "metadata": {},
   "outputs": [
    {
     "data": {
      "image/png": "[encoded data removed]",
      "text/plain": [
       "<Figure size 432x288 with 1 Axes>"
      ]
     },
     "metadata": {},
     "output_type": "display_data"
    }
   ],
   "source": [
    "# Visitaron páginas de eminent quienes convirtieron?\n",
    "plotdata = grouped_data.loc[:,('label','eminent')].groupby('label').sum()\n",
    "plotdata.T.plot.bar(rot=0)\n",
    "plt.xlabel('')\n",
    "plt.ylabel('Cantidad de ingresos')\n",
    "plt.title('Usuarios que visitaron páginas relacionadas con eminent')\n",
    "plt.show()"
   ]
  },
  {
   "cell_type": "code",
   "execution_count": null,
   "metadata": {
    "collapsed": true
   },
   "outputs": [],
   "source": []
  }
 ],
 "metadata": {
  "kernelspec": {
   "display_name": "Python 3",
   "language": "python",
   "name": "python3"
  },
  "language_info": {
   "codemirror_mode": {
    "name": "ipython",
    "version": 3
   },
   "file_extension": ".py",
   "mimetype": "text/x-python",
   "name": "python",
   "nbconvert_exporter": "python",
   "pygments_lexer": "ipython3",
   "version": "3.6.9"
  }
 },
 "nbformat": 4,
 "nbformat_minor": 2
}
