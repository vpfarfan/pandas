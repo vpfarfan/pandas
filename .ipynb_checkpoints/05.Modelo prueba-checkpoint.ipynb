{
 "cells": [
  {
   "cell_type": "code",
   "execution_count": 1,
   "metadata": {},
   "outputs": [
    {
     "name": "stderr",
     "output_type": "stream",
     "text": [
      "C:\\Users\\vfarfan\\AppData\\Local\\Continuum\\anaconda3\\lib\\site-packages\\sklearn\\externals\\six.py:31: DeprecationWarning: The module is deprecated in version 0.21 and will be removed in version 0.23 since we've dropped support for Python 2.7. Please rely on the official version of six (https://pypi.org/project/six/).\n",
      "  \"(https://pypi.org/project/six/).\", DeprecationWarning)\n"
     ]
    }
   ],
   "source": [
    "import os\n",
    "import pandas as pd\n",
    "import numpy as np\n",
    "import matplotlib.pyplot as plt\n",
    "import seaborn as sns\n",
    "\n",
    "# \n",
    "from sklearn.model_selection import train_test_split\n",
    "from sklearn.model_selection import cross_val_score\n",
    "from sklearn import preprocessing\n",
    "\n",
    "# Librerías para métricas\n",
    "from sklearn import metrics\n",
    "from sklearn.metrics import confusion_matrix\n",
    "from sklearn.metrics import roc_auc_score\n",
    "from sklearn.metrics import roc_curve\n",
    "from sklearn.model_selection import learning_curve\n",
    "\n",
    "# Algoritmos\n",
    "from sklearn.linear_model import LogisticRegression\n",
    "import xgboost as xgb\n",
    "from xgboost import XGBClassifier\n",
    "from imblearn.over_sampling import SMOTE\n"
   ]
  },
  {
   "cell_type": "code",
   "execution_count": 2,
   "metadata": {},
   "outputs": [],
   "source": [
    "os.chdir('D:/DS/Kaggle')"
   ]
  },
  {
   "cell_type": "markdown",
   "metadata": {},
   "source": [
    "### Carga de archivo de train"
   ]
  },
  {
   "cell_type": "code",
   "execution_count": 3,
   "metadata": {},
   "outputs": [],
   "source": [
    "train = pd.read_csv('./train.csv')"
   ]
  },
  {
   "cell_type": "code",
   "execution_count": 4,
   "metadata": {},
   "outputs": [
    {
     "data": {
      "text/plain": [
       "(26852, 26)"
      ]
     },
     "execution_count": 4,
     "metadata": {},
     "output_type": "execute_result"
    }
   ],
   "source": [
    "train.shape"
   ]
  },
  {
   "cell_type": "markdown",
   "metadata": {},
   "source": [
    "### Set de entrenamiento/testeo"
   ]
  },
  {
   "cell_type": "code",
   "execution_count": 5,
   "metadata": {},
   "outputs": [
    {
     "data": {
      "text/html": [
       "<div>\n",
       "<style scoped>\n",
       "    .dataframe tbody tr th:only-of-type {\n",
       "        vertical-align: middle;\n",
       "    }\n",
       "\n",
       "    .dataframe tbody tr th {\n",
       "        vertical-align: top;\n",
       "    }\n",
       "\n",
       "    .dataframe thead th {\n",
       "        text-align: right;\n",
       "    }\n",
       "</style>\n",
       "<table border=\"1\" class=\"dataframe\">\n",
       "  <thead>\n",
       "    <tr style=\"text-align: right;\">\n",
       "      <th></th>\n",
       "      <th>paginas_visitadas</th>\n",
       "      <th>conversiones_previas</th>\n",
       "      <th>page_group</th>\n",
       "      <th>diames</th>\n",
       "      <th>diasemana</th>\n",
       "      <th>hora</th>\n",
       "      <th>cantidad_sesiones</th>\n",
       "      <th>conversion</th>\n",
       "      <th>month_q_prob</th>\n",
       "      <th>tiempo_ultimo_evento</th>\n",
       "      <th>...</th>\n",
       "      <th>quiero</th>\n",
       "      <th>pagos</th>\n",
       "      <th>eminent</th>\n",
       "      <th>pages</th>\n",
       "      <th>connection_speed</th>\n",
       "      <th>is_mobile</th>\n",
       "      <th>s3</th>\n",
       "      <th>s2</th>\n",
       "      <th>s1</th>\n",
       "      <th>s0</th>\n",
       "    </tr>\n",
       "    <tr>\n",
       "      <th>ind</th>\n",
       "      <th></th>\n",
       "      <th></th>\n",
       "      <th></th>\n",
       "      <th></th>\n",
       "      <th></th>\n",
       "      <th></th>\n",
       "      <th></th>\n",
       "      <th></th>\n",
       "      <th></th>\n",
       "      <th></th>\n",
       "      <th></th>\n",
       "      <th></th>\n",
       "      <th></th>\n",
       "      <th></th>\n",
       "      <th></th>\n",
       "      <th></th>\n",
       "      <th></th>\n",
       "      <th></th>\n",
       "      <th></th>\n",
       "      <th></th>\n",
       "      <th></th>\n",
       "    </tr>\n",
       "  </thead>\n",
       "  <tbody>\n",
       "    <tr>\n",
       "      <th>20181</th>\n",
       "      <td>3</td>\n",
       "      <td>0</td>\n",
       "      <td>0.032008</td>\n",
       "      <td>0.035888</td>\n",
       "      <td>0.035298</td>\n",
       "      <td>0.035729</td>\n",
       "      <td>131</td>\n",
       "      <td>0</td>\n",
       "      <td>0.035776</td>\n",
       "      <td>13861.0</td>\n",
       "      <td>...</td>\n",
       "      <td>0.087081</td>\n",
       "      <td>0.688496</td>\n",
       "      <td>10.554481</td>\n",
       "      <td>1.691880</td>\n",
       "      <td>0.996795</td>\n",
       "      <td>110.000000</td>\n",
       "      <td>0.0</td>\n",
       "      <td>0.0</td>\n",
       "      <td>109.5</td>\n",
       "      <td>0.5</td>\n",
       "    </tr>\n",
       "    <tr>\n",
       "      <th>20182</th>\n",
       "      <td>3</td>\n",
       "      <td>0</td>\n",
       "      <td>0.032840</td>\n",
       "      <td>0.035940</td>\n",
       "      <td>0.035691</td>\n",
       "      <td>0.035035</td>\n",
       "      <td>90</td>\n",
       "      <td>0</td>\n",
       "      <td>0.035776</td>\n",
       "      <td>109371.0</td>\n",
       "      <td>...</td>\n",
       "      <td>0.082386</td>\n",
       "      <td>0.515362</td>\n",
       "      <td>11.759575</td>\n",
       "      <td>1.686973</td>\n",
       "      <td>1.843677</td>\n",
       "      <td>94.000000</td>\n",
       "      <td>41.0</td>\n",
       "      <td>0.0</td>\n",
       "      <td>51.0</td>\n",
       "      <td>2.0</td>\n",
       "    </tr>\n",
       "    <tr>\n",
       "      <th>20183</th>\n",
       "      <td>3</td>\n",
       "      <td>0</td>\n",
       "      <td>0.033387</td>\n",
       "      <td>0.035113</td>\n",
       "      <td>0.035653</td>\n",
       "      <td>0.035141</td>\n",
       "      <td>114</td>\n",
       "      <td>0</td>\n",
       "      <td>0.035776</td>\n",
       "      <td>13578.0</td>\n",
       "      <td>...</td>\n",
       "      <td>0.060627</td>\n",
       "      <td>0.749606</td>\n",
       "      <td>7.644692</td>\n",
       "      <td>1.257516</td>\n",
       "      <td>1.972549</td>\n",
       "      <td>114.000000</td>\n",
       "      <td>56.0</td>\n",
       "      <td>0.0</td>\n",
       "      <td>58.0</td>\n",
       "      <td>0.0</td>\n",
       "    </tr>\n",
       "    <tr>\n",
       "      <th>120181</th>\n",
       "      <td>3</td>\n",
       "      <td>0</td>\n",
       "      <td>0.032513</td>\n",
       "      <td>0.035715</td>\n",
       "      <td>0.035298</td>\n",
       "      <td>0.035226</td>\n",
       "      <td>43</td>\n",
       "      <td>0</td>\n",
       "      <td>0.035776</td>\n",
       "      <td>272817.0</td>\n",
       "      <td>...</td>\n",
       "      <td>0.016667</td>\n",
       "      <td>1.234343</td>\n",
       "      <td>10.651010</td>\n",
       "      <td>1.315296</td>\n",
       "      <td>0.060606</td>\n",
       "      <td>35.000000</td>\n",
       "      <td>0.0</td>\n",
       "      <td>0.0</td>\n",
       "      <td>2.0</td>\n",
       "      <td>35.0</td>\n",
       "    </tr>\n",
       "    <tr>\n",
       "      <th>120182</th>\n",
       "      <td>3</td>\n",
       "      <td>0</td>\n",
       "      <td>0.032788</td>\n",
       "      <td>0.036102</td>\n",
       "      <td>0.035232</td>\n",
       "      <td>0.037198</td>\n",
       "      <td>48</td>\n",
       "      <td>0</td>\n",
       "      <td>0.035776</td>\n",
       "      <td>136790.0</td>\n",
       "      <td>...</td>\n",
       "      <td>0.061988</td>\n",
       "      <td>1.325146</td>\n",
       "      <td>11.105430</td>\n",
       "      <td>1.359148</td>\n",
       "      <td>0.111111</td>\n",
       "      <td>46.333333</td>\n",
       "      <td>0.0</td>\n",
       "      <td>0.0</td>\n",
       "      <td>5.0</td>\n",
       "      <td>43.0</td>\n",
       "    </tr>\n",
       "  </tbody>\n",
       "</table>\n",
       "<p>5 rows × 24 columns</p>\n",
       "</div>"
      ],
      "text/plain": [
       "        paginas_visitadas  conversiones_previas  page_group    diames  \\\n",
       "ind                                                                     \n",
       "20181                   3                     0    0.032008  0.035888   \n",
       "20182                   3                     0    0.032840  0.035940   \n",
       "20183                   3                     0    0.033387  0.035113   \n",
       "120181                  3                     0    0.032513  0.035715   \n",
       "120182                  3                     0    0.032788  0.036102   \n",
       "\n",
       "        diasemana      hora  cantidad_sesiones  conversion  month_q_prob  \\\n",
       "ind                                                                        \n",
       "20181    0.035298  0.035729                131           0      0.035776   \n",
       "20182    0.035691  0.035035                 90           0      0.035776   \n",
       "20183    0.035653  0.035141                114           0      0.035776   \n",
       "120181   0.035298  0.035226                 43           0      0.035776   \n",
       "120182   0.035232  0.037198                 48           0      0.035776   \n",
       "\n",
       "        tiempo_ultimo_evento  ...    quiero     pagos    eminent     pages  \\\n",
       "ind                           ...                                            \n",
       "20181                13861.0  ...  0.087081  0.688496  10.554481  1.691880   \n",
       "20182               109371.0  ...  0.082386  0.515362  11.759575  1.686973   \n",
       "20183                13578.0  ...  0.060627  0.749606   7.644692  1.257516   \n",
       "120181              272817.0  ...  0.016667  1.234343  10.651010  1.315296   \n",
       "120182              136790.0  ...  0.061988  1.325146  11.105430  1.359148   \n",
       "\n",
       "        connection_speed   is_mobile    s3   s2     s1    s0  \n",
       "ind                                                           \n",
       "20181           0.996795  110.000000   0.0  0.0  109.5   0.5  \n",
       "20182           1.843677   94.000000  41.0  0.0   51.0   2.0  \n",
       "20183           1.972549  114.000000  56.0  0.0   58.0   0.0  \n",
       "120181          0.060606   35.000000   0.0  0.0    2.0  35.0  \n",
       "120182          0.111111   46.333333   0.0  0.0    5.0  43.0  \n",
       "\n",
       "[5 rows x 24 columns]"
      ]
     },
     "execution_count": 5,
     "metadata": {},
     "output_type": "execute_result"
    }
   ],
   "source": [
    "train = train.set_index('ind')\n",
    "train = train.drop(columns=['ultimo_evento'])\n",
    "train.head()"
   ]
  },
  {
   "cell_type": "markdown",
   "metadata": {},
   "source": [
    "## Funciones para evaluación y entrenamiento del modelo"
   ]
  },
  {
   "cell_type": "code",
   "execution_count": 6,
   "metadata": {},
   "outputs": [],
   "source": [
    "### Funciones para entrenamiento y evaluación de modelos\n",
    "def evaluate_model(y, pred, pred_prob):\n",
    "    # Making the Confusion Matrix\n",
    "    cm = confusion_matrix(y, pred)\n",
    "    fig= plt.figure(figsize=(4,2))\n",
    "    sns.heatmap(cm,cmap=\"coolwarm_r\",annot=True,linewidths=0.5, fmt='g')\n",
    "    plt.title(\"Confusion_matrix\")\n",
    "    plt.xlabel(\"Predicted_class\")\n",
    "    plt.ylabel(\"Real class\")\n",
    "    plt.show()\n",
    "\n",
    "    # Evaluamos el modelo\n",
    "    logit_roc_auc = roc_auc_score(y, pred)\n",
    "    fpr, tpr, thresholds = metrics.roc_curve(y, pred, pos_label=1)\n",
    "    plt.figure(figsize=(10,3))\n",
    "    plt.subplot(1, 2, 1)\n",
    "    plt.plot(fpr, tpr, label='AUC (area = %0.5f)' % logit_roc_auc)\n",
    "    plt.plot([0, 1], [0, 1],'r--')\n",
    "    plt.xlim([0.0, 1.0])\n",
    "    plt.ylim([0.0, 1.05])\n",
    "    plt.xlabel('False Positive Rate')\n",
    "    plt.ylabel('True Positive Rate')\n",
    "    plt.title('Receiver operating characteristic')\n",
    "    plt.legend(loc=\"lower right\")\n",
    "    plt.savefig('Log_ROC')\n",
    "    # plt.show()\n",
    "\n",
    "    # Evaluamos el modelo\n",
    "    logit_roc_auc = roc_auc_score(y, pred_prob)\n",
    "    fpr, tpr, thresholds = metrics.roc_curve(y, pred_prob, pos_label=1)\n",
    "    plt.subplot(1, 2, 2)\n",
    "    # plt.figure()\n",
    "    plt.plot(fpr, tpr, label='AUC (area = %0.5f)' % logit_roc_auc)\n",
    "    plt.plot([0, 1], [0, 1],'r--')\n",
    "    plt.xlim([0.0, 1.0])\n",
    "    plt.ylim([0.0, 1.05])\n",
    "    plt.xlabel('False Positive Rate')\n",
    "    plt.ylabel('True Positive Rate')\n",
    "    plt.title('Receiver operating characteristic')\n",
    "    plt.legend(loc=\"lower right\")\n",
    "    plt.savefig('Log_ROC')\n",
    "    plt.tight_layout()\n",
    "    plt.show()\n",
    "    \n",
    "    return logit_roc_auc\n",
    "\n",
    "\n",
    "    \n",
    "def train_model(model, X_train, y_train, feat=False):\n",
    "    #Fit the algorithm on the data\n",
    "    model.fit(X_train, y_train)\n",
    "        \n",
    "    #Predict training set\n",
    "    train_pred = model.predict(X_train)\n",
    "    train_predp = model.predict_proba(X_train)[:,1]\n",
    "    \n",
    "    # CV\n",
    "    cv_score = cross_val_score(model, X_train, y_train, cv=5, scoring='roc_auc')\n",
    "    print (\"CV Score : Mean - %.7g | Std - %.7g | Min - %.7g | Max - %.7g\" % (np.mean(cv_score),np.std(cv_score)\n",
    "                                                                          ,np.min(cv_score),np.max(cv_score)))\n",
    "    \n",
    "    \n",
    "    if feat:\n",
    "        # Feature importance\n",
    "        feat_imp = pd.Series(model.feature_importances_, X_train.columns).sort_values(ascending=False)\n",
    "        plt.figure(figsize=(10,2))\n",
    "        feat_imp.plot(kind='bar', title='Feature Importances')\n",
    "        plt.ylabel('Feature Importance Score')  "
   ]
  },
  {
   "cell_type": "markdown",
   "metadata": {},
   "source": [
    "# Seleccionamos las variables para el modelo"
   ]
  },
  {
   "cell_type": "code",
   "execution_count": 7,
   "metadata": {},
   "outputs": [
    {
     "data": {
      "text/plain": [
       "Index(['paginas_visitadas', 'conversiones_previas', 'page_group', 'diames',\n",
       "       'diasemana', 'hora', 'cantidad_sesiones', 'conversion', 'month_q_prob',\n",
       "       'tiempo_ultimo_evento', 'prestamo', 'transferencia', 'inversiones',\n",
       "       'solicitud', 'quiero', 'pagos', 'eminent', 'pages', 'connection_speed',\n",
       "       'is_mobile', 's3', 's2', 's1', 's0'],\n",
       "      dtype='object')"
      ]
     },
     "execution_count": 7,
     "metadata": {},
     "output_type": "execute_result"
    }
   ],
   "source": [
    "train.columns"
   ]
  },
  {
   "cell_type": "code",
   "execution_count": 8,
   "metadata": {},
   "outputs": [
    {
     "name": "stdout",
     "output_type": "stream",
     "text": [
      "(18796, 21)\n",
      "(8056, 21)\n",
      "654\n",
      "283\n"
     ]
    },
    {
     "data": {
      "text/html": [
       "<div>\n",
       "<style scoped>\n",
       "    .dataframe tbody tr th:only-of-type {\n",
       "        vertical-align: middle;\n",
       "    }\n",
       "\n",
       "    .dataframe tbody tr th {\n",
       "        vertical-align: top;\n",
       "    }\n",
       "\n",
       "    .dataframe thead th {\n",
       "        text-align: right;\n",
       "    }\n",
       "</style>\n",
       "<table border=\"1\" class=\"dataframe\">\n",
       "  <thead>\n",
       "    <tr style=\"text-align: right;\">\n",
       "      <th></th>\n",
       "      <th>conversiones_previas</th>\n",
       "      <th>page_group</th>\n",
       "      <th>diames</th>\n",
       "      <th>diasemana</th>\n",
       "      <th>hora</th>\n",
       "      <th>cantidad_sesiones</th>\n",
       "      <th>tiempo_ultimo_evento</th>\n",
       "      <th>prestamo</th>\n",
       "      <th>transferencia</th>\n",
       "      <th>inversiones</th>\n",
       "      <th>...</th>\n",
       "      <th>quiero</th>\n",
       "      <th>pagos</th>\n",
       "      <th>eminent</th>\n",
       "      <th>connection_speed</th>\n",
       "      <th>pages</th>\n",
       "      <th>is_mobile</th>\n",
       "      <th>s3</th>\n",
       "      <th>s2</th>\n",
       "      <th>s1</th>\n",
       "      <th>s0</th>\n",
       "    </tr>\n",
       "    <tr>\n",
       "      <th>ind</th>\n",
       "      <th></th>\n",
       "      <th></th>\n",
       "      <th></th>\n",
       "      <th></th>\n",
       "      <th></th>\n",
       "      <th></th>\n",
       "      <th></th>\n",
       "      <th></th>\n",
       "      <th></th>\n",
       "      <th></th>\n",
       "      <th></th>\n",
       "      <th></th>\n",
       "      <th></th>\n",
       "      <th></th>\n",
       "      <th></th>\n",
       "      <th></th>\n",
       "      <th></th>\n",
       "      <th></th>\n",
       "      <th></th>\n",
       "      <th></th>\n",
       "      <th></th>\n",
       "    </tr>\n",
       "  </thead>\n",
       "  <tbody>\n",
       "    <tr>\n",
       "      <th>342620182</th>\n",
       "      <td>0</td>\n",
       "      <td>0.034826</td>\n",
       "      <td>0.036369</td>\n",
       "      <td>0.035343</td>\n",
       "      <td>0.034532</td>\n",
       "      <td>10</td>\n",
       "      <td>991216.0</td>\n",
       "      <td>0.000000</td>\n",
       "      <td>0.083333</td>\n",
       "      <td>0.000000</td>\n",
       "      <td>...</td>\n",
       "      <td>0.000000</td>\n",
       "      <td>0.000000</td>\n",
       "      <td>0.000000</td>\n",
       "      <td>1.000000</td>\n",
       "      <td>1.583333</td>\n",
       "      <td>10.0</td>\n",
       "      <td>0.0</td>\n",
       "      <td>0.0</td>\n",
       "      <td>10.0</td>\n",
       "      <td>0.0</td>\n",
       "    </tr>\n",
       "    <tr>\n",
       "      <th>120720183</th>\n",
       "      <td>0</td>\n",
       "      <td>0.034881</td>\n",
       "      <td>0.035384</td>\n",
       "      <td>0.036328</td>\n",
       "      <td>0.036632</td>\n",
       "      <td>54</td>\n",
       "      <td>188786.0</td>\n",
       "      <td>0.019608</td>\n",
       "      <td>1.422773</td>\n",
       "      <td>0.058824</td>\n",
       "      <td>...</td>\n",
       "      <td>0.018519</td>\n",
       "      <td>0.401158</td>\n",
       "      <td>0.129974</td>\n",
       "      <td>0.000000</td>\n",
       "      <td>1.098901</td>\n",
       "      <td>27.0</td>\n",
       "      <td>0.0</td>\n",
       "      <td>0.0</td>\n",
       "      <td>0.0</td>\n",
       "      <td>27.0</td>\n",
       "    </tr>\n",
       "    <tr>\n",
       "      <th>200820183</th>\n",
       "      <td>0</td>\n",
       "      <td>0.035357</td>\n",
       "      <td>0.035515</td>\n",
       "      <td>0.035359</td>\n",
       "      <td>0.035402</td>\n",
       "      <td>207</td>\n",
       "      <td>214539.0</td>\n",
       "      <td>0.157260</td>\n",
       "      <td>0.660580</td>\n",
       "      <td>1.627013</td>\n",
       "      <td>...</td>\n",
       "      <td>0.006803</td>\n",
       "      <td>0.460403</td>\n",
       "      <td>0.000000</td>\n",
       "      <td>1.555289</td>\n",
       "      <td>1.000000</td>\n",
       "      <td>206.0</td>\n",
       "      <td>1.0</td>\n",
       "      <td>81.0</td>\n",
       "      <td>124.0</td>\n",
       "      <td>0.0</td>\n",
       "    </tr>\n",
       "    <tr>\n",
       "      <th>336120183</th>\n",
       "      <td>0</td>\n",
       "      <td>0.034480</td>\n",
       "      <td>0.035647</td>\n",
       "      <td>0.036193</td>\n",
       "      <td>0.037556</td>\n",
       "      <td>93</td>\n",
       "      <td>11267.0</td>\n",
       "      <td>0.064516</td>\n",
       "      <td>0.741935</td>\n",
       "      <td>0.268817</td>\n",
       "      <td>...</td>\n",
       "      <td>0.064516</td>\n",
       "      <td>2.075269</td>\n",
       "      <td>2.634409</td>\n",
       "      <td>1.272043</td>\n",
       "      <td>1.173118</td>\n",
       "      <td>90.0</td>\n",
       "      <td>13.0</td>\n",
       "      <td>0.0</td>\n",
       "      <td>78.0</td>\n",
       "      <td>1.0</td>\n",
       "    </tr>\n",
       "    <tr>\n",
       "      <th>955720182</th>\n",
       "      <td>0</td>\n",
       "      <td>0.037327</td>\n",
       "      <td>0.035087</td>\n",
       "      <td>0.036246</td>\n",
       "      <td>0.036097</td>\n",
       "      <td>164</td>\n",
       "      <td>209918.0</td>\n",
       "      <td>0.049020</td>\n",
       "      <td>0.000000</td>\n",
       "      <td>0.000000</td>\n",
       "      <td>...</td>\n",
       "      <td>0.024090</td>\n",
       "      <td>0.004902</td>\n",
       "      <td>0.016667</td>\n",
       "      <td>2.515095</td>\n",
       "      <td>1.056204</td>\n",
       "      <td>3.0</td>\n",
       "      <td>42.0</td>\n",
       "      <td>25.0</td>\n",
       "      <td>5.0</td>\n",
       "      <td>0.0</td>\n",
       "    </tr>\n",
       "  </tbody>\n",
       "</table>\n",
       "<p>5 rows × 21 columns</p>\n",
       "</div>"
      ],
      "text/plain": [
       "           conversiones_previas  page_group    diames  diasemana      hora  \\\n",
       "ind                                                                          \n",
       "342620182                     0    0.034826  0.036369   0.035343  0.034532   \n",
       "120720183                     0    0.034881  0.035384   0.036328  0.036632   \n",
       "200820183                     0    0.035357  0.035515   0.035359  0.035402   \n",
       "336120183                     0    0.034480  0.035647   0.036193  0.037556   \n",
       "955720182                     0    0.037327  0.035087   0.036246  0.036097   \n",
       "\n",
       "           cantidad_sesiones  tiempo_ultimo_evento  prestamo  transferencia  \\\n",
       "ind                                                                           \n",
       "342620182                 10              991216.0  0.000000       0.083333   \n",
       "120720183                 54              188786.0  0.019608       1.422773   \n",
       "200820183                207              214539.0  0.157260       0.660580   \n",
       "336120183                 93               11267.0  0.064516       0.741935   \n",
       "955720182                164              209918.0  0.049020       0.000000   \n",
       "\n",
       "           inversiones  ...    quiero     pagos   eminent  connection_speed  \\\n",
       "ind                     ...                                                   \n",
       "342620182     0.000000  ...  0.000000  0.000000  0.000000          1.000000   \n",
       "120720183     0.058824  ...  0.018519  0.401158  0.129974          0.000000   \n",
       "200820183     1.627013  ...  0.006803  0.460403  0.000000          1.555289   \n",
       "336120183     0.268817  ...  0.064516  2.075269  2.634409          1.272043   \n",
       "955720182     0.000000  ...  0.024090  0.004902  0.016667          2.515095   \n",
       "\n",
       "              pages  is_mobile    s3    s2     s1    s0  \n",
       "ind                                                      \n",
       "342620182  1.583333       10.0   0.0   0.0   10.0   0.0  \n",
       "120720183  1.098901       27.0   0.0   0.0    0.0  27.0  \n",
       "200820183  1.000000      206.0   1.0  81.0  124.0   0.0  \n",
       "336120183  1.173118       90.0  13.0   0.0   78.0   1.0  \n",
       "955720182  1.056204        3.0  42.0  25.0    5.0   0.0  \n",
       "\n",
       "[5 rows x 21 columns]"
      ]
     },
     "execution_count": 8,
     "metadata": {},
     "output_type": "execute_result"
    }
   ],
   "source": [
    "model_features = [\n",
    "#                     'paginas_visitadas', \n",
    "                    'conversiones_previas', \n",
    "                    'page_group', \n",
    "                    'diames', \n",
    "                    'diasemana', \n",
    "                    'hora', \n",
    "                    'cantidad_sesiones',\n",
    "#                     'month_q_prob',\n",
    "                    'tiempo_ultimo_evento',\n",
    "                    'prestamo', \n",
    "                    'transferencia', \n",
    "                    'inversiones',   \n",
    "                    'solicitud', \n",
    "                    'quiero', \n",
    "                    'pagos', \n",
    "                    'eminent',\n",
    "                    'connection_speed',\n",
    "                    'pages',\n",
    "                    'is_mobile', \n",
    "                    's3', \n",
    "                    's2', \n",
    "                    's1', \n",
    "                    's0'\n",
    "                 ]\n",
    "\n",
    "y = train.loc[:,'conversion']\n",
    "X = train[model_features]\n",
    "\n",
    "X_train, X_test, y_train, y_test = train_test_split(X, y, test_size=0.30, random_state=0)\n",
    "\n",
    "print(X_train.shape)\n",
    "print(X_test.shape)\n",
    "print(y_train.sum())\n",
    "print(y_test.sum())\n",
    "X_train.head()"
   ]
  },
  {
   "cell_type": "markdown",
   "metadata": {},
   "source": [
    "## XGBoost\n"
   ]
  },
  {
   "cell_type": "code",
   "execution_count": 9,
   "metadata": {},
   "outputs": [],
   "source": [
    "# from imblearn.over_sampling import SMOTE\n",
    "\n",
    "# print(\"Before OverSampling, counts of label '1': {}\".format(sum(y_train==1)))\n",
    "# print(\"Before OverSampling, counts of label '0': {} \\n\".format(sum(y_train==0)))\n",
    "\n",
    "# sm = SMOTE(random_state=2, k_neighbors=5)\n",
    "# X_train_res, y_train_res = sm.fit_sample(X_train, y_train.ravel())\n",
    "\n",
    "# print(\"After OverSampling, counts of label '1': {}\".format(sum(y_train_res==1)))\n",
    "# print(\"After OverSampling, counts of label '0': {}\".format(sum(y_train_res==0)))\n",
    "\n",
    "# X_train_res = pd.DataFrame(X_train_res, columns=X_train.columns)"
   ]
  },
  {
   "cell_type": "code",
   "execution_count": 10,
   "metadata": {},
   "outputs": [],
   "source": [
    "# Feature Scaling\n",
    "scaler = preprocessing.RobustScaler()\n",
    "# scaler = preprocessing.StandardScaler().fit(X_train)\n",
    "X_train3 = scaler.fit_transform(X_train)\n",
    "X_train3 = pd.DataFrame(X_train3, columns=X_train.columns)\n",
    "\n",
    "X_test3 = scaler.fit_transform(X_test)\n",
    "X_test3 = pd.DataFrame(X_test3, columns=X_test.columns)"
   ]
  },
  {
   "cell_type": "code",
   "execution_count": 11,
   "metadata": {},
   "outputs": [
    {
     "name": "stdout",
     "output_type": "stream",
     "text": [
      "CV Score : Mean - 0.8063095 | Std - 0.01624337 | Min - 0.7805338 | Max - 0.8238825\n"
     ]
    },
    {
     "data": {
      "image/png": "[encoded data removed]",
      "text/plain": [
       "<Figure size 720x144 with 1 Axes>"
      ]
     },
     "metadata": {
      "needs_background": "light"
     },
     "output_type": "display_data"
    },
    {
     "data": {
      "image/png": "[encoded data removed]",
      "text/plain": [
       "<Figure size 288x144 with 2 Axes>"
      ]
     },
     "metadata": {
      "needs_background": "light"
     },
     "output_type": "display_data"
    },
    {
     "data": {
      "image/png": "[encoded data removed]",
      "text/plain": [
       "<Figure size 720x216 with 2 Axes>"
      ]
     },
     "metadata": {
      "needs_background": "light"
     },
     "output_type": "display_data"
    },
    {
     "data": {
      "text/plain": [
       "0.8219154916515855"
      ]
     },
     "execution_count": 11,
     "metadata": {},
     "output_type": "execute_result"
    }
   ],
   "source": [
    "ratio = sum(y_train==0)/sum(y_train==1)\n",
    "\n",
    "XGB_classifier = XGBClassifier(scale_pos_weight=ratio)\n",
    "\n",
    "train_model(XGB_classifier, X_train3, y_train, feat=True)\n",
    "\n",
    "y_pred = XGB_classifier.predict(X_test3)\n",
    "y_predp = XGB_classifier.predict_proba(X_test3)[:,1]\n",
    "\n",
    "\n",
    "evaluate_model(y_test, y_pred, y_predp)"
   ]
  },
  {
   "cell_type": "markdown",
   "metadata": {},
   "source": [
    "## 2. Balanced Random Forest"
   ]
  },
  {
   "cell_type": "code",
   "execution_count": 12,
   "metadata": {},
   "outputs": [
    {
     "name": "stderr",
     "output_type": "stream",
     "text": [
      "C:\\Users\\vfarfan\\AppData\\Local\\Continuum\\anaconda3\\lib\\site-packages\\sklearn\\externals\\joblib\\__init__.py:15: DeprecationWarning: sklearn.externals.joblib is deprecated in 0.21 and will be removed in 0.23. Please import this functionality directly from joblib, which can be installed with: pip install joblib. If this warning is raised when loading pickled models, you may need to re-serialize those models with scikit-learn 0.21+.\n",
      "  warnings.warn(msg, category=DeprecationWarning)\n"
     ]
    },
    {
     "name": "stdout",
     "output_type": "stream",
     "text": [
      "CV Score : Mean - 0.8213911 | Std - 0.01454682 | Min - 0.8020505 | Max - 0.8399492\n"
     ]
    },
    {
     "data": {
      "image/png": "[encoded data removed]",
      "text/plain": [
       "<Figure size 288x144 with 2 Axes>"
      ]
     },
     "metadata": {
      "needs_background": "light"
     },
     "output_type": "display_data"
    },
    {
     "data": {
      "image/png": "[encoded data removed]",
      "text/plain": [
       "<Figure size 720x216 with 2 Axes>"
      ]
     },
     "metadata": {
      "needs_background": "light"
     },
     "output_type": "display_data"
    },
    {
     "data": {
      "text/plain": [
       "0.8299013664678723"
      ]
     },
     "execution_count": 12,
     "metadata": {},
     "output_type": "execute_result"
    }
   ],
   "source": [
    "from imblearn.ensemble import BalancedRandomForestClassifier\n",
    "\n",
    "BRF_classifier = BalancedRandomForestClassifier(bootstrap=True, criterion='entropy',max_depth=50\n",
    "                                       , max_features=int(round(np.sqrt(len(model_features))))\n",
    "                                       , min_samples_leaf=4, min_samples_split=5, n_estimators=600\n",
    "                                      ,random_state = 0, class_weight='balanced')\n",
    "\n",
    "train_model(BRF_classifier, X_train, y_train)\n",
    "\n",
    "# evaluate on test set\n",
    "y_pred = BRF_classifier.predict(X_test)\n",
    "y_predp = BRF_classifier.predict_proba(X_test)[:,1]\n",
    "\n",
    "evaluate_model(y_test, y_pred, y_predp)"
   ]
  },
  {
   "cell_type": "code",
   "execution_count": null,
   "metadata": {},
   "outputs": [],
   "source": []
  },
  {
   "cell_type": "code",
   "execution_count": null,
   "metadata": {},
   "outputs": [],
   "source": []
  },
  {
   "cell_type": "code",
   "execution_count": null,
   "metadata": {},
   "outputs": [],
   "source": []
  },
  {
   "cell_type": "markdown",
   "metadata": {},
   "source": [
    "# Predicción sobre set de testeo de Kaggle\n",
    "Usamos todos los datos de 2018 para predecir el primer trimestre de 2019"
   ]
  },
  {
   "cell_type": "markdown",
   "metadata": {},
   "source": [
    "### Carga de archivo de test"
   ]
  },
  {
   "cell_type": "code",
   "execution_count": 158,
   "metadata": {},
   "outputs": [],
   "source": [
    "test = pd.read_csv('./test.csv')"
   ]
  },
  {
   "cell_type": "code",
   "execution_count": 159,
   "metadata": {},
   "outputs": [
    {
     "data": {
      "text/html": [
       "<div>\n",
       "<style scoped>\n",
       "    .dataframe tbody tr th:only-of-type {\n",
       "        vertical-align: middle;\n",
       "    }\n",
       "\n",
       "    .dataframe tbody tr th {\n",
       "        vertical-align: top;\n",
       "    }\n",
       "\n",
       "    .dataframe thead th {\n",
       "        text-align: right;\n",
       "    }\n",
       "</style>\n",
       "<table border=\"1\" class=\"dataframe\">\n",
       "  <thead>\n",
       "    <tr style=\"text-align: right;\">\n",
       "      <th></th>\n",
       "      <th>conversiones_previas</th>\n",
       "      <th>page_group</th>\n",
       "      <th>diames</th>\n",
       "      <th>diasemana</th>\n",
       "      <th>hora</th>\n",
       "      <th>cantidad_sesiones</th>\n",
       "      <th>tiempo_ultimo_evento</th>\n",
       "      <th>prestamo</th>\n",
       "      <th>transferencia</th>\n",
       "      <th>inversiones</th>\n",
       "      <th>...</th>\n",
       "      <th>quiero</th>\n",
       "      <th>pagos</th>\n",
       "      <th>eminent</th>\n",
       "      <th>connection_speed</th>\n",
       "      <th>pages</th>\n",
       "      <th>is_mobile</th>\n",
       "      <th>s3</th>\n",
       "      <th>s2</th>\n",
       "      <th>s1</th>\n",
       "      <th>s0</th>\n",
       "    </tr>\n",
       "    <tr>\n",
       "      <th>ind</th>\n",
       "      <th></th>\n",
       "      <th></th>\n",
       "      <th></th>\n",
       "      <th></th>\n",
       "      <th></th>\n",
       "      <th></th>\n",
       "      <th></th>\n",
       "      <th></th>\n",
       "      <th></th>\n",
       "      <th></th>\n",
       "      <th></th>\n",
       "      <th></th>\n",
       "      <th></th>\n",
       "      <th></th>\n",
       "      <th></th>\n",
       "      <th></th>\n",
       "      <th></th>\n",
       "      <th></th>\n",
       "      <th></th>\n",
       "      <th></th>\n",
       "      <th></th>\n",
       "    </tr>\n",
       "  </thead>\n",
       "  <tbody>\n",
       "    <tr>\n",
       "      <th>20184</th>\n",
       "      <td>0</td>\n",
       "      <td>0.034517</td>\n",
       "      <td>0.035169</td>\n",
       "      <td>0.035735</td>\n",
       "      <td>0.035439</td>\n",
       "      <td>107</td>\n",
       "      <td>50615.0</td>\n",
       "      <td>0.333333</td>\n",
       "      <td>46.000000</td>\n",
       "      <td>5.666667</td>\n",
       "      <td>...</td>\n",
       "      <td>2.666667</td>\n",
       "      <td>36.000000</td>\n",
       "      <td>0.000000</td>\n",
       "      <td>2.079079</td>\n",
       "      <td>1.009259</td>\n",
       "      <td>109.0</td>\n",
       "      <td>60.0</td>\n",
       "      <td>0.0</td>\n",
       "      <td>47.0</td>\n",
       "      <td>2.0</td>\n",
       "    </tr>\n",
       "    <tr>\n",
       "      <th>120184</th>\n",
       "      <td>0</td>\n",
       "      <td>0.033931</td>\n",
       "      <td>0.035011</td>\n",
       "      <td>0.035142</td>\n",
       "      <td>0.034554</td>\n",
       "      <td>49</td>\n",
       "      <td>88214.0</td>\n",
       "      <td>0.000000</td>\n",
       "      <td>16.000000</td>\n",
       "      <td>0.000000</td>\n",
       "      <td>...</td>\n",
       "      <td>0.333333</td>\n",
       "      <td>31.000000</td>\n",
       "      <td>11.333333</td>\n",
       "      <td>0.433761</td>\n",
       "      <td>1.164530</td>\n",
       "      <td>43.5</td>\n",
       "      <td>0.0</td>\n",
       "      <td>5.0</td>\n",
       "      <td>11.0</td>\n",
       "      <td>34.0</td>\n",
       "    </tr>\n",
       "    <tr>\n",
       "      <th>220184</th>\n",
       "      <td>0</td>\n",
       "      <td>0.035188</td>\n",
       "      <td>0.034493</td>\n",
       "      <td>0.035232</td>\n",
       "      <td>0.033491</td>\n",
       "      <td>50</td>\n",
       "      <td>363811.0</td>\n",
       "      <td>0.000000</td>\n",
       "      <td>4.000000</td>\n",
       "      <td>1.333333</td>\n",
       "      <td>...</td>\n",
       "      <td>4.000000</td>\n",
       "      <td>69.333333</td>\n",
       "      <td>9.333333</td>\n",
       "      <td>1.416667</td>\n",
       "      <td>1.421212</td>\n",
       "      <td>40.0</td>\n",
       "      <td>10.0</td>\n",
       "      <td>5.0</td>\n",
       "      <td>36.0</td>\n",
       "      <td>0.0</td>\n",
       "    </tr>\n",
       "    <tr>\n",
       "      <th>320184</th>\n",
       "      <td>0</td>\n",
       "      <td>0.034165</td>\n",
       "      <td>0.035952</td>\n",
       "      <td>0.036185</td>\n",
       "      <td>0.035446</td>\n",
       "      <td>41</td>\n",
       "      <td>122984.0</td>\n",
       "      <td>0.000000</td>\n",
       "      <td>24.000000</td>\n",
       "      <td>0.000000</td>\n",
       "      <td>...</td>\n",
       "      <td>0.000000</td>\n",
       "      <td>18.666667</td>\n",
       "      <td>3.000000</td>\n",
       "      <td>1.037037</td>\n",
       "      <td>1.309524</td>\n",
       "      <td>38.0</td>\n",
       "      <td>0.0</td>\n",
       "      <td>1.0</td>\n",
       "      <td>41.0</td>\n",
       "      <td>0.0</td>\n",
       "    </tr>\n",
       "    <tr>\n",
       "      <th>420184</th>\n",
       "      <td>0</td>\n",
       "      <td>0.035243</td>\n",
       "      <td>0.035206</td>\n",
       "      <td>0.035426</td>\n",
       "      <td>0.035658</td>\n",
       "      <td>43</td>\n",
       "      <td>255442.0</td>\n",
       "      <td>0.333333</td>\n",
       "      <td>6.333333</td>\n",
       "      <td>0.000000</td>\n",
       "      <td>...</td>\n",
       "      <td>1.000000</td>\n",
       "      <td>1.333333</td>\n",
       "      <td>0.000000</td>\n",
       "      <td>1.132576</td>\n",
       "      <td>1.102273</td>\n",
       "      <td>1.5</td>\n",
       "      <td>0.0</td>\n",
       "      <td>6.0</td>\n",
       "      <td>37.0</td>\n",
       "      <td>0.0</td>\n",
       "    </tr>\n",
       "  </tbody>\n",
       "</table>\n",
       "<p>5 rows × 21 columns</p>\n",
       "</div>"
      ],
      "text/plain": [
       "        conversiones_previas  page_group    diames  diasemana      hora  \\\n",
       "ind                                                                       \n",
       "20184                      0    0.034517  0.035169   0.035735  0.035439   \n",
       "120184                     0    0.033931  0.035011   0.035142  0.034554   \n",
       "220184                     0    0.035188  0.034493   0.035232  0.033491   \n",
       "320184                     0    0.034165  0.035952   0.036185  0.035446   \n",
       "420184                     0    0.035243  0.035206   0.035426  0.035658   \n",
       "\n",
       "        cantidad_sesiones  tiempo_ultimo_evento  prestamo  transferencia  \\\n",
       "ind                                                                        \n",
       "20184                 107               50615.0  0.333333      46.000000   \n",
       "120184                 49               88214.0  0.000000      16.000000   \n",
       "220184                 50              363811.0  0.000000       4.000000   \n",
       "320184                 41              122984.0  0.000000      24.000000   \n",
       "420184                 43              255442.0  0.333333       6.333333   \n",
       "\n",
       "        inversiones  ...    quiero      pagos    eminent  connection_speed  \\\n",
       "ind                  ...                                                     \n",
       "20184      5.666667  ...  2.666667  36.000000   0.000000          2.079079   \n",
       "120184     0.000000  ...  0.333333  31.000000  11.333333          0.433761   \n",
       "220184     1.333333  ...  4.000000  69.333333   9.333333          1.416667   \n",
       "320184     0.000000  ...  0.000000  18.666667   3.000000          1.037037   \n",
       "420184     0.000000  ...  1.000000   1.333333   0.000000          1.132576   \n",
       "\n",
       "           pages  is_mobile    s3   s2    s1    s0  \n",
       "ind                                                 \n",
       "20184   1.009259      109.0  60.0  0.0  47.0   2.0  \n",
       "120184  1.164530       43.5   0.0  5.0  11.0  34.0  \n",
       "220184  1.421212       40.0  10.0  5.0  36.0   0.0  \n",
       "320184  1.309524       38.0   0.0  1.0  41.0   0.0  \n",
       "420184  1.102273        1.5   0.0  6.0  37.0   0.0  \n",
       "\n",
       "[5 rows x 21 columns]"
      ]
     },
     "execution_count": 159,
     "metadata": {},
     "output_type": "execute_result"
    }
   ],
   "source": [
    "test = test.set_index('ind')\n",
    "test = test.drop(columns=['ultimo_evento'])\n",
    "# test = test.drop('conversion',axis=1)\n",
    "test = test[model_features]\n",
    "test.head()"
   ]
  },
  {
   "cell_type": "code",
   "execution_count": 160,
   "metadata": {},
   "outputs": [
    {
     "name": "stdout",
     "output_type": "stream",
     "text": [
      "(11363, 1)\n"
     ]
    },
    {
     "data": {
      "image/png": "[encoded data removed]",
      "text/plain": [
       "<Figure size 432x288 with 1 Axes>"
      ]
     },
     "metadata": {
      "needs_background": "light"
     },
     "output_type": "display_data"
    },
    {
     "name": "stdout",
     "output_type": "stream",
     "text": [
      "0    9269\n",
      "1    2094\n",
      "Name: label, dtype: int64\n"
     ]
    },
    {
     "data": {
      "text/plain": [
       "array([0.2249125 , 0.14596787, 0.0832056 , ..., 0.2610857 , 0.13989775,\n",
       "       0.10957884], dtype=float32)"
      ]
     },
     "execution_count": 160,
     "metadata": {},
     "output_type": "execute_result"
    }
   ],
   "source": [
    "# Predicción de los labels 0 o 1\n",
    "predictions = XGB_classifier.predict(test)\n",
    "dfsub = pd.DataFrame(predictions, columns=['label'], index=test.index)\n",
    "print(dfsub.shape)\n",
    "\n",
    "colors = ['tomato','lightgreen']\n",
    "sns.countplot('label',data=dfsub, palette=colors)\n",
    "plt.show()\n",
    "\n",
    "print(dfsub['label'].value_counts())\n",
    "\n",
    "# Predicción de la probabilidad de conversión\n",
    "predictions = XGB_classifier.predict_proba(test)\n",
    "dfsub = pd.DataFrame(predictions[:,1], columns=['label'], index=test.index)\n",
    "\n",
    "predictions[:,1]"
   ]
  },
  {
   "cell_type": "markdown",
   "metadata": {},
   "source": [
    "## Creamos el archivo para el submit"
   ]
  },
  {
   "cell_type": "code",
   "execution_count": 149,
   "metadata": {
    "collapsed": true
   },
   "outputs": [],
   "source": [
    "dfsub.to_csv('20190903.csv', sep=',', header=True)"
   ]
  },
  {
   "cell_type": "code",
   "execution_count": null,
   "metadata": {
    "collapsed": true
   },
   "outputs": [],
   "source": []
  }
 ],
 "metadata": {
  "kernelspec": {
   "display_name": "Python 3",
   "language": "python",
   "name": "python3"
  },
  "language_info": {
   "codemirror_mode": {
    "name": "ipython",
    "version": 3
   },
   "file_extension": ".py",
   "mimetype": "text/x-python",
   "name": "python",
   "nbconvert_exporter": "python",
   "pygments_lexer": "ipython3",
   "version": "3.6.9"
  }
 },
 "nbformat": 4,
 "nbformat_minor": 2
}
