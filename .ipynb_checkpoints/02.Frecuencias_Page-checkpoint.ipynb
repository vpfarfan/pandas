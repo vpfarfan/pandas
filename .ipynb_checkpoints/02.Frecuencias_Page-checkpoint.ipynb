{
 "cells": [
  {
   "cell_type": "code",
   "execution_count": 1,
   "metadata": {},
   "outputs": [],
   "source": [
    "import os\n",
    "import pandas as pd\n",
    "import numpy as np\n",
    "import datetime as dt\n",
    "from datetime import timedelta\n",
    "import datetime as dt\n",
    "from datetime import timedelta\n",
    "\n",
    "from sklearn.preprocessing import OrdinalEncoder\n",
    "\n",
    "\n",
    "# Librerias para visualizacion\n",
    "import matplotlib.pyplot as plt\n",
    "import seaborn as sns\n",
    "# from mpl_toolkits.mplot3d import Axes3D\n",
    "\n",
    "%matplotlib inline\n",
    "# Fuentes y estilos\n",
    "plt.rcParams['figure.figsize'] = (16, 9)\n",
    "plt.style.use('ggplot')\n",
    "\n",
    "font = {'family':'serif',\n",
    "       'color':'darkred',\n",
    "       'weight':'normal',\n",
    "       'size':16,\n",
    "       }\n"
   ]
  },
  {
   "cell_type": "code",
   "execution_count": 2,
   "metadata": {},
   "outputs": [],
   "source": [
    "os.chdir('D:/DS/Kaggle')"
   ]
  },
  {
   "cell_type": "code",
   "execution_count": 3,
   "metadata": {},
   "outputs": [],
   "source": [
    "# Load data\n",
    "pageviews = pd.read_csv('./pageviews.csv')\n",
    "# content_category = pd.read_csv('./CONTENT_CATEGORY.csv')\n",
    "# content_category_bottom = pd.read_csv('./CONTENT_CATEGORY_BOTTOM.csv')\n",
    "# content_category_top = pd.read_csv('./CONTENT_CATEGORY_TOP.csv')\n",
    "# device_data = pd.read_csv('./device_data.csv')\n",
    "page = pd.read_csv('./PAGE.csv')\n",
    "# site_id = pd.read_csv('./SITE_ID.csv')\n",
    "conversiones = pd.read_csv('./conversiones.csv', dtype={'mes' : 'object', 'anio' : 'object', 'USER_ID' : 'object'})"
   ]
  },
  {
   "cell_type": "markdown",
   "metadata": {},
   "source": [
    "### Procesamiento archivo pageviews\n",
    "\n",
    "Crear columnas anio y mes"
   ]
  },
  {
   "cell_type": "code",
   "execution_count": 4,
   "metadata": {},
   "outputs": [
    {
     "data": {
      "text/html": [
       "<div>\n",
       "<style scoped>\n",
       "    .dataframe tbody tr th:only-of-type {\n",
       "        vertical-align: middle;\n",
       "    }\n",
       "\n",
       "    .dataframe tbody tr th {\n",
       "        vertical-align: top;\n",
       "    }\n",
       "\n",
       "    .dataframe thead th {\n",
       "        text-align: right;\n",
       "    }\n",
       "</style>\n",
       "<table border=\"1\" class=\"dataframe\">\n",
       "  <thead>\n",
       "    <tr style=\"text-align: right;\">\n",
       "      <th></th>\n",
       "      <th>FEC_EVENT</th>\n",
       "      <th>PAGE</th>\n",
       "      <th>CONTENT_CATEGORY</th>\n",
       "      <th>CONTENT_CATEGORY_TOP</th>\n",
       "      <th>CONTENT_CATEGORY_BOTTOM</th>\n",
       "      <th>SITE_ID</th>\n",
       "      <th>ON_SITE_SEARCH_TERM</th>\n",
       "      <th>USER_ID</th>\n",
       "      <th>anio</th>\n",
       "      <th>mes</th>\n",
       "      <th>Q</th>\n",
       "    </tr>\n",
       "  </thead>\n",
       "  <tbody>\n",
       "    <tr>\n",
       "      <th>0</th>\n",
       "      <td>2018-03-30 07:35:48</td>\n",
       "      <td>1</td>\n",
       "      <td>1</td>\n",
       "      <td>1</td>\n",
       "      <td>1</td>\n",
       "      <td>1</td>\n",
       "      <td>1</td>\n",
       "      <td>0</td>\n",
       "      <td>2018</td>\n",
       "      <td>3</td>\n",
       "      <td>20181</td>\n",
       "    </tr>\n",
       "    <tr>\n",
       "      <th>1</th>\n",
       "      <td>2018-03-30 07:35:52</td>\n",
       "      <td>2</td>\n",
       "      <td>2</td>\n",
       "      <td>2</td>\n",
       "      <td>2</td>\n",
       "      <td>2</td>\n",
       "      <td>1</td>\n",
       "      <td>0</td>\n",
       "      <td>2018</td>\n",
       "      <td>3</td>\n",
       "      <td>20181</td>\n",
       "    </tr>\n",
       "    <tr>\n",
       "      <th>2</th>\n",
       "      <td>2018-03-30 07:36:11</td>\n",
       "      <td>3</td>\n",
       "      <td>2</td>\n",
       "      <td>2</td>\n",
       "      <td>2</td>\n",
       "      <td>3</td>\n",
       "      <td>1</td>\n",
       "      <td>0</td>\n",
       "      <td>2018</td>\n",
       "      <td>3</td>\n",
       "      <td>20181</td>\n",
       "    </tr>\n",
       "    <tr>\n",
       "      <th>3</th>\n",
       "      <td>2018-03-30 07:36:16</td>\n",
       "      <td>4</td>\n",
       "      <td>2</td>\n",
       "      <td>2</td>\n",
       "      <td>2</td>\n",
       "      <td>3</td>\n",
       "      <td>1</td>\n",
       "      <td>0</td>\n",
       "      <td>2018</td>\n",
       "      <td>3</td>\n",
       "      <td>20181</td>\n",
       "    </tr>\n",
       "    <tr>\n",
       "      <th>4</th>\n",
       "      <td>2018-03-30 07:41:38</td>\n",
       "      <td>5</td>\n",
       "      <td>2</td>\n",
       "      <td>2</td>\n",
       "      <td>2</td>\n",
       "      <td>2</td>\n",
       "      <td>1</td>\n",
       "      <td>0</td>\n",
       "      <td>2018</td>\n",
       "      <td>3</td>\n",
       "      <td>20181</td>\n",
       "    </tr>\n",
       "  </tbody>\n",
       "</table>\n",
       "</div>"
      ],
      "text/plain": [
       "            FEC_EVENT  PAGE  CONTENT_CATEGORY  CONTENT_CATEGORY_TOP  \\\n",
       "0 2018-03-30 07:35:48     1                 1                     1   \n",
       "1 2018-03-30 07:35:52     2                 2                     2   \n",
       "2 2018-03-30 07:36:11     3                 2                     2   \n",
       "3 2018-03-30 07:36:16     4                 2                     2   \n",
       "4 2018-03-30 07:41:38     5                 2                     2   \n",
       "\n",
       "   CONTENT_CATEGORY_BOTTOM  SITE_ID  ON_SITE_SEARCH_TERM  USER_ID  anio  mes  \\\n",
       "0                        1        1                    1        0  2018    3   \n",
       "1                        2        2                    1        0  2018    3   \n",
       "2                        2        3                    1        0  2018    3   \n",
       "3                        2        3                    1        0  2018    3   \n",
       "4                        2        2                    1        0  2018    3   \n",
       "\n",
       "       Q  \n",
       "0  20181  \n",
       "1  20181  \n",
       "2  20181  \n",
       "3  20181  \n",
       "4  20181  "
      ]
     },
     "execution_count": 4,
     "metadata": {},
     "output_type": "execute_result"
    }
   ],
   "source": [
    "pageviews['USER_ID'] = pd.to_numeric(pageviews['USER_ID'])\n",
    "\n",
    "# Creo campos para hacer el join con el archivo conversiones\n",
    "pageviews['FEC_EVENT'] = pd.to_datetime(pageviews['FEC_EVENT'])\n",
    "pageviews['anio'] = pageviews['FEC_EVENT'].dt.year\n",
    "pageviews['mes'] = pageviews['FEC_EVENT'].dt.month\n",
    "pageviews['Q'] = pd.to_numeric(pageviews['anio'].astype(str) + ((pageviews['mes']-1)//3 + 1).astype(str))\n",
    "pageviews.head()"
   ]
  },
  {
   "cell_type": "code",
   "execution_count": 5,
   "metadata": {},
   "outputs": [
    {
     "data": {
      "text/plain": [
       "11676"
      ]
     },
     "execution_count": 5,
     "metadata": {},
     "output_type": "execute_result"
    }
   ],
   "source": [
    "pageviews['USER_ID'].nunique()"
   ]
  },
  {
   "cell_type": "markdown",
   "metadata": {},
   "source": [
    "### Merge con el resto de los datasets para agregar las descripciones"
   ]
  },
  {
   "cell_type": "code",
   "execution_count": 6,
   "metadata": {},
   "outputs": [
    {
     "data": {
      "text/html": [
       "<div>\n",
       "<style scoped>\n",
       "    .dataframe tbody tr th:only-of-type {\n",
       "        vertical-align: middle;\n",
       "    }\n",
       "\n",
       "    .dataframe tbody tr th {\n",
       "        vertical-align: top;\n",
       "    }\n",
       "\n",
       "    .dataframe thead th {\n",
       "        text-align: right;\n",
       "    }\n",
       "</style>\n",
       "<table border=\"1\" class=\"dataframe\">\n",
       "  <thead>\n",
       "    <tr style=\"text-align: right;\">\n",
       "      <th></th>\n",
       "      <th>FEC_EVENT</th>\n",
       "      <th>PAGE</th>\n",
       "      <th>CONTENT_CATEGORY</th>\n",
       "      <th>CONTENT_CATEGORY_TOP</th>\n",
       "      <th>CONTENT_CATEGORY_BOTTOM</th>\n",
       "      <th>SITE_ID</th>\n",
       "      <th>ON_SITE_SEARCH_TERM</th>\n",
       "      <th>USER_ID</th>\n",
       "      <th>anio</th>\n",
       "      <th>mes</th>\n",
       "      <th>Q</th>\n",
       "      <th>PAGE_descripcion</th>\n",
       "    </tr>\n",
       "  </thead>\n",
       "  <tbody>\n",
       "    <tr>\n",
       "      <th>0</th>\n",
       "      <td>2018-03-30 07:35:48</td>\n",
       "      <td>1</td>\n",
       "      <td>1</td>\n",
       "      <td>1</td>\n",
       "      <td>1</td>\n",
       "      <td>1</td>\n",
       "      <td>1</td>\n",
       "      <td>0</td>\n",
       "      <td>2018</td>\n",
       "      <td>3</td>\n",
       "      <td>20181</td>\n",
       "      <td>WEB : EMINENT</td>\n",
       "    </tr>\n",
       "    <tr>\n",
       "      <th>1</th>\n",
       "      <td>2018-02-18 13:26:45</td>\n",
       "      <td>1</td>\n",
       "      <td>1</td>\n",
       "      <td>1</td>\n",
       "      <td>1</td>\n",
       "      <td>1</td>\n",
       "      <td>1</td>\n",
       "      <td>0</td>\n",
       "      <td>2018</td>\n",
       "      <td>2</td>\n",
       "      <td>20181</td>\n",
       "      <td>WEB : EMINENT</td>\n",
       "    </tr>\n",
       "    <tr>\n",
       "      <th>2</th>\n",
       "      <td>2018-03-04 18:04:12</td>\n",
       "      <td>1</td>\n",
       "      <td>1</td>\n",
       "      <td>1</td>\n",
       "      <td>1</td>\n",
       "      <td>1</td>\n",
       "      <td>1</td>\n",
       "      <td>0</td>\n",
       "      <td>2018</td>\n",
       "      <td>3</td>\n",
       "      <td>20181</td>\n",
       "      <td>WEB : EMINENT</td>\n",
       "    </tr>\n",
       "    <tr>\n",
       "      <th>3</th>\n",
       "      <td>2018-01-04 08:29:59</td>\n",
       "      <td>1</td>\n",
       "      <td>1</td>\n",
       "      <td>1</td>\n",
       "      <td>1</td>\n",
       "      <td>1</td>\n",
       "      <td>1</td>\n",
       "      <td>0</td>\n",
       "      <td>2018</td>\n",
       "      <td>1</td>\n",
       "      <td>20181</td>\n",
       "      <td>WEB : EMINENT</td>\n",
       "    </tr>\n",
       "    <tr>\n",
       "      <th>4</th>\n",
       "      <td>2018-01-04 08:52:16</td>\n",
       "      <td>1</td>\n",
       "      <td>1</td>\n",
       "      <td>1</td>\n",
       "      <td>1</td>\n",
       "      <td>1</td>\n",
       "      <td>1</td>\n",
       "      <td>0</td>\n",
       "      <td>2018</td>\n",
       "      <td>1</td>\n",
       "      <td>20181</td>\n",
       "      <td>WEB : EMINENT</td>\n",
       "    </tr>\n",
       "  </tbody>\n",
       "</table>\n",
       "</div>"
      ],
      "text/plain": [
       "            FEC_EVENT  PAGE  CONTENT_CATEGORY  CONTENT_CATEGORY_TOP  \\\n",
       "0 2018-03-30 07:35:48     1                 1                     1   \n",
       "1 2018-02-18 13:26:45     1                 1                     1   \n",
       "2 2018-03-04 18:04:12     1                 1                     1   \n",
       "3 2018-01-04 08:29:59     1                 1                     1   \n",
       "4 2018-01-04 08:52:16     1                 1                     1   \n",
       "\n",
       "   CONTENT_CATEGORY_BOTTOM  SITE_ID  ON_SITE_SEARCH_TERM  USER_ID  anio  mes  \\\n",
       "0                        1        1                    1        0  2018    3   \n",
       "1                        1        1                    1        0  2018    2   \n",
       "2                        1        1                    1        0  2018    3   \n",
       "3                        1        1                    1        0  2018    1   \n",
       "4                        1        1                    1        0  2018    1   \n",
       "\n",
       "       Q PAGE_descripcion  \n",
       "0  20181    WEB : EMINENT  \n",
       "1  20181    WEB : EMINENT  \n",
       "2  20181    WEB : EMINENT  \n",
       "3  20181    WEB : EMINENT  \n",
       "4  20181    WEB : EMINENT  "
      ]
     },
     "execution_count": 6,
     "metadata": {},
     "output_type": "execute_result"
    }
   ],
   "source": [
    "data = pd.merge(pageviews, page, how='inner')\n",
    "data.head()\n",
    "\n",
    "# data = pd.merge(data, content_category, how='inner')\n",
    "# data = pd.merge(data, content_category_top, how='inner')\n",
    "# data = pd.merge(data, content_category_bottom, how='inner')\n",
    "# data = pd.merge(data, site_id, how='inner')\n",
    "# print(data.head())"
   ]
  },
  {
   "cell_type": "code",
   "execution_count": null,
   "metadata": {},
   "outputs": [],
   "source": []
  },
  {
   "cell_type": "markdown",
   "metadata": {},
   "source": [
    "### Sesiones por usuario"
   ]
  },
  {
   "cell_type": "code",
   "execution_count": 7,
   "metadata": {},
   "outputs": [],
   "source": [
    "# Definimos un límite de tiempo entre eventos (Cuánto tiempo pasa hasta que expira la sesión?)\n",
    "T = timedelta(seconds=30*60)\n",
    "\n",
    "# data = data.loc[:,['USER_ID', 'FEC_EVENT', 'anio', 'mes']]\n",
    "# Ordenamos el dataset por usuario y fecha de evento\n",
    "data = data.sort_values(by=['USER_ID','FEC_EVENT'])\n",
    "\n",
    "# Agregamos una columna con la fecha de evento anterior\n",
    "data['last_date'] = data.groupby(['USER_ID'])['FEC_EVENT'].shift()\n",
    "\n",
    "# Crear flag de nueva sesión cada vez que hay un nuevo ingreso\n",
    "data['new_session'] = (((data['FEC_EVENT']\n",
    "                            - data['last_date'])>=T) | (data['last_date'].isnull())).astype(int)\n",
    "data['inc'] = data.groupby('USER_ID')['new_session'].cumsum()\n",
    "\n",
    "# Creamos el id de sesión\n",
    "data['session_id'] = data['USER_ID'].astype(str) + '_' + data['inc'].astype(str)\n",
    "data = data.drop('inc', axis=1)\n",
    "\n",
    "# print(data.head())"
   ]
  },
  {
   "cell_type": "markdown",
   "metadata": {},
   "source": [
    "### Frecuencia de aparición para cada variable"
   ]
  },
  {
   "cell_type": "code",
   "execution_count": 8,
   "metadata": {},
   "outputs": [
    {
     "data": {
      "text/html": [
       "<div>\n",
       "<style scoped>\n",
       "    .dataframe tbody tr th:only-of-type {\n",
       "        vertical-align: middle;\n",
       "    }\n",
       "\n",
       "    .dataframe tbody tr th {\n",
       "        vertical-align: top;\n",
       "    }\n",
       "\n",
       "    .dataframe thead th {\n",
       "        text-align: right;\n",
       "    }\n",
       "</style>\n",
       "<table border=\"1\" class=\"dataframe\">\n",
       "  <thead>\n",
       "    <tr style=\"text-align: right;\">\n",
       "      <th></th>\n",
       "      <th>FEC_EVENT</th>\n",
       "      <th>PAGE</th>\n",
       "      <th>CONTENT_CATEGORY</th>\n",
       "      <th>CONTENT_CATEGORY_TOP</th>\n",
       "      <th>CONTENT_CATEGORY_BOTTOM</th>\n",
       "      <th>SITE_ID</th>\n",
       "      <th>ON_SITE_SEARCH_TERM</th>\n",
       "      <th>USER_ID</th>\n",
       "      <th>anio</th>\n",
       "      <th>mes</th>\n",
       "      <th>...</th>\n",
       "      <th>last_date</th>\n",
       "      <th>new_session</th>\n",
       "      <th>session_id</th>\n",
       "      <th>prestamo</th>\n",
       "      <th>transferencia</th>\n",
       "      <th>inversiones</th>\n",
       "      <th>solicitud</th>\n",
       "      <th>quiero</th>\n",
       "      <th>pagos</th>\n",
       "      <th>eminent</th>\n",
       "    </tr>\n",
       "  </thead>\n",
       "  <tbody>\n",
       "    <tr>\n",
       "      <th>7780776</th>\n",
       "      <td>2018-01-01 09:56:47</td>\n",
       "      <td>14</td>\n",
       "      <td>4</td>\n",
       "      <td>2</td>\n",
       "      <td>4</td>\n",
       "      <td>2</td>\n",
       "      <td>1</td>\n",
       "      <td>0</td>\n",
       "      <td>2018</td>\n",
       "      <td>1</td>\n",
       "      <td>...</td>\n",
       "      <td>NaT</td>\n",
       "      <td>1</td>\n",
       "      <td>0_1</td>\n",
       "      <td>0</td>\n",
       "      <td>0</td>\n",
       "      <td>0</td>\n",
       "      <td>0</td>\n",
       "      <td>0</td>\n",
       "      <td>0</td>\n",
       "      <td>0</td>\n",
       "    </tr>\n",
       "    <tr>\n",
       "      <th>7780777</th>\n",
       "      <td>2018-01-01 09:57:19</td>\n",
       "      <td>14</td>\n",
       "      <td>4</td>\n",
       "      <td>2</td>\n",
       "      <td>4</td>\n",
       "      <td>2</td>\n",
       "      <td>1</td>\n",
       "      <td>0</td>\n",
       "      <td>2018</td>\n",
       "      <td>1</td>\n",
       "      <td>...</td>\n",
       "      <td>2018-01-01 09:56:47</td>\n",
       "      <td>0</td>\n",
       "      <td>0_1</td>\n",
       "      <td>0</td>\n",
       "      <td>0</td>\n",
       "      <td>0</td>\n",
       "      <td>0</td>\n",
       "      <td>0</td>\n",
       "      <td>0</td>\n",
       "      <td>0</td>\n",
       "    </tr>\n",
       "    <tr>\n",
       "      <th>7417028</th>\n",
       "      <td>2018-01-01 09:57:48</td>\n",
       "      <td>10</td>\n",
       "      <td>4</td>\n",
       "      <td>2</td>\n",
       "      <td>4</td>\n",
       "      <td>2</td>\n",
       "      <td>1</td>\n",
       "      <td>0</td>\n",
       "      <td>2018</td>\n",
       "      <td>1</td>\n",
       "      <td>...</td>\n",
       "      <td>2018-01-01 09:57:19</td>\n",
       "      <td>0</td>\n",
       "      <td>0_1</td>\n",
       "      <td>0</td>\n",
       "      <td>0</td>\n",
       "      <td>0</td>\n",
       "      <td>0</td>\n",
       "      <td>0</td>\n",
       "      <td>0</td>\n",
       "      <td>1</td>\n",
       "    </tr>\n",
       "    <tr>\n",
       "      <th>7737827</th>\n",
       "      <td>2018-01-01 09:57:48</td>\n",
       "      <td>12</td>\n",
       "      <td>4</td>\n",
       "      <td>2</td>\n",
       "      <td>4</td>\n",
       "      <td>2</td>\n",
       "      <td>1</td>\n",
       "      <td>0</td>\n",
       "      <td>2018</td>\n",
       "      <td>1</td>\n",
       "      <td>...</td>\n",
       "      <td>2018-01-01 09:57:48</td>\n",
       "      <td>0</td>\n",
       "      <td>0_1</td>\n",
       "      <td>0</td>\n",
       "      <td>0</td>\n",
       "      <td>0</td>\n",
       "      <td>0</td>\n",
       "      <td>0</td>\n",
       "      <td>0</td>\n",
       "      <td>1</td>\n",
       "    </tr>\n",
       "    <tr>\n",
       "      <th>7733784</th>\n",
       "      <td>2018-01-01 09:57:49</td>\n",
       "      <td>11</td>\n",
       "      <td>4</td>\n",
       "      <td>2</td>\n",
       "      <td>4</td>\n",
       "      <td>2</td>\n",
       "      <td>1</td>\n",
       "      <td>0</td>\n",
       "      <td>2018</td>\n",
       "      <td>1</td>\n",
       "      <td>...</td>\n",
       "      <td>2018-01-01 09:57:48</td>\n",
       "      <td>0</td>\n",
       "      <td>0_1</td>\n",
       "      <td>0</td>\n",
       "      <td>0</td>\n",
       "      <td>0</td>\n",
       "      <td>0</td>\n",
       "      <td>0</td>\n",
       "      <td>0</td>\n",
       "      <td>1</td>\n",
       "    </tr>\n",
       "  </tbody>\n",
       "</table>\n",
       "<p>5 rows × 22 columns</p>\n",
       "</div>"
      ],
      "text/plain": [
       "                  FEC_EVENT  PAGE  CONTENT_CATEGORY  CONTENT_CATEGORY_TOP  \\\n",
       "7780776 2018-01-01 09:56:47    14                 4                     2   \n",
       "7780777 2018-01-01 09:57:19    14                 4                     2   \n",
       "7417028 2018-01-01 09:57:48    10                 4                     2   \n",
       "7737827 2018-01-01 09:57:48    12                 4                     2   \n",
       "7733784 2018-01-01 09:57:49    11                 4                     2   \n",
       "\n",
       "         CONTENT_CATEGORY_BOTTOM  SITE_ID  ON_SITE_SEARCH_TERM  USER_ID  anio  \\\n",
       "7780776                        4        2                    1        0  2018   \n",
       "7780777                        4        2                    1        0  2018   \n",
       "7417028                        4        2                    1        0  2018   \n",
       "7737827                        4        2                    1        0  2018   \n",
       "7733784                        4        2                    1        0  2018   \n",
       "\n",
       "         mes  ...           last_date new_session session_id  prestamo  \\\n",
       "7780776    1  ...                 NaT           1        0_1         0   \n",
       "7780777    1  ... 2018-01-01 09:56:47           0        0_1         0   \n",
       "7417028    1  ... 2018-01-01 09:57:19           0        0_1         0   \n",
       "7737827    1  ... 2018-01-01 09:57:48           0        0_1         0   \n",
       "7733784    1  ... 2018-01-01 09:57:48           0        0_1         0   \n",
       "\n",
       "        transferencia  inversiones  solicitud  quiero  pagos  eminent  \n",
       "7780776             0            0          0       0      0        0  \n",
       "7780777             0            0          0       0      0        0  \n",
       "7417028             0            0          0       0      0        1  \n",
       "7737827             0            0          0       0      0        1  \n",
       "7733784             0            0          0       0      0        1  \n",
       "\n",
       "[5 rows x 22 columns]"
      ]
     },
     "execution_count": 8,
     "metadata": {},
     "output_type": "execute_result"
    }
   ],
   "source": [
    "data['prestamo'] = np.where(data['PAGE_descripcion'].astype(str).str.contains('PRESTAMO'), 1, 0)\n",
    "data['transferencia'] = np.where(data['PAGE_descripcion'].astype(str).str.contains('TRANSFERENCIA'), 1, 0)\n",
    "data['inversiones'] = np.where(data['PAGE_descripcion'].astype(str).str.contains('INVERSIONES'), 1, 0)\n",
    "data['solicitud'] = np.where(data['PAGE_descripcion'].astype(str).str.contains('SOLICITAR'), 1, 0)\n",
    "data['quiero'] = np.where(data['PAGE_descripcion'].astype(str).str.contains('QUIERO'), 1, 0)\n",
    "data['pagos'] = np.where(data['PAGE_descripcion'].astype(str).str.contains('PAGOS'), 1, 0)\n",
    "data['eminent'] = np.where(data['PAGE_descripcion'].astype(str).str.contains('EMINENT'), 1, 0)\n",
    "data.head()"
   ]
  },
  {
   "cell_type": "code",
   "execution_count": 9,
   "metadata": {},
   "outputs": [
    {
     "data": {
      "text/plain": [
       "Index(['FEC_EVENT', 'PAGE', 'CONTENT_CATEGORY', 'CONTENT_CATEGORY_TOP',\n",
       "       'CONTENT_CATEGORY_BOTTOM', 'SITE_ID', 'ON_SITE_SEARCH_TERM', 'USER_ID',\n",
       "       'anio', 'mes', 'Q', 'PAGE_descripcion', 'last_date', 'new_session',\n",
       "       'session_id', 'prestamo', 'transferencia', 'inversiones', 'solicitud',\n",
       "       'quiero', 'pagos', 'eminent'],\n",
       "      dtype='object')"
      ]
     },
     "execution_count": 9,
     "metadata": {},
     "output_type": "execute_result"
    }
   ],
   "source": [
    "data.columns"
   ]
  },
  {
   "cell_type": "code",
   "execution_count": 10,
   "metadata": {},
   "outputs": [],
   "source": [
    "data = data[['USER_ID', 'anio', 'mes', 'Q', 'prestamo', 'transferencia',\n",
    "       'inversiones', 'solicitud', 'quiero', 'pagos', 'eminent', 'session_id']]"
   ]
  },
  {
   "cell_type": "code",
   "execution_count": 11,
   "metadata": {},
   "outputs": [],
   "source": [
    "data.to_csv('data_Frec.csv',sep=',',header=True)"
   ]
  },
  {
   "cell_type": "code",
   "execution_count": null,
   "metadata": {},
   "outputs": [],
   "source": []
  },
  {
   "cell_type": "code",
   "execution_count": null,
   "metadata": {},
   "outputs": [],
   "source": []
  },
  {
   "cell_type": "code",
   "execution_count": null,
   "metadata": {},
   "outputs": [],
   "source": []
  },
  {
   "cell_type": "code",
   "execution_count": null,
   "metadata": {},
   "outputs": [],
   "source": []
  },
  {
   "cell_type": "code",
   "execution_count": null,
   "metadata": {},
   "outputs": [],
   "source": []
  },
  {
   "cell_type": "markdown",
   "metadata": {},
   "source": [
    "# Agrupar por id de usuario, año y mes para el dataset final"
   ]
  },
  {
   "cell_type": "markdown",
   "metadata": {},
   "source": [
    "Para cada usuario, año y mes, tengo la cantidad de sesiones, si convirtió o no en ese mes, y la fecha del último evento"
   ]
  },
  {
   "cell_type": "code",
   "execution_count": 33,
   "metadata": {},
   "outputs": [],
   "source": [
    "grouped_data = data.groupby(['USER_ID','anio','mes','Q'], as_index=False).agg({'prestamo':'sum', 'transferencia':'sum'\n",
    "                                                                           , 'inversiones':'sum', 'solicitud':'sum'\n",
    "                                                                           , 'quiero':'sum', 'pagos':'sum'\n",
    "                                                                           , 'eminent':'sum'})\n"
   ]
  },
  {
   "cell_type": "code",
   "execution_count": 34,
   "metadata": {},
   "outputs": [
    {
     "data": {
      "text/plain": [
       "(38269, 9)"
      ]
     },
     "execution_count": 34,
     "metadata": {},
     "output_type": "execute_result"
    }
   ],
   "source": [
    "grouped_data = grouped_data.groupby(['USER_ID','Q'], as_index=False).agg({'prestamo':'sum', 'transferencia':'sum'\n",
    "                                                                           , 'inversiones':'sum', 'solicitud':'sum'\n",
    "                                                                           , 'quiero':'sum', 'pagos':'sum'\n",
    "                                                                           , 'eminent':'sum'})\n",
    "grouped_data.shape"
   ]
  },
  {
   "cell_type": "code",
   "execution_count": 35,
   "metadata": {},
   "outputs": [
    {
     "data": {
      "text/html": [
       "<div>\n",
       "<style scoped>\n",
       "    .dataframe tbody tr th:only-of-type {\n",
       "        vertical-align: middle;\n",
       "    }\n",
       "\n",
       "    .dataframe tbody tr th {\n",
       "        vertical-align: top;\n",
       "    }\n",
       "\n",
       "    .dataframe thead th {\n",
       "        text-align: right;\n",
       "    }\n",
       "</style>\n",
       "<table border=\"1\" class=\"dataframe\">\n",
       "  <thead>\n",
       "    <tr style=\"text-align: right;\">\n",
       "      <th></th>\n",
       "      <th>USER_ID</th>\n",
       "      <th>Q</th>\n",
       "      <th>prestamo</th>\n",
       "      <th>transferencia</th>\n",
       "      <th>inversiones</th>\n",
       "      <th>solicitud</th>\n",
       "      <th>quiero</th>\n",
       "      <th>pagos</th>\n",
       "      <th>eminent</th>\n",
       "    </tr>\n",
       "  </thead>\n",
       "  <tbody>\n",
       "    <tr>\n",
       "      <th>0</th>\n",
       "      <td>0</td>\n",
       "      <td>20181</td>\n",
       "      <td>1</td>\n",
       "      <td>22</td>\n",
       "      <td>3</td>\n",
       "      <td>0</td>\n",
       "      <td>12</td>\n",
       "      <td>93</td>\n",
       "      <td>1398</td>\n",
       "    </tr>\n",
       "    <tr>\n",
       "      <th>1</th>\n",
       "      <td>0</td>\n",
       "      <td>20182</td>\n",
       "      <td>0</td>\n",
       "      <td>31</td>\n",
       "      <td>11</td>\n",
       "      <td>0</td>\n",
       "      <td>7</td>\n",
       "      <td>45</td>\n",
       "      <td>1060</td>\n",
       "    </tr>\n",
       "    <tr>\n",
       "      <th>2</th>\n",
       "      <td>0</td>\n",
       "      <td>20183</td>\n",
       "      <td>0</td>\n",
       "      <td>93</td>\n",
       "      <td>0</td>\n",
       "      <td>0</td>\n",
       "      <td>7</td>\n",
       "      <td>87</td>\n",
       "      <td>737</td>\n",
       "    </tr>\n",
       "    <tr>\n",
       "      <th>3</th>\n",
       "      <td>0</td>\n",
       "      <td>20184</td>\n",
       "      <td>1</td>\n",
       "      <td>138</td>\n",
       "      <td>17</td>\n",
       "      <td>1</td>\n",
       "      <td>8</td>\n",
       "      <td>108</td>\n",
       "      <td>0</td>\n",
       "    </tr>\n",
       "    <tr>\n",
       "      <th>4</th>\n",
       "      <td>1</td>\n",
       "      <td>20181</td>\n",
       "      <td>0</td>\n",
       "      <td>6</td>\n",
       "      <td>0</td>\n",
       "      <td>0</td>\n",
       "      <td>1</td>\n",
       "      <td>48</td>\n",
       "      <td>450</td>\n",
       "    </tr>\n",
       "  </tbody>\n",
       "</table>\n",
       "</div>"
      ],
      "text/plain": [
       "   USER_ID      Q  prestamo  transferencia  inversiones  solicitud  quiero  \\\n",
       "0        0  20181         1             22            3          0      12   \n",
       "1        0  20182         0             31           11          0       7   \n",
       "2        0  20183         0             93            0          0       7   \n",
       "3        0  20184         1            138           17          1       8   \n",
       "4        1  20181         0              6            0          0       1   \n",
       "\n",
       "   pagos  eminent  \n",
       "0     93     1398  \n",
       "1     45     1060  \n",
       "2     87      737  \n",
       "3    108        0  \n",
       "4     48      450  "
      ]
     },
     "execution_count": 35,
     "metadata": {},
     "output_type": "execute_result"
    }
   ],
   "source": [
    "grouped_data.head()"
   ]
  },
  {
   "cell_type": "code",
   "execution_count": 36,
   "metadata": {},
   "outputs": [],
   "source": [
    "grouped_data.to_csv('observaciones_Frec.csv',sep=',',header=True)"
   ]
  },
  {
   "cell_type": "code",
   "execution_count": null,
   "metadata": {},
   "outputs": [],
   "source": []
  },
  {
   "cell_type": "code",
   "execution_count": null,
   "metadata": {},
   "outputs": [],
   "source": []
  },
  {
   "cell_type": "code",
   "execution_count": null,
   "metadata": {},
   "outputs": [],
   "source": []
  },
  {
   "cell_type": "code",
   "execution_count": null,
   "metadata": {},
   "outputs": [],
   "source": []
  },
  {
   "cell_type": "code",
   "execution_count": null,
   "metadata": {},
   "outputs": [],
   "source": []
  },
  {
   "cell_type": "code",
   "execution_count": null,
   "metadata": {
    "collapsed": true
   },
   "outputs": [],
   "source": []
  },
  {
   "cell_type": "markdown",
   "metadata": {
    "collapsed": true
   },
   "source": []
  },
  {
   "cell_type": "code",
   "execution_count": 16,
   "metadata": {},
   "outputs": [
    {
     "name": "stdout",
     "output_type": "stream",
     "text": [
      "1863834\n"
     ]
    },
    {
     "data": {
      "text/html": [
       "<div>\n",
       "<style>\n",
       "    .dataframe thead tr:only-child th {\n",
       "        text-align: right;\n",
       "    }\n",
       "\n",
       "    .dataframe thead th {\n",
       "        text-align: left;\n",
       "    }\n",
       "\n",
       "    .dataframe tbody tr th {\n",
       "        vertical-align: top;\n",
       "    }\n",
       "</style>\n",
       "<table border=\"1\" class=\"dataframe\">\n",
       "  <thead>\n",
       "    <tr style=\"text-align: right;\">\n",
       "      <th></th>\n",
       "      <th>session_id</th>\n",
       "      <th>USER_ID</th>\n",
       "      <th>min</th>\n",
       "      <th>max</th>\n",
       "      <th>count</th>\n",
       "      <th>sum</th>\n",
       "    </tr>\n",
       "  </thead>\n",
       "  <tbody>\n",
       "    <tr>\n",
       "      <th>2667</th>\n",
       "      <td>10016_100</td>\n",
       "      <td>10016</td>\n",
       "      <td>2018-05-02 12:49:44</td>\n",
       "      <td>2018-05-02 12:49:59</td>\n",
       "      <td>3</td>\n",
       "      <td>3.0</td>\n",
       "    </tr>\n",
       "    <tr>\n",
       "      <th>2668</th>\n",
       "      <td>10016_101</td>\n",
       "      <td>10016</td>\n",
       "      <td>2018-05-02 14:19:34</td>\n",
       "      <td>2018-05-02 14:23:13</td>\n",
       "      <td>14</td>\n",
       "      <td>14.0</td>\n",
       "    </tr>\n",
       "    <tr>\n",
       "      <th>2669</th>\n",
       "      <td>10016_102</td>\n",
       "      <td>10016</td>\n",
       "      <td>2018-05-03 09:40:35</td>\n",
       "      <td>2018-05-03 10:43:25</td>\n",
       "      <td>44</td>\n",
       "      <td>44.0</td>\n",
       "    </tr>\n",
       "    <tr>\n",
       "      <th>2670</th>\n",
       "      <td>10016_103</td>\n",
       "      <td>10016</td>\n",
       "      <td>2018-05-04 07:39:09</td>\n",
       "      <td>2018-05-04 07:45:24</td>\n",
       "      <td>5</td>\n",
       "      <td>5.0</td>\n",
       "    </tr>\n",
       "    <tr>\n",
       "      <th>2671</th>\n",
       "      <td>10016_104</td>\n",
       "      <td>10016</td>\n",
       "      <td>2018-05-04 10:13:55</td>\n",
       "      <td>2018-05-04 10:19:18</td>\n",
       "      <td>4</td>\n",
       "      <td>4.0</td>\n",
       "    </tr>\n",
       "  </tbody>\n",
       "</table>\n",
       "</div>"
      ],
      "text/plain": [
       "     session_id  USER_ID                 min                 max  count   sum\n",
       "2667  10016_100    10016 2018-05-02 12:49:44 2018-05-02 12:49:59      3   3.0\n",
       "2668  10016_101    10016 2018-05-02 14:19:34 2018-05-02 14:23:13     14  14.0\n",
       "2669  10016_102    10016 2018-05-03 09:40:35 2018-05-03 10:43:25     44  44.0\n",
       "2670  10016_103    10016 2018-05-04 07:39:09 2018-05-04 07:45:24      5   5.0\n",
       "2671  10016_104    10016 2018-05-04 10:13:55 2018-05-04 10:19:18      4   4.0"
      ]
     },
     "execution_count": 16,
     "metadata": {},
     "output_type": "execute_result"
    }
   ],
   "source": [
    "sessions = data.groupby(['session_id', 'USER_ID']).agg({'FEC_EVENT':['min','max','count'], 'conversion':'sum'})\n",
    "sessions.columns = sessions.columns.droplevel()\n",
    "# sessions.columns = ['event count','min timestamp','max timestamp','unique skus']\n",
    "# sessions.columns = sessions.columns.astype('object')\n",
    "sessions = sessions.reset_index()\n",
    "print(sessions['session_id'].nunique())\n",
    "sessions.loc[sessions['sum'] > 0].head()"
   ]
  },
  {
   "cell_type": "markdown",
   "metadata": {},
   "source": [
    "Con qué PAGE inician las sesiones??"
   ]
  },
  {
   "cell_type": "code",
   "execution_count": 15,
   "metadata": {},
   "outputs": [
    {
     "data": {
      "text/plain": [
       "/LOGIN                                                   786139\n",
       "WEB : PERSONAS                                           429831\n",
       "WEB : EMINENT                                            140243\n",
       "/ERROR/SESIONEXPIRADA                                    118415\n",
       "PRODUCTOSYSERVICIOS : NUEVO ONLINE BANKING GALICIA        60500\n",
       "HB : MASIVO : LOGIN                                       57658\n",
       "PRODUCTOSYSERVICIOS : ONLINEBANKING                       54745\n",
       "WEB : EMPRESAS                                            41847\n",
       "HB : MASIVO : CONSULTAS : RESUMEN DE PRODUCTOS : HOME     36063\n",
       "/INICIO                                                   34280\n",
       "WEB : NEGOCIOSYPYMES                                      19663\n",
       "HB : EMINENT : CONSULTAS : RESUMEN DE PRODUCTOS : HOM     10610\n",
       "HB : EMINENT : LOGIN                                       8058\n",
       "PRODUCTOSYSERVICIOS : COTIZADOR                            5559\n",
       "/ERROR/ERROROUT                                            3867\n",
       "WEB : RURAL                                                3435\n",
       "PRODUCTOSYSERVICIOS : NUEVO ONLINE BANKING GALICIA EM      2968\n",
       "/USERS/LOGIN                                               2786\n",
       "FICHAS : MARCA                                             2552\n",
       "/LANDING                                                   2062\n",
       "PRODUCTOSYSERVICIOS : OFFICEBANKING                        1984\n",
       "HB : MOVE : CONSULTAS : RESUMEN DE PRODUCTOS : HOME        1730\n",
       "BUSCADOR BENEFICIOS : TODAS LAS PROMOS                     1403\n",
       "PRODUCTOSYSERVICIOS : SACA TU TARJETA GALICIA              1400\n",
       "PRODUCTOSYSERVICIOS : PRESTAMOS PERSONALES BANCO GALI      1400\n",
       "/ERROR/ERRORIN                                             1055\n",
       "PRODUCTOSYSERVICIOS : PORTELEFONO                          1024\n",
       "WEB : CORPORATIVAS                                          993\n",
       "BUSCADORDECAJEROSYSUCURSALES : SUCURSALES                   946\n",
       "VAMOSLOSJUEVES1 : MARCAS                                    914\n",
       "                                                          ...  \n",
       "PRODUCTOSYSERVICIOS : SEGUROINTEGRALDECOMERCIO                1\n",
       "HB : MASIVO : LOGIN : OBTENE TU USUARIO                       1\n",
       "HB : MASIVO : QUIERO : ERRORES : ERROR NO MANEJADO            1\n",
       "/LANDING/                                                     1\n",
       "/INVERSIONES/EXITO-ALTA-PLAZO-FIJO                            1\n",
       "HC : TC : PASO 2.1 : OFERTA                                   1\n",
       "/CONFIRMACION/BIENVENIDO                                      1\n",
       "EMPRESAS : RESULTADO DE BUSQUEDA                              1\n",
       "QUENECESITASABER : PHISHING                                   1\n",
       "/TARJETAS/DEBITO-AUTOMATICO-EDITAR                            1\n",
       "BENEFICIOSYPROMOCIONES : PREVENTA BUQUEBUS MA                 1\n",
       "PRODUCTOSYSERVICIOS : CHEQUESONLINE                           1\n",
       "/INICIO+                                                      1\n",
       "HB : MASIVO : QUIERO : PASO 1 : SUSCRIPCION                   1\n",
       "/PERFIL/CONFIGURAR-ALERTAS                                    1\n",
       "PRODUCTOSYSERVICIOS : SEGURO ZURICH GALICIA EMINENT           1\n",
       "HC:STEP01:APPLICATION FORM                                    1\n",
       "/CUENTAS/EDITAR-ALIAS-CBU-PRECONFIRMACION                     1\n",
       "PRODUCTOSYSERVICIOS : TARJETA GALICIA MASTERCARD GOLD         1\n",
       "HB : MOVE : CONSULTAS : RESUMEN DE PRODUCTOS : MOVIMI         1\n",
       "/PERFIL/EDITAR-DOMICILIO-CONFIRMACION                         1\n",
       "/SEGURIDAD/ACTIVAR-TOKEN-VIRTUAL                              1\n",
       "/PAGOS/CONFIRMACIONALTADAS                                    1\n",
       "HB : EMINENT : LOGIN : ERRORES : NO ES UN CLIENTE BAN         1\n",
       "BENEFICIOSYPROMOCIONES : HACETEMOVE                           1\n",
       "PAGINA : RESUMEN ATENCION AL CLIENTE                          1\n",
       "/HIPOTECARIO/MENSAJE                                          1\n",
       "/TARJETAS/PRECONFIRMACIONPAGO                                 1\n",
       "PRODUCTOSYSERVICIOS : MENSAJE VTO PUNTOS QUIERO               1\n",
       "HB : MASIVO : OPERACIONES : PLAZO FIJO : PASO 3 : CON         1\n",
       "Name: PAGE_descripcion, Length: 732, dtype: int64"
      ]
     },
     "execution_count": 15,
     "metadata": {},
     "output_type": "execute_result"
    }
   ],
   "source": [
    "data.loc[data['new_session']==1,['USER_ID', 'FEC_EVENT', 'PAGE_descripcion']]['PAGE_descripcion'].value_counts()"
   ]
  },
  {
   "cell_type": "code",
   "execution_count": 17,
   "metadata": {},
   "outputs": [
    {
     "name": "stdout",
     "output_type": "stream",
     "text": [
      "(17996751, 9)\n",
      "(17936934, 10)\n"
     ]
    }
   ],
   "source": [
    "# data.loc[data['conversion']==0]\n",
    "print(data.shape)\n",
    "print(pageviews.shape)"
   ]
  },
  {
   "cell_type": "markdown",
   "metadata": {},
   "source": [
    "### Análisis de conversiones\n",
    "Analizamos si las conversiones en el último trimestre del 2018 dependen de la actividad en meses anteriores"
   ]
  },
  {
   "cell_type": "code",
   "execution_count": 18,
   "metadata": {},
   "outputs": [
    {
     "data": {
      "text/html": [
       "<div>\n",
       "<style>\n",
       "    .dataframe thead tr:only-child th {\n",
       "        text-align: right;\n",
       "    }\n",
       "\n",
       "    .dataframe thead th {\n",
       "        text-align: left;\n",
       "    }\n",
       "\n",
       "    .dataframe tbody tr th {\n",
       "        vertical-align: top;\n",
       "    }\n",
       "</style>\n",
       "<table border=\"1\" class=\"dataframe\">\n",
       "  <thead>\n",
       "    <tr style=\"text-align: right;\">\n",
       "      <th></th>\n",
       "      <th>FEC_EVENT</th>\n",
       "      <th>anio</th>\n",
       "      <th>mes</th>\n",
       "      <th>prev_conversions</th>\n",
       "      <th>PAGE_descripcion</th>\n",
       "      <th>last_date</th>\n",
       "      <th>new_session</th>\n",
       "      <th>session_id</th>\n",
       "      <th>label</th>\n",
       "    </tr>\n",
       "    <tr>\n",
       "      <th>USER_ID</th>\n",
       "      <th></th>\n",
       "      <th></th>\n",
       "      <th></th>\n",
       "      <th></th>\n",
       "      <th></th>\n",
       "      <th></th>\n",
       "      <th></th>\n",
       "      <th></th>\n",
       "      <th></th>\n",
       "    </tr>\n",
       "  </thead>\n",
       "  <tbody>\n",
       "    <tr>\n",
       "      <th>0</th>\n",
       "      <td>2018-01-01 09:56:47</td>\n",
       "      <td>2018</td>\n",
       "      <td>1</td>\n",
       "      <td>0.0</td>\n",
       "      <td>HB : MASIVO : LOGIN</td>\n",
       "      <td>NaT</td>\n",
       "      <td>1</td>\n",
       "      <td>0_1</td>\n",
       "      <td>0.0</td>\n",
       "    </tr>\n",
       "    <tr>\n",
       "      <th>0</th>\n",
       "      <td>2018-01-01 09:57:19</td>\n",
       "      <td>2018</td>\n",
       "      <td>1</td>\n",
       "      <td>0.0</td>\n",
       "      <td>HB : MASIVO : LOGIN</td>\n",
       "      <td>2018-01-01 09:56:47</td>\n",
       "      <td>0</td>\n",
       "      <td>0_1</td>\n",
       "      <td>0.0</td>\n",
       "    </tr>\n",
       "    <tr>\n",
       "      <th>0</th>\n",
       "      <td>2018-01-01 09:57:48</td>\n",
       "      <td>2018</td>\n",
       "      <td>1</td>\n",
       "      <td>0.0</td>\n",
       "      <td>HB : EMINENT : CONSULTAS : RESUMEN DE PRODUCTO...</td>\n",
       "      <td>2018-01-01 09:57:19</td>\n",
       "      <td>0</td>\n",
       "      <td>0_1</td>\n",
       "      <td>0.0</td>\n",
       "    </tr>\n",
       "    <tr>\n",
       "      <th>0</th>\n",
       "      <td>2018-01-01 09:57:48</td>\n",
       "      <td>2018</td>\n",
       "      <td>1</td>\n",
       "      <td>0.0</td>\n",
       "      <td>HB : EMINENT : CONSULTAS : ERRORES : INFORMACI...</td>\n",
       "      <td>2018-01-01 09:57:48</td>\n",
       "      <td>0</td>\n",
       "      <td>0_1</td>\n",
       "      <td>0.0</td>\n",
       "    </tr>\n",
       "    <tr>\n",
       "      <th>0</th>\n",
       "      <td>2018-01-01 09:57:49</td>\n",
       "      <td>2018</td>\n",
       "      <td>1</td>\n",
       "      <td>0.0</td>\n",
       "      <td>HB : EMINENT : CONSULTAS : ERRORES : INFORMACI...</td>\n",
       "      <td>2018-01-01 09:57:48</td>\n",
       "      <td>0</td>\n",
       "      <td>0_1</td>\n",
       "      <td>0.0</td>\n",
       "    </tr>\n",
       "  </tbody>\n",
       "</table>\n",
       "</div>"
      ],
      "text/plain": [
       "                  FEC_EVENT  anio  mes  prev_conversions  \\\n",
       "USER_ID                                                    \n",
       "0       2018-01-01 09:56:47  2018    1               0.0   \n",
       "0       2018-01-01 09:57:19  2018    1               0.0   \n",
       "0       2018-01-01 09:57:48  2018    1               0.0   \n",
       "0       2018-01-01 09:57:48  2018    1               0.0   \n",
       "0       2018-01-01 09:57:49  2018    1               0.0   \n",
       "\n",
       "                                          PAGE_descripcion  \\\n",
       "USER_ID                                                      \n",
       "0                                      HB : MASIVO : LOGIN   \n",
       "0                                      HB : MASIVO : LOGIN   \n",
       "0        HB : EMINENT : CONSULTAS : RESUMEN DE PRODUCTO...   \n",
       "0        HB : EMINENT : CONSULTAS : ERRORES : INFORMACI...   \n",
       "0        HB : EMINENT : CONSULTAS : ERRORES : INFORMACI...   \n",
       "\n",
       "                  last_date  new_session session_id  label  \n",
       "USER_ID                                                     \n",
       "0                       NaT            1        0_1    0.0  \n",
       "0       2018-01-01 09:56:47            0        0_1    0.0  \n",
       "0       2018-01-01 09:57:19            0        0_1    0.0  \n",
       "0       2018-01-01 09:57:48            0        0_1    0.0  \n",
       "0       2018-01-01 09:57:48            0        0_1    0.0  "
      ]
     },
     "execution_count": 18,
     "metadata": {},
     "output_type": "execute_result"
    }
   ],
   "source": [
    "hist = data.loc[data['mes'] < 10,]\n",
    "hist = hist.rename(columns = {'conversion':'prev_conversions'})\n",
    "\n",
    "# Convirtieron en el último cuarto?\n",
    "labels = data.loc[data['mes'] >= 10,]\n",
    "labels = labels.groupby('USER_ID', as_index=False).agg({'conversion':'sum'})\n",
    "labels['conversion'] = np.where(labels['conversion']> 0, 1, 0)\n",
    "\n",
    "hist = pd.merge(hist, labels, how='left')\n",
    "hist = hist.set_index('USER_ID', drop=True)\n",
    "hist = hist.rename(columns = {'conversion':'label'})\n",
    "hist.head()"
   ]
  },
  {
   "cell_type": "markdown",
   "metadata": {},
   "source": [
    "#### Páginas más visitadas por quienes convirtieron"
   ]
  },
  {
   "cell_type": "code",
   "execution_count": 42,
   "metadata": {},
   "outputs": [
    {
     "data": {
      "text/plain": [
       "/LOGIN                                                   1998159\n",
       "/INICIO                                                  1887400\n",
       "WEB : PERSONAS                                            525701\n",
       "/PAGOS/INICIO                                             465912\n",
       "/TARJETAS/INICIO                                          448812\n",
       "/ERROR/SESIONEXPIRADA                                     443534\n",
       "HB : MASIVO : CONSULTAS : RESUMEN DE PRODUCTOS : HOME     366334\n",
       "/CUENTAS/MIS-CUENTAS                                      352155\n",
       "/CUENTAS/INICIO                                           335351\n",
       "HB : EMINENT : CONSULTAS : RESUMEN DE PRODUCTOS : HOM     306264\n",
       "/TRANSFERENCIAS/INICIO                                    291298\n",
       "/TARJETAS/CONSUMOS/0                                      271765\n",
       "/INVERSIONES/INICIO                                       266024\n",
       "HB : MASIVO : LOGIN                                       249837\n",
       "WEB : EMINENT                                             177941\n",
       "/TARJETAS/RESUMEN/0                                       146834\n",
       "/ERROR/ERRORIN                                            121636\n",
       "/TARJETAS/CONSUMOS/1                                      119214\n",
       "/TRANSFERENCIAS/TERCEROS-MONTO                            115616\n",
       "/PRESTAMOS/INICIO                                         105152\n",
       "/TRANSFERENCIAS/TERCEROS-PRECONFIRMACION                  104644\n",
       "/TRANSFERENCIAS/TERCEROS-MOTIVO                           103164\n",
       "/PAGOS/PAGO-MIS-CUENTAS                                   102956\n",
       "HB : EMINENT : LOGIN                                       95236\n",
       "/QUIERO/INICIOTOKEN                                        94951\n",
       "WEB : EMPRESAS                                             91186\n",
       "HB : MASIVO : CONSULTAS : RESUMEN DE PRODUCTOS : MOVI      90864\n",
       "/PAGOS/PAGAR-NUEVO-SERVICIO                                90788\n",
       "/TRANSFERENCIAS/TERCEROS-EXITO                             90294\n",
       "/TRANSFERENCIAS/NUEVA                                      82037\n",
       "                                                          ...   \n",
       "/TARJETAS/RESUMEN/A%20PAGAR:%20$16.533 49%20/%20%3CBR          1\n",
       "/CUENTAS/INICIOCBU                                             1\n",
       "/LOGINMERVAL                                                   1\n",
       "/PRODUCTOS%20Y%20SERVICIOS                                     1\n",
       "/INICIOCBU%20%20CBU                                            1\n",
       "/TARJETAS/RESUMEN/A%20PAGAR:%20$45.053 11                      1\n",
       "PRODUCTOSYSERVICIOS : TARJETA GALICIA MASTERCARD PLAT          1\n",
       "/TRANSFERENCIAS/INICIO/20                                      1\n",
       "/FILE/DOWNLOAT;                                                1\n",
       "/SEGURIDAD/GENERAR-USUARIO).                                   1\n",
       "/TRANSFERENCIAS/INFORMACION-CONTACTO/179                       1\n",
       "/INVERSIONES/RESCATAR_FONDO_FIMA_PRECONFIRMACION               1\n",
       "QUENECESITASABER : PHISHING                                    1\n",
       "PRODUCTOSYSERVICIOS : ACTUALIZA APP GALICIA                    1\n",
       "PRODUCTOSYSERVICIOS : BANCOENPLANTA                            1\n",
       "/TRANSFERENCIAS/INICIO/12                                      1\n",
       "/TRANSFERENCIAS/INFORMACION-CONTACTO/168                       1\n",
       "/TARJETASAS/PAGAR                                              1\n",
       "HB : MOVE : UPGRADE DE PAQUETES : ERROR 500 : ERROR E          1\n",
       "PRODUCTOSYSERVICIOS : AGROACTIVA                               1\n",
       "/NAVIGATION/MENULINK/11                                        1\n",
       "/TARJETAS/RESUMEN/A%20PAGAR:%20$3.704 93                       1\n",
       "/CONSULTAS/                                                    1\n",
       "/LOGIN%7D                                                      1\n",
       "/TRANSFERENCIAS/INFORMACION-CONTACTO/165                       1\n",
       "/LOGIN%C3%A7                                                   1\n",
       "/ICAMBIO%20DE%20CBUNICIO                                       1\n",
       "PRODUCTOSYSERVICIOS : DEBITOAUTOMATICOMASTERCARD               1\n",
       "HC:STEP02:IDENTITY VALIDATION                                  1\n",
       "/EGOORROR/SESIONEXPIRADA                                       1\n",
       "Name: PAGE_descripcion, Length: 1548, dtype: int64"
      ]
     },
     "execution_count": 42,
     "metadata": {},
     "output_type": "execute_result"
    }
   ],
   "source": [
    "hist.loc[hist['label']==1,['USER_ID', 'FEC_EVENT', 'PAGE_descripcion']]['PAGE_descripcion'].value_counts()"
   ]
  },
  {
   "cell_type": "code",
   "execution_count": 51,
   "metadata": {},
   "outputs": [
    {
     "data": {
      "text/plain": [
       "0.0    813001\n",
       "1.0     24589\n",
       "Name: label, dtype: int64"
      ]
     },
     "execution_count": 51,
     "metadata": {},
     "output_type": "execute_result"
    }
   ],
   "source": [
    "# page.loc[page['PAGE_descripcion'].astype(str).str.contains('QUIERO'),:]\n",
    "hist.loc[hist['PAGE_descripcion'].astype(str).str.contains('EMINENT'),('label')].value_counts()"
   ]
  },
  {
   "cell_type": "code",
   "execution_count": 52,
   "metadata": {},
   "outputs": [
    {
     "data": {
      "text/html": [
       "<div>\n",
       "<style>\n",
       "    .dataframe thead tr:only-child th {\n",
       "        text-align: right;\n",
       "    }\n",
       "\n",
       "    .dataframe thead th {\n",
       "        text-align: left;\n",
       "    }\n",
       "\n",
       "    .dataframe tbody tr th {\n",
       "        vertical-align: top;\n",
       "    }\n",
       "</style>\n",
       "<table border=\"1\" class=\"dataframe\">\n",
       "  <thead>\n",
       "    <tr style=\"text-align: right;\">\n",
       "      <th></th>\n",
       "      <th>FEC_EVENT</th>\n",
       "      <th>anio</th>\n",
       "      <th>mes</th>\n",
       "      <th>prev_conversions</th>\n",
       "      <th>PAGE_descripcion</th>\n",
       "      <th>last_date</th>\n",
       "      <th>new_session</th>\n",
       "      <th>session_id</th>\n",
       "      <th>label</th>\n",
       "      <th>prestamo</th>\n",
       "      <th>transferencia</th>\n",
       "      <th>inversiones</th>\n",
       "      <th>solicitud</th>\n",
       "      <th>quiero</th>\n",
       "      <th>pagos</th>\n",
       "      <th>eminent</th>\n",
       "    </tr>\n",
       "    <tr>\n",
       "      <th>USER_ID</th>\n",
       "      <th></th>\n",
       "      <th></th>\n",
       "      <th></th>\n",
       "      <th></th>\n",
       "      <th></th>\n",
       "      <th></th>\n",
       "      <th></th>\n",
       "      <th></th>\n",
       "      <th></th>\n",
       "      <th></th>\n",
       "      <th></th>\n",
       "      <th></th>\n",
       "      <th></th>\n",
       "      <th></th>\n",
       "      <th></th>\n",
       "      <th></th>\n",
       "    </tr>\n",
       "  </thead>\n",
       "  <tbody>\n",
       "    <tr>\n",
       "      <th>0</th>\n",
       "      <td>2018-01-01 09:56:47</td>\n",
       "      <td>2018</td>\n",
       "      <td>1</td>\n",
       "      <td>0.0</td>\n",
       "      <td>HB : MASIVO : LOGIN</td>\n",
       "      <td>NaT</td>\n",
       "      <td>1</td>\n",
       "      <td>0_1</td>\n",
       "      <td>0.0</td>\n",
       "      <td>0</td>\n",
       "      <td>0</td>\n",
       "      <td>0</td>\n",
       "      <td>0</td>\n",
       "      <td>0</td>\n",
       "      <td>0</td>\n",
       "      <td>0</td>\n",
       "    </tr>\n",
       "    <tr>\n",
       "      <th>0</th>\n",
       "      <td>2018-01-01 09:57:19</td>\n",
       "      <td>2018</td>\n",
       "      <td>1</td>\n",
       "      <td>0.0</td>\n",
       "      <td>HB : MASIVO : LOGIN</td>\n",
       "      <td>2018-01-01 09:56:47</td>\n",
       "      <td>0</td>\n",
       "      <td>0_1</td>\n",
       "      <td>0.0</td>\n",
       "      <td>0</td>\n",
       "      <td>0</td>\n",
       "      <td>0</td>\n",
       "      <td>0</td>\n",
       "      <td>0</td>\n",
       "      <td>0</td>\n",
       "      <td>0</td>\n",
       "    </tr>\n",
       "    <tr>\n",
       "      <th>0</th>\n",
       "      <td>2018-01-01 09:57:48</td>\n",
       "      <td>2018</td>\n",
       "      <td>1</td>\n",
       "      <td>0.0</td>\n",
       "      <td>HB : EMINENT : CONSULTAS : RESUMEN DE PRODUCTO...</td>\n",
       "      <td>2018-01-01 09:57:19</td>\n",
       "      <td>0</td>\n",
       "      <td>0_1</td>\n",
       "      <td>0.0</td>\n",
       "      <td>0</td>\n",
       "      <td>0</td>\n",
       "      <td>0</td>\n",
       "      <td>0</td>\n",
       "      <td>0</td>\n",
       "      <td>0</td>\n",
       "      <td>1</td>\n",
       "    </tr>\n",
       "    <tr>\n",
       "      <th>0</th>\n",
       "      <td>2018-01-01 09:57:48</td>\n",
       "      <td>2018</td>\n",
       "      <td>1</td>\n",
       "      <td>0.0</td>\n",
       "      <td>HB : EMINENT : CONSULTAS : ERRORES : INFORMACI...</td>\n",
       "      <td>2018-01-01 09:57:48</td>\n",
       "      <td>0</td>\n",
       "      <td>0_1</td>\n",
       "      <td>0.0</td>\n",
       "      <td>0</td>\n",
       "      <td>0</td>\n",
       "      <td>0</td>\n",
       "      <td>0</td>\n",
       "      <td>0</td>\n",
       "      <td>0</td>\n",
       "      <td>1</td>\n",
       "    </tr>\n",
       "    <tr>\n",
       "      <th>0</th>\n",
       "      <td>2018-01-01 09:57:49</td>\n",
       "      <td>2018</td>\n",
       "      <td>1</td>\n",
       "      <td>0.0</td>\n",
       "      <td>HB : EMINENT : CONSULTAS : ERRORES : INFORMACI...</td>\n",
       "      <td>2018-01-01 09:57:48</td>\n",
       "      <td>0</td>\n",
       "      <td>0_1</td>\n",
       "      <td>0.0</td>\n",
       "      <td>0</td>\n",
       "      <td>0</td>\n",
       "      <td>0</td>\n",
       "      <td>0</td>\n",
       "      <td>0</td>\n",
       "      <td>0</td>\n",
       "      <td>1</td>\n",
       "    </tr>\n",
       "  </tbody>\n",
       "</table>\n",
       "</div>"
      ],
      "text/plain": [
       "                  FEC_EVENT  anio  mes  prev_conversions  \\\n",
       "USER_ID                                                    \n",
       "0       2018-01-01 09:56:47  2018    1               0.0   \n",
       "0       2018-01-01 09:57:19  2018    1               0.0   \n",
       "0       2018-01-01 09:57:48  2018    1               0.0   \n",
       "0       2018-01-01 09:57:48  2018    1               0.0   \n",
       "0       2018-01-01 09:57:49  2018    1               0.0   \n",
       "\n",
       "                                          PAGE_descripcion  \\\n",
       "USER_ID                                                      \n",
       "0                                      HB : MASIVO : LOGIN   \n",
       "0                                      HB : MASIVO : LOGIN   \n",
       "0        HB : EMINENT : CONSULTAS : RESUMEN DE PRODUCTO...   \n",
       "0        HB : EMINENT : CONSULTAS : ERRORES : INFORMACI...   \n",
       "0        HB : EMINENT : CONSULTAS : ERRORES : INFORMACI...   \n",
       "\n",
       "                  last_date  new_session session_id  label  prestamo  \\\n",
       "USER_ID                                                                \n",
       "0                       NaT            1        0_1    0.0         0   \n",
       "0       2018-01-01 09:56:47            0        0_1    0.0         0   \n",
       "0       2018-01-01 09:57:19            0        0_1    0.0         0   \n",
       "0       2018-01-01 09:57:48            0        0_1    0.0         0   \n",
       "0       2018-01-01 09:57:48            0        0_1    0.0         0   \n",
       "\n",
       "         transferencia  inversiones  solicitud  quiero  pagos  eminent  \n",
       "USER_ID                                                                 \n",
       "0                    0            0          0       0      0        0  \n",
       "0                    0            0          0       0      0        0  \n",
       "0                    0            0          0       0      0        1  \n",
       "0                    0            0          0       0      0        1  \n",
       "0                    0            0          0       0      0        1  "
      ]
     },
     "execution_count": 52,
     "metadata": {},
     "output_type": "execute_result"
    }
   ],
   "source": [
    "hist['prestamo'] = np.where(hist['PAGE_descripcion'].astype(str).str.contains('PRESTAMO'), 1, 0)\n",
    "hist['transferencia'] = np.where(hist['PAGE_descripcion'].astype(str).str.contains('TRANSFERENCIA'), 1, 0)\n",
    "hist['inversiones'] = np.where(hist['PAGE_descripcion'].astype(str).str.contains('INVERSIONES'), 1, 0)\n",
    "hist['solicitud'] = np.where(hist['PAGE_descripcion'].astype(str).str.contains('SOLICITAR'), 1, 0)\n",
    "hist['quiero'] = np.where(hist['PAGE_descripcion'].astype(str).str.contains('QUIERO'), 1, 0)\n",
    "hist['pagos'] = np.where(hist['PAGE_descripcion'].astype(str).str.contains('PAGOS'), 1, 0)\n",
    "hist['eminent'] = np.where(hist['PAGE_descripcion'].astype(str).str.contains('EMINENT'), 1, 0)\n",
    "hist.head()"
   ]
  },
  {
   "cell_type": "code",
   "execution_count": 21,
   "metadata": {},
   "outputs": [
    {
     "data": {
      "text/plain": [
       "188978"
      ]
     },
     "execution_count": 21,
     "metadata": {},
     "output_type": "execute_result"
    }
   ],
   "source": [
    "hist['solicitud'].sum()"
   ]
  },
  {
   "cell_type": "markdown",
   "metadata": {},
   "source": [
    "### Agrupo por user_id, mes, año"
   ]
  },
  {
   "cell_type": "code",
   "execution_count": 53,
   "metadata": {
    "collapsed": true
   },
   "outputs": [],
   "source": [
    "grouped_data = hist.groupby(['USER_ID','anio','mes'], as_index=False).agg({'new_session':'count', 'label':'sum'\n",
    "                                                                           , 'prestamo':'sum', 'transferencia':'sum'\n",
    "                                                                           , 'inversiones':'sum', 'solicitud':'sum'\n",
    "                                                                           , 'quiero':'sum', 'pagos':'sum'\n",
    "                                                                           , 'eminent':'sum'})\n",
    "grouped_data['label'] = np.where(grouped_data['label']> 0, 1, 0)"
   ]
  },
  {
   "cell_type": "code",
   "execution_count": 24,
   "metadata": {},
   "outputs": [
    {
     "data": {
      "image/png": "[encoded data removed]",
      "text/plain": [
       "<Figure size 432x288 with 1 Axes>"
      ]
     },
     "metadata": {},
     "output_type": "display_data"
    }
   ],
   "source": [
    "# Visitaron páginas de préstamos quienes convirtieron?\n",
    "plotdata = grouped_data.loc[:,('label','prestamo')].groupby('label').sum()\n",
    "plotdata.T.plot.bar(rot=0)\n",
    "plt.xlabel('')\n",
    "plt.ylabel('Cantidad de ingresos')\n",
    "plt.title('Usuarios que visitaron páginas relacionadas con préstamos')\n",
    "plt.show()"
   ]
  },
  {
   "cell_type": "code",
   "execution_count": 25,
   "metadata": {},
   "outputs": [
    {
     "data": {
      "image/png": "[encoded data removed]",
      "text/plain": [
       "<Figure size 432x288 with 1 Axes>"
      ]
     },
     "metadata": {},
     "output_type": "display_data"
    }
   ],
   "source": [
    "# Visitaron páginas de transferencias quienes convirtieron?\n",
    "plotdata = grouped_data.loc[:,('label','transferencia')].groupby('label').sum()\n",
    "plotdata.T.plot.bar(rot=0)\n",
    "plt.xlabel('')\n",
    "plt.ylabel('Cantidad de ingresos')\n",
    "plt.title('Usuarios que visitaron páginas relacionadas con transferencias')\n",
    "plt.show()"
   ]
  },
  {
   "cell_type": "code",
   "execution_count": 26,
   "metadata": {},
   "outputs": [
    {
     "data": {
      "image/png": "[encoded data removed]",
      "text/plain": [
       "<Figure size 432x288 with 1 Axes>"
      ]
     },
     "metadata": {},
     "output_type": "display_data"
    }
   ],
   "source": [
    "# Visitaron páginas de inversiones quienes convirtieron?\n",
    "plotdata = grouped_data.loc[:,('label','inversiones')].groupby('label').sum()\n",
    "plotdata.T.plot.bar(rot=0)\n",
    "plt.xlabel('')\n",
    "plt.ylabel('Cantidad de ingresos')\n",
    "plt.title('Usuarios que visitaron páginas relacionadas con inversiones')\n",
    "plt.show()"
   ]
  },
  {
   "cell_type": "code",
   "execution_count": 27,
   "metadata": {},
   "outputs": [
    {
     "data": {
      "image/png": "[encoded data removed]",
      "text/plain": [
       "<Figure size 432x288 with 1 Axes>"
      ]
     },
     "metadata": {},
     "output_type": "display_data"
    }
   ],
   "source": [
    "# Visitaron páginas de solicitudes quienes convirtieron?\n",
    "plotdata = grouped_data.loc[:,('label','solicitud')].groupby('label').sum()\n",
    "plotdata.T.plot.bar(rot=0)\n",
    "plt.xlabel('')\n",
    "plt.ylabel('Cantidad de ingresos')\n",
    "plt.title('Usuarios que visitaron páginas relacionadas con solicitudes')\n",
    "plt.show()"
   ]
  },
  {
   "cell_type": "code",
   "execution_count": 47,
   "metadata": {},
   "outputs": [
    {
     "data": {
      "image/png": "[encoded data removed]",
      "text/plain": [
       "<Figure size 432x288 with 1 Axes>"
      ]
     },
     "metadata": {},
     "output_type": "display_data"
    }
   ],
   "source": [
    "# Visitaron páginas de quiero quienes convirtieron?\n",
    "plotdata = grouped_data.loc[:,('label','quiero')].groupby('label').sum()\n",
    "plotdata.T.plot.bar(rot=0)\n",
    "plt.xlabel('')\n",
    "plt.ylabel('Cantidad de ingresos')\n",
    "plt.title('Usuarios que visitaron páginas relacionadas con quiero')\n",
    "plt.show()"
   ]
  },
  {
   "cell_type": "code",
   "execution_count": 50,
   "metadata": {},
   "outputs": [
    {
     "data": {
      "image/png": "[encoded data removed]",
      "text/plain": [
       "<Figure size 432x288 with 1 Axes>"
      ]
     },
     "metadata": {},
     "output_type": "display_data"
    }
   ],
   "source": [
    "# Visitaron páginas de pagos quienes convirtieron?\n",
    "plotdata = grouped_data.loc[:,('label','pagos')].groupby('label').sum()\n",
    "plotdata.T.plot.bar(rot=0)\n",
    "plt.xlabel('')\n",
    "plt.ylabel('Cantidad de ingresos')\n",
    "plt.title('Usuarios que visitaron páginas relacionadas con pagos')\n",
    "plt.show()"
   ]
  },
  {
   "cell_type": "code",
   "execution_count": 54,
   "metadata": {},
   "outputs": [
    {
     "data": {
      "image/png": "[encoded data removed]",
      "text/plain": [
       "<Figure size 432x288 with 1 Axes>"
      ]
     },
     "metadata": {},
     "output_type": "display_data"
    }
   ],
   "source": [
    "# Visitaron páginas de eminent quienes convirtieron?\n",
    "plotdata = grouped_data.loc[:,('label','eminent')].groupby('label').sum()\n",
    "plotdata.T.plot.bar(rot=0)\n",
    "plt.xlabel('')\n",
    "plt.ylabel('Cantidad de ingresos')\n",
    "plt.title('Usuarios que visitaron páginas relacionadas con eminent')\n",
    "plt.show()"
   ]
  },
  {
   "cell_type": "code",
   "execution_count": null,
   "metadata": {
    "collapsed": true
   },
   "outputs": [],
   "source": []
  }
 ],
 "metadata": {
  "kernelspec": {
   "display_name": "Python 3",
   "language": "python",
   "name": "python3"
  },
  "language_info": {
   "codemirror_mode": {
    "name": "ipython",
    "version": 3
   },
   "file_extension": ".py",
   "mimetype": "text/x-python",
   "name": "python",
   "nbconvert_exporter": "python",
   "pygments_lexer": "ipython3",
   "version": "3.6.9"
  }
 },
 "nbformat": 4,
 "nbformat_minor": 2
}
