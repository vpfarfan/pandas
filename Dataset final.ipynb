{
 "cells": [
  {
   "cell_type": "code",
   "execution_count": 1,
   "metadata": {
    "collapsed": true
   },
   "outputs": [],
   "source": [
    "import os\n",
    "import pandas as pd\n",
    "import numpy as np\n",
    "import matplotlib.pyplot as plt\n",
    "import seaborn as sns\n",
    "\n",
    "# Para tratamiento de fechas\n",
    "import datetime as dt\n",
    "from datetime import timedelta"
   ]
  },
  {
   "cell_type": "code",
   "execution_count": 2,
   "metadata": {
    "collapsed": true
   },
   "outputs": [],
   "source": [
    "os.chdir('D:/DS/Kaggle')"
   ]
  },
  {
   "cell_type": "code",
   "execution_count": 3,
   "metadata": {
    "collapsed": true
   },
   "outputs": [],
   "source": [
    "# Load data\n",
    "pageviews = pd.read_csv('./pageviews.csv')\n",
    "# content_category = pd.read_csv('./CONTENT_CATEGORY.csv')\n",
    "# content_category_bottom = pd.read_csv('./CONTENT_CATEGORY_BOTTOM.csv')\n",
    "# content_category_top = pd.read_csv('./CONTENT_CATEGORY_TOP.csv')\n",
    "device_data = pd.read_csv('./device_data.csv')\n",
    "# page = pd.read_csv('./PAGE.csv')\n",
    "# site_id = pd.read_csv('./SITE_ID.csv')\n",
    "conversiones = pd.read_csv('./conversiones.csv', dtype={'mes' : 'object', 'anio' : 'object', 'USER_ID' : 'object'})"
   ]
  },
  {
   "cell_type": "markdown",
   "metadata": {},
   "source": [
    "###  Procesamiento archivo conversiones"
   ]
  },
  {
   "cell_type": "markdown",
   "metadata": {},
   "source": [
    "Elimino el '.0' de los datos de conversiones"
   ]
  },
  {
   "cell_type": "code",
   "execution_count": 4,
   "metadata": {},
   "outputs": [
    {
     "data": {
      "text/html": [
       "<div>\n",
       "<style>\n",
       "    .dataframe thead tr:only-child th {\n",
       "        text-align: right;\n",
       "    }\n",
       "\n",
       "    .dataframe thead th {\n",
       "        text-align: left;\n",
       "    }\n",
       "\n",
       "    .dataframe tbody tr th {\n",
       "        vertical-align: top;\n",
       "    }\n",
       "</style>\n",
       "<table border=\"1\" class=\"dataframe\">\n",
       "  <thead>\n",
       "    <tr style=\"text-align: right;\">\n",
       "      <th></th>\n",
       "      <th>mes</th>\n",
       "      <th>anio</th>\n",
       "      <th>USER_ID</th>\n",
       "      <th>conversion</th>\n",
       "    </tr>\n",
       "  </thead>\n",
       "  <tbody>\n",
       "    <tr>\n",
       "      <th>0</th>\n",
       "      <td>7</td>\n",
       "      <td>2018</td>\n",
       "      <td>1410</td>\n",
       "      <td>1</td>\n",
       "    </tr>\n",
       "    <tr>\n",
       "      <th>1</th>\n",
       "      <td>8</td>\n",
       "      <td>2018</td>\n",
       "      <td>10755</td>\n",
       "      <td>1</td>\n",
       "    </tr>\n",
       "    <tr>\n",
       "      <th>2</th>\n",
       "      <td>8</td>\n",
       "      <td>2018</td>\n",
       "      <td>8270</td>\n",
       "      <td>1</td>\n",
       "    </tr>\n",
       "    <tr>\n",
       "      <th>3</th>\n",
       "      <td>10</td>\n",
       "      <td>2018</td>\n",
       "      <td>7558</td>\n",
       "      <td>1</td>\n",
       "    </tr>\n",
       "    <tr>\n",
       "      <th>4</th>\n",
       "      <td>9</td>\n",
       "      <td>2018</td>\n",
       "      <td>10731</td>\n",
       "      <td>1</td>\n",
       "    </tr>\n",
       "  </tbody>\n",
       "</table>\n",
       "</div>"
      ],
      "text/plain": [
       "   mes  anio  USER_ID  conversion\n",
       "0    7  2018     1410           1\n",
       "1    8  2018    10755           1\n",
       "2    8  2018     8270           1\n",
       "3   10  2018     7558           1\n",
       "4    9  2018    10731           1"
      ]
     },
     "execution_count": 4,
     "metadata": {},
     "output_type": "execute_result"
    }
   ],
   "source": [
    "conversiones['mes'] = pd.to_numeric(conversiones['mes'].str.replace('\\.0', ''))\n",
    "conversiones['anio'] = pd.to_numeric(conversiones['anio'].str.replace('\\.0', ''))\n",
    "conversiones['USER_ID'] = pd.to_numeric(conversiones['USER_ID'].str.replace('\\.0', ''))\n",
    "conversiones['conversion'] = 1\n",
    "conversiones.head()"
   ]
  },
  {
   "cell_type": "markdown",
   "metadata": {},
   "source": [
    "### Procesamiento archivo pageviews\n",
    "\n",
    "Crear columnas anio y mes"
   ]
  },
  {
   "cell_type": "code",
   "execution_count": 6,
   "metadata": {},
   "outputs": [
    {
     "data": {
      "text/html": [
       "<div>\n",
       "<style>\n",
       "    .dataframe thead tr:only-child th {\n",
       "        text-align: right;\n",
       "    }\n",
       "\n",
       "    .dataframe thead th {\n",
       "        text-align: left;\n",
       "    }\n",
       "\n",
       "    .dataframe tbody tr th {\n",
       "        vertical-align: top;\n",
       "    }\n",
       "</style>\n",
       "<table border=\"1\" class=\"dataframe\">\n",
       "  <thead>\n",
       "    <tr style=\"text-align: right;\">\n",
       "      <th></th>\n",
       "      <th>FEC_EVENT</th>\n",
       "      <th>PAGE</th>\n",
       "      <th>CONTENT_CATEGORY</th>\n",
       "      <th>CONTENT_CATEGORY_TOP</th>\n",
       "      <th>CONTENT_CATEGORY_BOTTOM</th>\n",
       "      <th>SITE_ID</th>\n",
       "      <th>ON_SITE_SEARCH_TERM</th>\n",
       "      <th>USER_ID</th>\n",
       "      <th>anio</th>\n",
       "      <th>mes</th>\n",
       "    </tr>\n",
       "  </thead>\n",
       "  <tbody>\n",
       "    <tr>\n",
       "      <th>0</th>\n",
       "      <td>2018-03-30 07:35:48</td>\n",
       "      <td>1</td>\n",
       "      <td>1</td>\n",
       "      <td>1</td>\n",
       "      <td>1</td>\n",
       "      <td>1</td>\n",
       "      <td>1</td>\n",
       "      <td>0</td>\n",
       "      <td>2018</td>\n",
       "      <td>3</td>\n",
       "    </tr>\n",
       "    <tr>\n",
       "      <th>1</th>\n",
       "      <td>2018-03-30 07:35:52</td>\n",
       "      <td>2</td>\n",
       "      <td>2</td>\n",
       "      <td>2</td>\n",
       "      <td>2</td>\n",
       "      <td>2</td>\n",
       "      <td>1</td>\n",
       "      <td>0</td>\n",
       "      <td>2018</td>\n",
       "      <td>3</td>\n",
       "    </tr>\n",
       "    <tr>\n",
       "      <th>2</th>\n",
       "      <td>2018-03-30 07:36:11</td>\n",
       "      <td>3</td>\n",
       "      <td>2</td>\n",
       "      <td>2</td>\n",
       "      <td>2</td>\n",
       "      <td>3</td>\n",
       "      <td>1</td>\n",
       "      <td>0</td>\n",
       "      <td>2018</td>\n",
       "      <td>3</td>\n",
       "    </tr>\n",
       "    <tr>\n",
       "      <th>3</th>\n",
       "      <td>2018-03-30 07:36:16</td>\n",
       "      <td>4</td>\n",
       "      <td>2</td>\n",
       "      <td>2</td>\n",
       "      <td>2</td>\n",
       "      <td>3</td>\n",
       "      <td>1</td>\n",
       "      <td>0</td>\n",
       "      <td>2018</td>\n",
       "      <td>3</td>\n",
       "    </tr>\n",
       "    <tr>\n",
       "      <th>4</th>\n",
       "      <td>2018-03-30 07:41:38</td>\n",
       "      <td>5</td>\n",
       "      <td>2</td>\n",
       "      <td>2</td>\n",
       "      <td>2</td>\n",
       "      <td>2</td>\n",
       "      <td>1</td>\n",
       "      <td>0</td>\n",
       "      <td>2018</td>\n",
       "      <td>3</td>\n",
       "    </tr>\n",
       "  </tbody>\n",
       "</table>\n",
       "</div>"
      ],
      "text/plain": [
       "            FEC_EVENT  PAGE  CONTENT_CATEGORY  CONTENT_CATEGORY_TOP  \\\n",
       "0 2018-03-30 07:35:48     1                 1                     1   \n",
       "1 2018-03-30 07:35:52     2                 2                     2   \n",
       "2 2018-03-30 07:36:11     3                 2                     2   \n",
       "3 2018-03-30 07:36:16     4                 2                     2   \n",
       "4 2018-03-30 07:41:38     5                 2                     2   \n",
       "\n",
       "   CONTENT_CATEGORY_BOTTOM  SITE_ID  ON_SITE_SEARCH_TERM  USER_ID  anio  mes  \n",
       "0                        1        1                    1        0  2018    3  \n",
       "1                        2        2                    1        0  2018    3  \n",
       "2                        2        3                    1        0  2018    3  \n",
       "3                        2        3                    1        0  2018    3  \n",
       "4                        2        2                    1        0  2018    3  "
      ]
     },
     "execution_count": 6,
     "metadata": {},
     "output_type": "execute_result"
    }
   ],
   "source": [
    "pageviews['USER_ID'] = pd.to_numeric(pageviews['USER_ID'])\n",
    "\n",
    "# Creo campos para hacer el join con el archivo conversiones\n",
    "pageviews['FEC_EVENT'] = pd.to_datetime(pageviews['FEC_EVENT'])\n",
    "pageviews['anio'] = pageviews['FEC_EVENT'].dt.year\n",
    "pageviews['mes'] = pageviews['FEC_EVENT'].dt.month\n",
    "pageviews.head()"
   ]
  },
  {
   "cell_type": "markdown",
   "metadata": {},
   "source": [
    "### Merge datasets pageviews y conversiones\n",
    "Hago un join y lleno con 0 en los casos que no hubo conversion"
   ]
  },
  {
   "cell_type": "code",
   "execution_count": 7,
   "metadata": {},
   "outputs": [
    {
     "data": {
      "text/html": [
       "<div>\n",
       "<style>\n",
       "    .dataframe thead tr:only-child th {\n",
       "        text-align: right;\n",
       "    }\n",
       "\n",
       "    .dataframe thead th {\n",
       "        text-align: left;\n",
       "    }\n",
       "\n",
       "    .dataframe tbody tr th {\n",
       "        vertical-align: top;\n",
       "    }\n",
       "</style>\n",
       "<table border=\"1\" class=\"dataframe\">\n",
       "  <thead>\n",
       "    <tr style=\"text-align: right;\">\n",
       "      <th></th>\n",
       "      <th>FEC_EVENT</th>\n",
       "      <th>PAGE</th>\n",
       "      <th>CONTENT_CATEGORY</th>\n",
       "      <th>CONTENT_CATEGORY_TOP</th>\n",
       "      <th>CONTENT_CATEGORY_BOTTOM</th>\n",
       "      <th>SITE_ID</th>\n",
       "      <th>ON_SITE_SEARCH_TERM</th>\n",
       "      <th>USER_ID</th>\n",
       "      <th>anio</th>\n",
       "      <th>mes</th>\n",
       "      <th>conversion</th>\n",
       "    </tr>\n",
       "  </thead>\n",
       "  <tbody>\n",
       "    <tr>\n",
       "      <th>0</th>\n",
       "      <td>2018-03-30 07:35:48</td>\n",
       "      <td>1</td>\n",
       "      <td>1</td>\n",
       "      <td>1</td>\n",
       "      <td>1</td>\n",
       "      <td>1</td>\n",
       "      <td>1</td>\n",
       "      <td>0</td>\n",
       "      <td>2018</td>\n",
       "      <td>3</td>\n",
       "      <td>0.0</td>\n",
       "    </tr>\n",
       "    <tr>\n",
       "      <th>1</th>\n",
       "      <td>2018-03-30 07:35:52</td>\n",
       "      <td>2</td>\n",
       "      <td>2</td>\n",
       "      <td>2</td>\n",
       "      <td>2</td>\n",
       "      <td>2</td>\n",
       "      <td>1</td>\n",
       "      <td>0</td>\n",
       "      <td>2018</td>\n",
       "      <td>3</td>\n",
       "      <td>0.0</td>\n",
       "    </tr>\n",
       "    <tr>\n",
       "      <th>2</th>\n",
       "      <td>2018-03-30 07:36:11</td>\n",
       "      <td>3</td>\n",
       "      <td>2</td>\n",
       "      <td>2</td>\n",
       "      <td>2</td>\n",
       "      <td>3</td>\n",
       "      <td>1</td>\n",
       "      <td>0</td>\n",
       "      <td>2018</td>\n",
       "      <td>3</td>\n",
       "      <td>0.0</td>\n",
       "    </tr>\n",
       "    <tr>\n",
       "      <th>3</th>\n",
       "      <td>2018-03-30 07:36:16</td>\n",
       "      <td>4</td>\n",
       "      <td>2</td>\n",
       "      <td>2</td>\n",
       "      <td>2</td>\n",
       "      <td>3</td>\n",
       "      <td>1</td>\n",
       "      <td>0</td>\n",
       "      <td>2018</td>\n",
       "      <td>3</td>\n",
       "      <td>0.0</td>\n",
       "    </tr>\n",
       "    <tr>\n",
       "      <th>4</th>\n",
       "      <td>2018-03-30 07:41:38</td>\n",
       "      <td>5</td>\n",
       "      <td>2</td>\n",
       "      <td>2</td>\n",
       "      <td>2</td>\n",
       "      <td>2</td>\n",
       "      <td>1</td>\n",
       "      <td>0</td>\n",
       "      <td>2018</td>\n",
       "      <td>3</td>\n",
       "      <td>0.0</td>\n",
       "    </tr>\n",
       "  </tbody>\n",
       "</table>\n",
       "</div>"
      ],
      "text/plain": [
       "            FEC_EVENT  PAGE  CONTENT_CATEGORY  CONTENT_CATEGORY_TOP  \\\n",
       "0 2018-03-30 07:35:48     1                 1                     1   \n",
       "1 2018-03-30 07:35:52     2                 2                     2   \n",
       "2 2018-03-30 07:36:11     3                 2                     2   \n",
       "3 2018-03-30 07:36:16     4                 2                     2   \n",
       "4 2018-03-30 07:41:38     5                 2                     2   \n",
       "\n",
       "   CONTENT_CATEGORY_BOTTOM  SITE_ID  ON_SITE_SEARCH_TERM  USER_ID  anio  mes  \\\n",
       "0                        1        1                    1        0  2018    3   \n",
       "1                        2        2                    1        0  2018    3   \n",
       "2                        2        3                    1        0  2018    3   \n",
       "3                        2        3                    1        0  2018    3   \n",
       "4                        2        2                    1        0  2018    3   \n",
       "\n",
       "   conversion  \n",
       "0         0.0  \n",
       "1         0.0  \n",
       "2         0.0  \n",
       "3         0.0  \n",
       "4         0.0  "
      ]
     },
     "execution_count": 7,
     "metadata": {},
     "output_type": "execute_result"
    }
   ],
   "source": [
    "data = pd.merge(pageviews, conversiones, how='left')\n",
    "data['conversion'] = data['conversion'].replace(np.nan, 0)\n",
    "data.head()"
   ]
  },
  {
   "cell_type": "code",
   "execution_count": 8,
   "metadata": {},
   "outputs": [
    {
     "name": "stdout",
     "output_type": "stream",
     "text": [
      "Usuarios con conversión en el último cuarto:\n",
      "309\n",
      "Usuarios sin conversión en el último cuarto:\n",
      "11343\n"
     ]
    }
   ],
   "source": [
    "print('Usuarios con conversión en el último cuarto:')\n",
    "print(data.loc[(data['mes'] >= 10) & (data['conversion'] == 1.0),:]['USER_ID'].nunique())\n",
    "print('Usuarios sin conversión en el último cuarto:')\n",
    "print(data.loc[(data['mes'] >= 10) & (data['conversion'] != 1.0),:]['USER_ID'].nunique())"
   ]
  },
  {
   "cell_type": "markdown",
   "metadata": {
    "collapsed": true
   },
   "source": [
    "### Sesiones por usuario"
   ]
  },
  {
   "cell_type": "code",
   "execution_count": 9,
   "metadata": {},
   "outputs": [
    {
     "name": "stdout",
     "output_type": "stream",
     "text": [
      "              FEC_EVENT  PAGE  CONTENT_CATEGORY  CONTENT_CATEGORY_TOP  \\\n",
      "284 2018-01-01 09:56:47    14                 4                     2   \n",
      "285 2018-01-01 09:57:19    14                 4                     2   \n",
      "286 2018-01-01 09:57:48    12                 4                     2   \n",
      "287 2018-01-01 09:57:48    10                 4                     2   \n",
      "288 2018-01-01 09:57:49    11                 4                     2   \n",
      "\n",
      "     CONTENT_CATEGORY_BOTTOM  SITE_ID  ON_SITE_SEARCH_TERM  USER_ID  anio  \\\n",
      "284                        4        2                    1        0  2018   \n",
      "285                        4        2                    1        0  2018   \n",
      "286                        4        2                    1        0  2018   \n",
      "287                        4        2                    1        0  2018   \n",
      "288                        4        2                    1        0  2018   \n",
      "\n",
      "     mes  conversion           last_date  new_session session_id  \n",
      "284    1         0.0                 NaT            1        0_1  \n",
      "285    1         0.0 2018-01-01 09:56:47            0        0_1  \n",
      "286    1         0.0 2018-01-01 09:57:19            0        0_1  \n",
      "287    1         0.0 2018-01-01 09:57:48            0        0_1  \n",
      "288    1         0.0 2018-01-01 09:57:48            0        0_1  \n"
     ]
    }
   ],
   "source": [
    "# Definimos un límite de tiempo entre eventos (Cuánto tiempo pasa hasta que expira la sesión?)\n",
    "T = timedelta(seconds=30*60)\n",
    "\n",
    "# data = data.loc[:,['USER_ID', 'FEC_EVENT', 'anio', 'mes']]\n",
    "# Ordenamos el dataset por usuario y fecha de evento\n",
    "data = data.sort_values(by=['USER_ID','FEC_EVENT'])\n",
    "\n",
    "# Agregamos una columna con la fecha de evento anterior\n",
    "data['last_date'] = data.groupby(['USER_ID'])['FEC_EVENT'].shift()\n",
    "\n",
    "# Crear flag de nueva sesión cada vez que hay un nuevo ingreso\n",
    "data['new_session'] = (((data['FEC_EVENT']\n",
    "                            - data['last_date'])>=T) | (data['last_date'].isnull())).astype(int)\n",
    "data['inc'] = data.groupby('USER_ID')['new_session'].cumsum()\n",
    "\n",
    "# Creamos el id de sesión\n",
    "data['session_id'] = data['USER_ID'].astype(str) + '_' + data['inc'].astype(str)\n",
    "data = data.drop('inc', axis=1)\n",
    "\n",
    "print(data.head())"
   ]
  },
  {
   "cell_type": "markdown",
   "metadata": {},
   "source": [
    "# Agrupar por id de usuario, año y mes para el dataset final"
   ]
  },
  {
   "cell_type": "markdown",
   "metadata": {},
   "source": [
    "Para cada usuario, año y mes, tengo la cantidad de sesiones, si convirtió o no en ese mes, y la fecha del último evento"
   ]
  },
  {
   "cell_type": "code",
   "execution_count": 11,
   "metadata": {},
   "outputs": [
    {
     "data": {
      "text/plain": [
       "(104255, 6)"
      ]
     },
     "execution_count": 11,
     "metadata": {},
     "output_type": "execute_result"
    }
   ],
   "source": [
    "grouped_data = data.groupby(['USER_ID','anio','mes'], as_index=False).agg({'new_session':'count', 'conversion':'sum', 'FEC_EVENT':'max'})\n",
    "grouped_data['conversion'] = np.where(grouped_data['conversion']> 0, 1, 0)\n",
    "\n",
    "grouped_data.shape"
   ]
  },
  {
   "cell_type": "markdown",
   "metadata": {},
   "source": [
    "## Dataset para entrenar el modelo\n",
    "Entrenamos con los datos de los meses 1 a 9 de 2018, para luego predecir en el último trimestre del 2018\n",
    "\n",
    "Features:\n",
    "- promedio de sesiones por mes\n",
    "- cantidad de conversiones anteriores\n",
    "- tiempo desde el último evento"
   ]
  },
  {
   "cell_type": "code",
   "execution_count": 18,
   "metadata": {
    "collapsed": true
   },
   "outputs": [],
   "source": [
    "byuser = grouped_data.loc[grouped_data['mes'] < 10,]\n",
    "byuser = byuser.groupby('USER_ID', as_index=False).agg({'new_session':'mean', 'conversion':'sum', 'FEC_EVENT':'max'})\n",
    "byuser = byuser.rename(columns = {'conversion':'prev_conversions','new_session':'session_count'\n",
    "                                  , 'FEC_EVENT':'last_event'})\n",
    "byuser['time_since_last_event'] = ((dt.datetime.now() - byuser['last_event'])).astype('timedelta64[s]')\n",
    "byuser = byuser.drop('last_event', axis = 1)"
   ]
  },
  {
   "cell_type": "markdown",
   "metadata": {},
   "source": [
    "#### Agregamos los labels"
   ]
  },
  {
   "cell_type": "code",
   "execution_count": 19,
   "metadata": {},
   "outputs": [
    {
     "data": {
      "text/html": [
       "<div>\n",
       "<style>\n",
       "    .dataframe thead tr:only-child th {\n",
       "        text-align: right;\n",
       "    }\n",
       "\n",
       "    .dataframe thead th {\n",
       "        text-align: left;\n",
       "    }\n",
       "\n",
       "    .dataframe tbody tr th {\n",
       "        vertical-align: top;\n",
       "    }\n",
       "</style>\n",
       "<table border=\"1\" class=\"dataframe\">\n",
       "  <thead>\n",
       "    <tr style=\"text-align: right;\">\n",
       "      <th></th>\n",
       "      <th>session_count</th>\n",
       "      <th>prev_conversions</th>\n",
       "      <th>time_since_last_event</th>\n",
       "      <th>conversion</th>\n",
       "    </tr>\n",
       "    <tr>\n",
       "      <th>USER_ID</th>\n",
       "      <th></th>\n",
       "      <th></th>\n",
       "      <th></th>\n",
       "      <th></th>\n",
       "    </tr>\n",
       "  </thead>\n",
       "  <tbody>\n",
       "    <tr>\n",
       "      <th>0</th>\n",
       "      <td>545.777778</td>\n",
       "      <td>0</td>\n",
       "      <td>26187106.0</td>\n",
       "      <td>0</td>\n",
       "    </tr>\n",
       "    <tr>\n",
       "      <th>1</th>\n",
       "      <td>181.555556</td>\n",
       "      <td>0</td>\n",
       "      <td>26184518.0</td>\n",
       "      <td>0</td>\n",
       "    </tr>\n",
       "    <tr>\n",
       "      <th>2</th>\n",
       "      <td>190.777778</td>\n",
       "      <td>0</td>\n",
       "      <td>26432430.0</td>\n",
       "      <td>0</td>\n",
       "    </tr>\n",
       "    <tr>\n",
       "      <th>3</th>\n",
       "      <td>172.666667</td>\n",
       "      <td>0</td>\n",
       "      <td>26374911.0</td>\n",
       "      <td>0</td>\n",
       "    </tr>\n",
       "    <tr>\n",
       "      <th>4</th>\n",
       "      <td>275.333333</td>\n",
       "      <td>0</td>\n",
       "      <td>26438995.0</td>\n",
       "      <td>0</td>\n",
       "    </tr>\n",
       "  </tbody>\n",
       "</table>\n",
       "</div>"
      ],
      "text/plain": [
       "         session_count  prev_conversions  time_since_last_event  conversion\n",
       "USER_ID                                                                    \n",
       "0           545.777778                 0             26187106.0           0\n",
       "1           181.555556                 0             26184518.0           0\n",
       "2           190.777778                 0             26432430.0           0\n",
       "3           172.666667                 0             26374911.0           0\n",
       "4           275.333333                 0             26438995.0           0"
      ]
     },
     "execution_count": 19,
     "metadata": {},
     "output_type": "execute_result"
    }
   ],
   "source": [
    "# Convirtieron en el último cuarto?\n",
    "labels = grouped_data.loc[grouped_data['mes'] >= 10,]\n",
    "labels = labels.groupby('USER_ID', as_index=False).agg({'conversion':'sum'})\n",
    "labels['conversion'] = np.where(labels['conversion']> 0, 1, 0)\n",
    "\n",
    "byuser = pd.merge(byuser, labels, how='inner')\n",
    "byuser = byuser.set_index('USER_ID', drop=True)\n",
    "byuser.head()"
   ]
  },
  {
   "cell_type": "code",
   "execution_count": 14,
   "metadata": {
    "collapsed": true
   },
   "outputs": [],
   "source": [
    "byuser.to_csv('train.csv', sep=',', header=True)"
   ]
  },
  {
   "cell_type": "markdown",
   "metadata": {},
   "source": [
    "## Dataset para predecir\n",
    "Predecimos con los datos de todo 2018 si va a haber una conversión en el primer trimestre del 2019"
   ]
  },
  {
   "cell_type": "code",
   "execution_count": 15,
   "metadata": {},
   "outputs": [
    {
     "data": {
      "text/html": [
       "<div>\n",
       "<style>\n",
       "    .dataframe thead tr:only-child th {\n",
       "        text-align: right;\n",
       "    }\n",
       "\n",
       "    .dataframe thead th {\n",
       "        text-align: left;\n",
       "    }\n",
       "\n",
       "    .dataframe tbody tr th {\n",
       "        vertical-align: top;\n",
       "    }\n",
       "</style>\n",
       "<table border=\"1\" class=\"dataframe\">\n",
       "  <thead>\n",
       "    <tr style=\"text-align: right;\">\n",
       "      <th></th>\n",
       "      <th>session_count</th>\n",
       "      <th>prev_conversions</th>\n",
       "      <th>time_since_last_event</th>\n",
       "    </tr>\n",
       "    <tr>\n",
       "      <th>USER_ID</th>\n",
       "      <th></th>\n",
       "      <th></th>\n",
       "      <th></th>\n",
       "    </tr>\n",
       "  </thead>\n",
       "  <tbody>\n",
       "    <tr>\n",
       "      <th>0</th>\n",
       "      <td>6431</td>\n",
       "      <td>0</td>\n",
       "      <td>18275252.0</td>\n",
       "    </tr>\n",
       "    <tr>\n",
       "      <th>1</th>\n",
       "      <td>2111</td>\n",
       "      <td>0</td>\n",
       "      <td>18312851.0</td>\n",
       "    </tr>\n",
       "    <tr>\n",
       "      <th>2</th>\n",
       "      <td>2368</td>\n",
       "      <td>0</td>\n",
       "      <td>18588448.0</td>\n",
       "    </tr>\n",
       "    <tr>\n",
       "      <th>3</th>\n",
       "      <td>1935</td>\n",
       "      <td>0</td>\n",
       "      <td>18347621.0</td>\n",
       "    </tr>\n",
       "    <tr>\n",
       "      <th>4</th>\n",
       "      <td>3105</td>\n",
       "      <td>0</td>\n",
       "      <td>18480079.0</td>\n",
       "    </tr>\n",
       "  </tbody>\n",
       "</table>\n",
       "</div>"
      ],
      "text/plain": [
       "         session_count  prev_conversions  time_since_last_event\n",
       "USER_ID                                                        \n",
       "0                 6431                 0             18275252.0\n",
       "1                 2111                 0             18312851.0\n",
       "2                 2368                 0             18588448.0\n",
       "3                 1935                 0             18347621.0\n",
       "4                 3105                 0             18480079.0"
      ]
     },
     "execution_count": 15,
     "metadata": {},
     "output_type": "execute_result"
    }
   ],
   "source": [
    "final = grouped_data.groupby('USER_ID', as_index=False).agg({'new_session':'sum', 'conversion':'sum', 'FEC_EVENT':'max'})\n",
    "final = final.rename(columns = {'conversion':'prev_conversions','new_session':'session_count'\n",
    "                                  , 'FEC_EVENT':'last_event'})\n",
    "final['time_since_last_event'] = ((dt.datetime.now() - final['last_event'])).astype('timedelta64[s]')\n",
    "final = final.drop('last_event', axis = 1)\n",
    "final = final.set_index('USER_ID', drop=True)\n",
    "final.head()"
   ]
  },
  {
   "cell_type": "code",
   "execution_count": 16,
   "metadata": {
    "collapsed": true
   },
   "outputs": [],
   "source": [
    "final.to_csv('test.csv', sep=',', header=True)"
   ]
  },
  {
   "cell_type": "code",
   "execution_count": null,
   "metadata": {
    "collapsed": true
   },
   "outputs": [],
   "source": []
  }
 ],
 "metadata": {
  "kernelspec": {
   "display_name": "Python 3",
   "language": "python",
   "name": "python3"
  },
  "language_info": {
   "codemirror_mode": {
    "name": "ipython",
    "version": 3
   },
   "file_extension": ".py",
   "mimetype": "text/x-python",
   "name": "python",
   "nbconvert_exporter": "python",
   "pygments_lexer": "ipython3",
   "version": "3.6.2"
  }
 },
 "nbformat": 4,
 "nbformat_minor": 2
}
